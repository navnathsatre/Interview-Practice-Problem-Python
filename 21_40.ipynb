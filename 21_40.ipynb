{
 "cells": [
  {
   "cell_type": "markdown",
   "id": "0d46328e",
   "metadata": {},
   "source": [
    "## 21. Write a program that will swap numbers"
   ]
  },
  {
   "cell_type": "code",
   "execution_count": 1,
   "id": "e3409af0",
   "metadata": {},
   "outputs": [
    {
     "name": "stdout",
     "output_type": "stream",
     "text": [
      "Enter first number: 32\n",
      "Enter second number: 5\n",
      "value of first:  5\n",
      "value of second:  32\n"
     ]
    }
   ],
   "source": [
    "# 1 using temp variable\n",
    "a = int(input(\"Enter first number: \"))\n",
    "b = int(input(\"Enter second number: \"))\n",
    "temp = a\n",
    "a = b\n",
    "b = temp\n",
    "print(\"value of first: \", a)\n",
    "print(\"value of second: \", b)"
   ]
  },
  {
   "cell_type": "code",
   "execution_count": 2,
   "id": "a803abff",
   "metadata": {},
   "outputs": [
    {
     "name": "stdout",
     "output_type": "stream",
     "text": [
      "Enter first number: 2\n",
      "Enter second number: 6\n",
      "value of first:  6\n",
      "value of second:  2\n"
     ]
    }
   ],
   "source": [
    "# 2 using inbuilt method\n",
    "a = int(input(\"Enter first number: \"))\n",
    "b = int(input(\"Enter second number: \"))\n",
    "a,b = b,a\n",
    "print(\"value of first: \", a)\n",
    "print(\"value of second: \", b)"
   ]
  },
  {
   "cell_type": "code",
   "execution_count": 3,
   "id": "3c29674d",
   "metadata": {},
   "outputs": [
    {
     "name": "stdout",
     "output_type": "stream",
     "text": [
      "Enter first number: 8\n",
      "Enter second number: -6\n",
      "value of first:  -6\n",
      "value of second:  8\n"
     ]
    }
   ],
   "source": [
    "# 3 using XOR\n",
    "a = int(input(\"Enter first number: \"))\n",
    "b = int(input(\"Enter second number: \"))\n",
    "\n",
    "a = a ^ b\n",
    "b = a ^ b\n",
    "a = a ^ b\n",
    "\n",
    "print(\"value of first: \", a)\n",
    "print(\"value of second: \", b)"
   ]
  },
  {
   "cell_type": "code",
   "execution_count": 4,
   "id": "d62a603b",
   "metadata": {},
   "outputs": [
    {
     "name": "stdout",
     "output_type": "stream",
     "text": [
      "Enter first number: -4\n",
      "Enter second number: 9\n",
      "value of first:  9\n",
      "value of second:  -4\n"
     ]
    }
   ],
   "source": [
    "# 4 using *, / operator\n",
    "a = int(input(\"Enter first number: \"))\n",
    "b = int(input(\"Enter second number: \"))\n",
    "a = a * b\n",
    "b = a / b\n",
    "a = a / b\n",
    "print(\"value of first: \", int(a))\n",
    "print(\"value of second: \", int(b))"
   ]
  },
  {
   "cell_type": "code",
   "execution_count": 5,
   "id": "ce315222",
   "metadata": {},
   "outputs": [
    {
     "name": "stdout",
     "output_type": "stream",
     "text": [
      "Enter first number: 43\n",
      "Enter second number: -5\n",
      "value of first:  -5\n",
      "value of second:  43\n"
     ]
    }
   ],
   "source": [
    "# 5 using + - operator\n",
    "a = int(input(\"Enter first number: \"))\n",
    "b = int(input(\"Enter second number: \"))\n",
    "a = a + b\n",
    "b = a - b\n",
    "a = a - b\n",
    "print(\"value of first: \", a)\n",
    "print(\"value of second: \", b)"
   ]
  },
  {
   "cell_type": "markdown",
   "id": "8ce5b0d9",
   "metadata": {},
   "source": [
    "## 22. Write a program to find the sum of first n numbers, where n will be provided by the user. Eg if the user provides n=10 the output should be 55."
   ]
  },
  {
   "cell_type": "code",
   "execution_count": 6,
   "id": "7f171273",
   "metadata": {},
   "outputs": [
    {
     "name": "stdout",
     "output_type": "stream",
     "text": [
      "Enter number: 10\n",
      "Sum of first 10 numbers are 55\n"
     ]
    }
   ],
   "source": [
    "num = int(input(\"Enter number: \"))\n",
    "s = 0\n",
    "for i in range(1, num+1):\n",
    "    s += i\n",
    "print(\"Sum of first {} numbers are {}\".format(num, s))"
   ]
  },
  {
   "cell_type": "code",
   "execution_count": 7,
   "id": "92060e45",
   "metadata": {},
   "outputs": [
    {
     "name": "stdout",
     "output_type": "stream",
     "text": [
      "Enter number: 10\n",
      "Sum of first 10 numbers are 55\n"
     ]
    }
   ],
   "source": [
    "num = int(input(\"Enter number: \"))\n",
    "T = int((num*(num+1)/2))\n",
    "print(\"Sum of first {} numbers are {}\".format(num, T))"
   ]
  },
  {
   "cell_type": "markdown",
   "id": "47a21426",
   "metadata": {},
   "source": [
    "## 23. Write a program that can multiply 2 numbers provided by the user without using the * operator"
   ]
  },
  {
   "cell_type": "code",
   "execution_count": 8,
   "id": "5189b377",
   "metadata": {},
   "outputs": [
    {
     "name": "stdout",
     "output_type": "stream",
     "text": [
      "Enter the value for x : 3\n",
      "Enter the value for y : 5\n",
      "15\n"
     ]
    }
   ],
   "source": [
    "x = int(input(\"Enter the value for x : \"))\n",
    "y = int(input(\"Enter the value for y : \"))\n",
    "sum_ = 0\n",
    "for i in range(1,y+1):\n",
    "    sum_ = sum_ + x\n",
    "print(sum_)"
   ]
  },
  {
   "cell_type": "code",
   "execution_count": 9,
   "id": "032833a4",
   "metadata": {
    "code_folding": []
   },
   "outputs": [
    {
     "name": "stdout",
     "output_type": "stream",
     "text": [
      "Enter the value for x : -3\n",
      "Enter the value for y : 9\n"
     ]
    },
    {
     "data": {
      "text/plain": [
       "-27"
      ]
     },
     "execution_count": 9,
     "metadata": {},
     "output_type": "execute_result"
    }
   ],
   "source": [
    "x = int(input(\"Enter the value for x : \"))\n",
    "y = int(input(\"Enter the value for y : \"))\n",
    "def multiply(x,y):\n",
    "    if y < 0:\n",
    "        return -multiply(x,-y)\n",
    "    elif y == 0:\n",
    "        return 0\n",
    "    elif y == 1:\n",
    "        return x\n",
    "    else:\n",
    "        return x + multiply(x, y - 1)\n",
    "multiply(x, y)"
   ]
  },
  {
   "cell_type": "markdown",
   "id": "e3c0d944",
   "metadata": {},
   "source": [
    "## 24. Write a program that can find the factorial of a given number provided by the user. "
   ]
  },
  {
   "cell_type": "code",
   "execution_count": 10,
   "id": "63e49b8e",
   "metadata": {},
   "outputs": [
    {
     "name": "stdout",
     "output_type": "stream",
     "text": [
      "Enter the value for num : 4\n",
      "Factorial is 24\n"
     ]
    }
   ],
   "source": [
    "num = int(input(\"Enter the value for num : \"))\n",
    "factorial = 1\n",
    "if num < 0:\n",
    "    print(\"Factorial not possible\")\n",
    "elif num == 0:\n",
    "    print('Factorial is 1')\n",
    "else:\n",
    "    for i in range(1, num+1):\n",
    "        factorial = factorial * i\n",
    "    print(\"Factorial is {}\".format(factorial))"
   ]
  },
  {
   "cell_type": "markdown",
   "id": "c7c7a297",
   "metadata": {},
   "source": [
    "## 25. Write a program to print the first 25 odd numbers"
   ]
  },
  {
   "cell_type": "code",
   "execution_count": 11,
   "id": "33d00dcc",
   "metadata": {},
   "outputs": [
    {
     "name": "stdout",
     "output_type": "stream",
     "text": [
      "1 3 5 7 9 11 13 15 17 19 21 23 25 27 29 31 33 35 37 39 41 43 45 47 49 "
     ]
    }
   ],
   "source": [
    "for i in range(1, 51):\n",
    "    if i % 2 != 0:\n",
    "        print(i, end=' ')"
   ]
  },
  {
   "cell_type": "code",
   "execution_count": 12,
   "id": "ae2972fc",
   "metadata": {},
   "outputs": [
    {
     "name": "stdout",
     "output_type": "stream",
     "text": [
      "1 3 5 7 9 11 13 15 17 19 21 23 25 27 29 31 33 35 37 39 41 43 45 47 49 "
     ]
    }
   ],
   "source": [
    "flag = 0\n",
    "i = 1\n",
    "while True:\n",
    "    if i % 2 != 0:\n",
    "        print(i, end=' ')\n",
    "        flag = flag + 1\n",
    "    if flag == 25:\n",
    "        break\n",
    "    i = i + 1"
   ]
  },
  {
   "cell_type": "markdown",
   "id": "e470481e",
   "metadata": {},
   "source": [
    "## 26. Write a program to print whether a given number is prime number or not"
   ]
  },
  {
   "cell_type": "code",
   "execution_count": 13,
   "id": "6cc58361",
   "metadata": {},
   "outputs": [
    {
     "name": "stdout",
     "output_type": "stream",
     "text": [
      "Enter any number: 522\n",
      "Not a prime Number\n",
      "Because 2 X 261=522\n"
     ]
    }
   ],
   "source": [
    "num = int(input(\"Enter any number: \"))\n",
    "if num > 2:\n",
    "    for i in range(2, num):\n",
    "        if num % i == 0:\n",
    "            print(\"Not a prime Number\")\n",
    "            print(\"Because {} X {}={}\".format(i,num//i,num))\n",
    "            break\n",
    "        else:\n",
    "            print(\"Yes.. Prime Number\")\n",
    "            break\n",
    "elif num == 2:\n",
    "    print('Yes.. Prime Number')\n",
    "else:\n",
    "    print(\"Not a prime Number\")"
   ]
  },
  {
   "cell_type": "markdown",
   "id": "61bb35c9",
   "metadata": {},
   "source": [
    "## 27. Print all the armstrong numbers in the range of 100 to 1000"
   ]
  },
  {
   "cell_type": "code",
   "execution_count": 14,
   "id": "63a9ac37",
   "metadata": {},
   "outputs": [
    {
     "name": "stdout",
     "output_type": "stream",
     "text": [
      "153\n",
      "370\n",
      "371\n",
      "407\n"
     ]
    }
   ],
   "source": [
    "for num in range(100,1001):\n",
    "    temp = num\n",
    "    m = len(str(num))\n",
    "    add_sum = 0\n",
    "    while temp != 0:\n",
    "        k = temp % 10\n",
    "        add_sum = add_sum + k**m\n",
    "        temp = temp //10\n",
    "    if add_sum == num:\n",
    "        print(add_sum)"
   ]
  },
  {
   "cell_type": "markdown",
   "id": "973485f6",
   "metadata": {},
   "source": [
    "## 28. The current population of a town is 10000. The population of the town is increasing at the rate of 10% per year. You have to write a program to find out the population at the end of each of the last 10 years. \n",
    "For eg current population is 10000 so the output should be like this:\n",
    "10th year - 10000\n",
    "9th year - 9000\n",
    "8th year - 8100 and so on"
   ]
  },
  {
   "cell_type": "code",
   "execution_count": 18,
   "id": "0f5236d2",
   "metadata": {},
   "outputs": [
    {
     "name": "stdout",
     "output_type": "stream",
     "text": [
      "10000\n",
      "9000\n",
      "8100\n",
      "7290\n",
      "6561\n",
      "5904\n",
      "5314\n",
      "4782\n",
      "4304\n",
      "3874\n"
     ]
    }
   ],
   "source": [
    "flag = 0\n",
    "a = 10000\n",
    "print(a)\n",
    "while True:\n",
    "    b = a - ((10*a)/100)\n",
    "    a = b\n",
    "    print(int(a))\n",
    "    flag = flag + 1\n",
    "    if flag == 9:\n",
    "        break"
   ]
  },
  {
   "cell_type": "markdown",
   "id": "9f198d83",
   "metadata": {},
   "source": [
    "## 29. Write a program to print all the unique combinations of 1,2,3 and 4"
   ]
  },
  {
   "cell_type": "code",
   "execution_count": 21,
   "id": "fb0182bf",
   "metadata": {},
   "outputs": [
    {
     "name": "stdout",
     "output_type": "stream",
     "text": [
      "1 2\n",
      "1 3\n",
      "1 4\n",
      "2 1\n",
      "2 3\n",
      "2 4\n",
      "3 1\n",
      "3 2\n",
      "3 4\n",
      "4 1\n",
      "4 2\n",
      "4 3\n"
     ]
    }
   ],
   "source": [
    "for i in range(1,5):\n",
    "    for j in range(1,5):\n",
    "        if i!=j:\n",
    "            print(i,j)\n",
    "            "
   ]
  },
  {
   "cell_type": "markdown",
   "id": "8a3fb93d",
   "metadata": {},
   "source": [
    "## 30. User will provide 2 numbers you have to find the HCF of those 2 numbers(GCD)"
   ]
  },
  {
   "cell_type": "code",
   "execution_count": 26,
   "id": "828eb562",
   "metadata": {},
   "outputs": [
    {
     "name": "stdout",
     "output_type": "stream",
     "text": [
      "Enter the value for x: 1200\n",
      "Enter the value for y: 140\n"
     ]
    },
    {
     "data": {
      "text/plain": [
       "20"
      ]
     },
     "execution_count": 26,
     "metadata": {},
     "output_type": "execute_result"
    }
   ],
   "source": [
    "x = int(input(\"Enter the value for x: \"))\n",
    "y = int(input(\"Enter the value for y: \"))\n",
    "def calculate_hcf(x,y):\n",
    "    if x > y:\n",
    "        smaller = y\n",
    "    else:\n",
    "        smaller = x\n",
    "        \n",
    "    for i in range(1,smaller+1):\n",
    "        if ((x % i == 0) and (y % i == 0)):\n",
    "            hcf = i\n",
    "    return hcf\n",
    "calculate_hcf(x,y)"
   ]
  },
  {
   "cell_type": "markdown",
   "id": "afb6deef",
   "metadata": {},
   "source": [
    "## 31. User will provide 2 numbers you have to find the by LCM of those 2 numbers"
   ]
  },
  {
   "cell_type": "code",
   "execution_count": 28,
   "id": "5e27f4ff",
   "metadata": {},
   "outputs": [
    {
     "name": "stdout",
     "output_type": "stream",
     "text": [
      "Enter the value for x: 30\n",
      "Enter the value for y: 20\n"
     ]
    },
    {
     "data": {
      "text/plain": [
       "60"
      ]
     },
     "execution_count": 28,
     "metadata": {},
     "output_type": "execute_result"
    }
   ],
   "source": [
    "x = int(input(\"Enter the value for x: \"))\n",
    "y = int(input(\"Enter the value for y: \"))\n",
    "def calculate_lcm(x,y):\n",
    "    if x > y:\n",
    "        greater = x\n",
    "    else:\n",
    "        greater = y\n",
    "    while True:\n",
    "        if ((greater % x == 0) and (greater % y == 0)):\n",
    "            lcm = greater\n",
    "            break\n",
    "        greater += 1\n",
    "    return lcm\n",
    "calculate_lcm(x,y)"
   ]
  },
  {
   "cell_type": "markdown",
   "id": "90cd8471",
   "metadata": {},
   "source": [
    "## 32. Print first 25 prime numbers"
   ]
  },
  {
   "cell_type": "code",
   "execution_count": 32,
   "id": "e476512e",
   "metadata": {},
   "outputs": [
    {
     "name": "stdout",
     "output_type": "stream",
     "text": [
      "Enter range:25\n",
      "Prime numbers: 2 3 5 7 11 13 17 19 23 "
     ]
    }
   ],
   "source": [
    "# numr=int(input(\"Enter range:\"))\n",
    "\n",
    "# print(\"Prime numbers:\",end=' ')\n",
    "\n",
    "# for n in range(2,numr):\n",
    "\n",
    "#     for i in range(2,n):\n",
    "\n",
    "#         if(n%i==0):\n",
    "\n",
    "#             break\n",
    "\n",
    "#     else:\n",
    "\n",
    "#         print(n,end=' ') "
   ]
  },
  {
   "cell_type": "code",
   "execution_count": 36,
   "id": "0293d988",
   "metadata": {},
   "outputs": [
    {
     "name": "stdout",
     "output_type": "stream",
     "text": [
      "2 3 5 7 11 13 17 19 23 29 31 37 41 43 47 53 59 61 67 71 73 79 83 89 97 "
     ]
    }
   ],
   "source": [
    "num = 2\n",
    "counter = 0\n",
    "while (counter < 25):\n",
    "    for i in range(2, num):\n",
    "        if num % i == 0:\n",
    "            break\n",
    "    else:\n",
    "        print(num, end=' ')\n",
    "        counter += 1\n",
    "    num += 1"
   ]
  },
  {
   "cell_type": "markdown",
   "id": "c6ea5f00",
   "metadata": {},
   "source": [
    "## 33. Print the first 20 numbers of a Fibonacci series"
   ]
  },
  {
   "cell_type": "code",
   "execution_count": 45,
   "id": "c51cfb29",
   "metadata": {},
   "outputs": [
    {
     "name": "stdout",
     "output_type": "stream",
     "text": [
      "Enter the value: 20\n",
      "0 1 1 2 3 5 8 13 21 34 55 89 144 233 377 610 987 1597 2584 4181 "
     ]
    }
   ],
   "source": [
    "nterm = int(input(\"Enter the value: \"))\n",
    "n1, n2 = 0, 1\n",
    "count = 0\n",
    "if nterm <= 0:\n",
    "    print('please enter positive number')\n",
    "elif nterm == 1:\n",
    "    print(n1)\n",
    "else:\n",
    "    while count < nterm :\n",
    "        print(n1, end=' ')\n",
    "        nth = n1 + n2\n",
    "        n1 = n2\n",
    "        n2 = nth\n",
    "        count += 1"
   ]
  },
  {
   "cell_type": "markdown",
   "id": "48d6571f",
   "metadata": {},
   "source": [
    "## 34. Write a program to find the compound interest "
   ]
  },
  {
   "cell_type": "code",
   "execution_count": 49,
   "id": "547fb438",
   "metadata": {},
   "outputs": [
    {
     "name": "stdout",
     "output_type": "stream",
     "text": [
      "Enter principle amount: 30000\n",
      "Enter rate of interest: 9\n",
      "Enter time period: 2\n",
      "Your Compound Interest is:  5643.0\n"
     ]
    }
   ],
   "source": [
    "p = float(input(\"Enter principle amount: \"))\n",
    "r = float(input(\"Enter rate of interest: \"))\n",
    "t = float(input(\"Enter time period: \"))\n",
    "a = p*(1 + (r/100))**t\n",
    "CI = a - p\n",
    "print(\"Your Compound Interest is: \",round(CI,2))"
   ]
  },
  {
   "cell_type": "markdown",
   "id": "3ed99792",
   "metadata": {},
   "source": [
    "## 35. Write a Python program that accepts an integer (n) and computes the value of n+nn+nnn."
   ]
  },
  {
   "cell_type": "code",
   "execution_count": 52,
   "id": "ca3e2e90",
   "metadata": {},
   "outputs": [
    {
     "name": "stdout",
     "output_type": "stream",
     "text": [
      "Enter any integer: 4\n",
      "n is:  4\n",
      "nn is:  44\n",
      "nnn is  444\n",
      "Total is : 492\n"
     ]
    }
   ],
   "source": [
    "n = int(input(\"Enter any integer: \"))\n",
    "nn = int(str(n) + str(n))\n",
    "nnn = int(str(n) + str(n) + str(n))\n",
    "total = n + nn + nnn\n",
    "print(\"n is: \",n)\n",
    "print(\"nn is: \",nn)\n",
    "print(\"nnn is \",nnn)\n",
    "print(\"Total is :\", total)"
   ]
  },
  {
   "cell_type": "markdown",
   "id": "62c012cd",
   "metadata": {},
   "source": [
    "## 36. Take a number from the user and find the number of digits in it. "
   ]
  },
  {
   "cell_type": "code",
   "execution_count": 54,
   "id": "76bda8bd",
   "metadata": {},
   "outputs": [
    {
     "name": "stdout",
     "output_type": "stream",
     "text": [
      "Enter any number: 424.23\n",
      "Number of digits are:  6\n"
     ]
    }
   ],
   "source": [
    "num = float(input(\"Enter any number: \"))\n",
    "d = len(str(num))\n",
    "print(\"Number of digits are: \",d)"
   ]
  },
  {
   "cell_type": "markdown",
   "id": "bab01e95",
   "metadata": {},
   "source": [
    "## 37. Print all factors of a given number provided by the user."
   ]
  },
  {
   "cell_type": "code",
   "execution_count": 56,
   "id": "b3e0a446",
   "metadata": {},
   "outputs": [
    {
     "name": "stdout",
     "output_type": "stream",
     "text": [
      "Enter any number: 324\n",
      "Your factorials are:  [1, 2, 3, 4, 6, 9, 12, 18, 27, 36, 54, 81, 108, 162, 324]\n"
     ]
    }
   ],
   "source": [
    "num = int(input(\"Enter any number: \"))\n",
    "lst = []\n",
    "for i in range(1, num+1):\n",
    "    if num % i == 0:\n",
    "        lst.append(i)\n",
    "print(\"Your factorials are: \", lst)"
   ]
  },
  {
   "cell_type": "markdown",
   "id": "5d464c88",
   "metadata": {},
   "source": [
    "## 38. Find the reverse of a number provided by the user(any number of digit)"
   ]
  },
  {
   "cell_type": "code",
   "execution_count": 58,
   "id": "e12a8dba",
   "metadata": {},
   "outputs": [
    {
     "name": "stdout",
     "output_type": "stream",
     "text": [
      "Enter any number: 2523\n",
      "Your reverse number is:  3252\n"
     ]
    }
   ],
   "source": [
    "num = int(input(\"Enter any number: \"))\n",
    "r_num = int(str(num)[::-1])\n",
    "print(\"Your reverse number is: \",r_num)"
   ]
  },
  {
   "cell_type": "code",
   "execution_count": 60,
   "id": "99680bfd",
   "metadata": {},
   "outputs": [
    {
     "name": "stdout",
     "output_type": "stream",
     "text": [
      "Enter any number: 799097\n",
      "Your reverse number is:  790997\n"
     ]
    }
   ],
   "source": [
    "num = int(input(\"Enter any number: \"))\n",
    "r_num = 0\n",
    "while num != 0:\n",
    "    digit = num % 10\n",
    "    r_num = r_num * 10 + digit\n",
    "    num = num // 10\n",
    "print(\"Your reverse number is: \",r_num)"
   ]
  },
  {
   "cell_type": "markdown",
   "id": "c1450bf9",
   "metadata": {},
   "source": [
    "## 39. Write a program to print the following pattern"
   ]
  },
  {
   "cell_type": "code",
   "execution_count": null,
   "id": "b7265f90",
   "metadata": {
    "code_folding": []
   },
   "outputs": [],
   "source": [
    "            '''\n",
    "* * * * * \n",
    "* * * * * \n",
    "* * * * * \n",
    "* * * * * \n",
    "* * * * * \n",
    "            '''"
   ]
  },
  {
   "cell_type": "code",
   "execution_count": 129,
   "id": "4b56ce2b",
   "metadata": {},
   "outputs": [
    {
     "name": "stdout",
     "output_type": "stream",
     "text": [
      "* * * * * \n",
      "* * * * * \n",
      "* * * * * \n",
      "* * * * * \n",
      "* * * * * \n"
     ]
    }
   ],
   "source": [
    "row = 5\n",
    "for i in range(row):\n",
    "    for j in range(row):\n",
    "        print(\"*\",end=' ')\n",
    "    print()"
   ]
  },
  {
   "cell_type": "code",
   "execution_count": null,
   "id": "953f569d",
   "metadata": {},
   "outputs": [],
   "source": [
    "            '''\n",
    "* \n",
    "* * \n",
    "* * * \n",
    "* * * * \n",
    "* * * * * \n",
    "            '''"
   ]
  },
  {
   "cell_type": "code",
   "execution_count": 130,
   "id": "934024ec",
   "metadata": {},
   "outputs": [
    {
     "name": "stdout",
     "output_type": "stream",
     "text": [
      "* \n",
      "* * \n",
      "* * * \n",
      "* * * * \n",
      "* * * * * \n"
     ]
    }
   ],
   "source": [
    "row = 5 \n",
    "for i in range(row):\n",
    "    for j in range(i+1):\n",
    "        print(\"*\",end=' ')\n",
    "    print()"
   ]
  },
  {
   "cell_type": "code",
   "execution_count": null,
   "id": "cc97b8c5",
   "metadata": {},
   "outputs": [],
   "source": [
    "            '''\n",
    "* * * * * \n",
    "* * * * \n",
    "* * * \n",
    "* * \n",
    "* \n",
    "            '''"
   ]
  },
  {
   "cell_type": "code",
   "execution_count": 131,
   "id": "fa70eb74",
   "metadata": {},
   "outputs": [
    {
     "name": "stdout",
     "output_type": "stream",
     "text": [
      "* * * * * \n",
      "* * * * \n",
      "* * * \n",
      "* * \n",
      "* \n"
     ]
    }
   ],
   "source": [
    "row = 5\n",
    "for i in range(row):\n",
    "    for j in range(i,row):\n",
    "        print(\"*\",end=' ')\n",
    "    print()"
   ]
  },
  {
   "cell_type": "markdown",
   "id": "2c455784",
   "metadata": {},
   "source": [
    "## 40. Write a program to print the following pattern"
   ]
  },
  {
   "cell_type": "code",
   "execution_count": null,
   "id": "d765b6b9",
   "metadata": {},
   "outputs": [],
   "source": [
    "             '''\n",
    "          * \n",
    "        * * \n",
    "      * * * \n",
    "    * * * * \n",
    "  * * * * *  '''"
   ]
  },
  {
   "cell_type": "code",
   "execution_count": 132,
   "id": "e0a2b7e4",
   "metadata": {},
   "outputs": [
    {
     "name": "stdout",
     "output_type": "stream",
     "text": [
      "          * \n",
      "        * * \n",
      "      * * * \n",
      "    * * * * \n",
      "  * * * * * \n"
     ]
    }
   ],
   "source": [
    "row = 5\n",
    "for i in range(row):\n",
    "    for j in range(i,row):\n",
    "        print(\" \", end=' ')\n",
    "    for k in range(i+1):\n",
    "        print(\"*\",end=' ')\n",
    "    print()"
   ]
  },
  {
   "cell_type": "code",
   "execution_count": null,
   "id": "6d6a13f9",
   "metadata": {},
   "outputs": [],
   "source": [
    "                '''\n",
    "  * * * * * \n",
    "    * * * * \n",
    "      * * * \n",
    "        * * \n",
    "          * \n",
    "                '''"
   ]
  },
  {
   "cell_type": "code",
   "execution_count": 133,
   "id": "a97a03e5",
   "metadata": {},
   "outputs": [
    {
     "name": "stdout",
     "output_type": "stream",
     "text": [
      "  * * * * * \n",
      "    * * * * \n",
      "      * * * \n",
      "        * * \n",
      "          * \n"
     ]
    }
   ],
   "source": [
    "row = 5 \n",
    "for i in range(row):\n",
    "    for j in range(i+1):\n",
    "        print(\" \",end=' ')\n",
    "    for k in range(i,row):\n",
    "        print('*',end=' ')\n",
    "    print()"
   ]
  },
  {
   "cell_type": "code",
   "execution_count": null,
   "id": "bb26e4fc",
   "metadata": {},
   "outputs": [],
   "source": [
    "                    '''\n",
    "          * \n",
    "        * * * \n",
    "      * * * * * \n",
    "    * * * * * * * \n",
    "  * * * * * * * * *\n",
    "                      '''"
   ]
  },
  {
   "cell_type": "code",
   "execution_count": 138,
   "id": "30edec51",
   "metadata": {
    "scrolled": true
   },
   "outputs": [
    {
     "name": "stdout",
     "output_type": "stream",
     "text": [
      "          * \n",
      "        * * * \n",
      "      * * * * * \n",
      "    * * * * * * * \n",
      "  * * * * * * * * * \n"
     ]
    }
   ],
   "source": [
    "row = 5\n",
    "for i in range(row):\n",
    "    for j in range(i,row):\n",
    "        print(\" \",end=' ')\n",
    "    for k in range(i+1):\n",
    "        print(\"*\",end=' ')\n",
    "    for l in range(i):\n",
    "        print(\"*\",end=' ')\n",
    "    print()"
   ]
  },
  {
   "cell_type": "code",
   "execution_count": null,
   "id": "a1efc682",
   "metadata": {},
   "outputs": [],
   "source": []
  }
 ],
 "metadata": {
  "kernelspec": {
   "display_name": "Python 3 (ipykernel)",
   "language": "python",
   "name": "python3"
  },
  "language_info": {
   "codemirror_mode": {
    "name": "ipython",
    "version": 3
   },
   "file_extension": ".py",
   "mimetype": "text/x-python",
   "name": "python",
   "nbconvert_exporter": "python",
   "pygments_lexer": "ipython3",
   "version": "3.8.10"
  },
  "toc": {
   "base_numbering": 1,
   "nav_menu": {},
   "number_sections": true,
   "sideBar": true,
   "skip_h1_title": false,
   "title_cell": "Table of Contents",
   "title_sidebar": "Contents",
   "toc_cell": false,
   "toc_position": {
    "height": "calc(100% - 180px)",
    "left": "10px",
    "top": "150px",
    "width": "165px"
   },
   "toc_section_display": true,
   "toc_window_display": true
  },
  "varInspector": {
   "cols": {
    "lenName": 16,
    "lenType": 16,
    "lenVar": 40
   },
   "kernels_config": {
    "python": {
     "delete_cmd_postfix": "",
     "delete_cmd_prefix": "del ",
     "library": "var_list.py",
     "varRefreshCmd": "print(var_dic_list())"
    },
    "r": {
     "delete_cmd_postfix": ") ",
     "delete_cmd_prefix": "rm(",
     "library": "var_list.r",
     "varRefreshCmd": "cat(var_dic_list()) "
    }
   },
   "types_to_exclude": [
    "module",
    "function",
    "builtin_function_or_method",
    "instance",
    "_Feature"
   ],
   "window_display": false
  }
 },
 "nbformat": 4,
 "nbformat_minor": 5
}
