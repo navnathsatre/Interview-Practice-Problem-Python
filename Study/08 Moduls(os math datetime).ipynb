{
 "cells": [
  {
   "cell_type": "markdown",
   "id": "a7180f26",
   "metadata": {},
   "source": [
    "# os"
   ]
  },
  {
   "cell_type": "code",
   "execution_count": 1,
   "id": "982dd465",
   "metadata": {},
   "outputs": [],
   "source": [
    "import os"
   ]
  },
  {
   "cell_type": "code",
   "execution_count": null,
   "id": "432ce931",
   "metadata": {},
   "outputs": [],
   "source": [
    "os.chdir(r\"c:\\Uesr\\...\")"
   ]
  },
  {
   "cell_type": "code",
   "execution_count": 2,
   "id": "52758bb8",
   "metadata": {},
   "outputs": [
    {
     "data": {
      "text/plain": [
       "'/Users/navnathsatre/Desktop/practicepython/python_Rahul_Raghav/Moduls'"
      ]
     },
     "execution_count": 2,
     "metadata": {},
     "output_type": "execute_result"
    }
   ],
   "source": [
    "os.getcwd()"
   ]
  },
  {
   "cell_type": "code",
   "execution_count": 3,
   "id": "9e0d7ed0",
   "metadata": {},
   "outputs": [],
   "source": [
    "os.mkdir(\"ExcelR\")"
   ]
  },
  {
   "cell_type": "code",
   "execution_count": 4,
   "id": "351d8fca",
   "metadata": {},
   "outputs": [],
   "source": [
    "os.rmdir(\"ExcelR\")"
   ]
  },
  {
   "cell_type": "code",
   "execution_count": 5,
   "id": "852c50b2",
   "metadata": {},
   "outputs": [],
   "source": [
    "os.makedirs('ExcelR\\Data')"
   ]
  },
  {
   "cell_type": "code",
   "execution_count": 7,
   "id": "6ad7d89a",
   "metadata": {},
   "outputs": [],
   "source": [
    "os.removedirs('ExcelR\\Data')"
   ]
  },
  {
   "cell_type": "code",
   "execution_count": 8,
   "id": "d28c0370",
   "metadata": {},
   "outputs": [
    {
     "data": {
      "text/plain": [
       "['Untitled.ipynb', '.ipynb_checkpoints']"
      ]
     },
     "execution_count": 8,
     "metadata": {},
     "output_type": "execute_result"
    }
   ],
   "source": [
    "os.listdir(os.getcwd())"
   ]
  },
  {
   "cell_type": "code",
   "execution_count": 12,
   "id": "49ef211b",
   "metadata": {},
   "outputs": [
    {
     "name": "stdout",
     "output_type": "stream",
     "text": [
      "/Users/navnathsatre/Desktop/practicepython/python_Rahul_Raghav/Moduls\n",
      "['.ipynb_checkpoints']\n",
      "['Untitled.ipynb']\n",
      "--------------------------------------------------\n",
      "/Users/navnathsatre/Desktop/practicepython/python_Rahul_Raghav/Moduls/.ipynb_checkpoints\n",
      "[]\n",
      "['Untitled-checkpoint.ipynb']\n",
      "--------------------------------------------------\n"
     ]
    }
   ],
   "source": [
    "for (root, dirs, files ) in os.walk(os.getcwd(),topdown=True):\n",
    "    print(root)\n",
    "    print(dirs)\n",
    "    print(files)\n",
    "    print(50*\"-\")"
   ]
  },
  {
   "cell_type": "code",
   "execution_count": 14,
   "id": "267df018",
   "metadata": {},
   "outputs": [],
   "source": [
    "open('excelR_python.txt','w').close()"
   ]
  },
  {
   "cell_type": "code",
   "execution_count": 15,
   "id": "a019a3ce",
   "metadata": {},
   "outputs": [],
   "source": [
    "os.rename('excelR_python.txt','excelR_DA.txt')"
   ]
  },
  {
   "cell_type": "code",
   "execution_count": 16,
   "id": "a5e5cb25",
   "metadata": {},
   "outputs": [],
   "source": [
    "os.remove('excelR_DA.txt')"
   ]
  },
  {
   "cell_type": "code",
   "execution_count": 17,
   "id": "b31cb8a0",
   "metadata": {},
   "outputs": [],
   "source": [
    "open('excelR_python.txt','w').close()"
   ]
  },
  {
   "cell_type": "code",
   "execution_count": 18,
   "id": "801ecf49",
   "metadata": {},
   "outputs": [],
   "source": [
    "import shutil"
   ]
  },
  {
   "cell_type": "code",
   "execution_count": 19,
   "id": "8792615b",
   "metadata": {},
   "outputs": [
    {
     "data": {
      "text/plain": [
       "'excelR_python_copy.txt'"
      ]
     },
     "execution_count": 19,
     "metadata": {},
     "output_type": "execute_result"
    }
   ],
   "source": [
    "shutil.copy('excelR_python.txt','excelR_python_copy.txt')"
   ]
  },
  {
   "cell_type": "code",
   "execution_count": 20,
   "id": "ea61ff4a",
   "metadata": {},
   "outputs": [],
   "source": [
    "os.chmod('excelR_python.txt',751)"
   ]
  },
  {
   "cell_type": "markdown",
   "id": "82432f4f",
   "metadata": {},
   "source": [
    "# sys"
   ]
  },
  {
   "cell_type": "markdown",
   "id": "1ce95f8d",
   "metadata": {},
   "source": [
    "# user IDLE\n",
    "import sys\n",
    "if len (sys.argv) != 3:\n",
    "    print(\"USER: {} {} {}\".format(sys.argv[0],\"cust name\", acct num))\n",
    "    sys.exit()\n",
    "cust_name = sys.argv[1]\n",
    "acct_num = sys.argv[2]\n",
    "\n",
    "sys.print(\"Program Name: \",sys.argv[0])\n",
    "sys.print(\"Customer Name: \",sys.argv[1])\n",
    "sys.print(\"Account Number: \",sys.argv[2])"
   ]
  },
  {
   "cell_type": "code",
   "execution_count": 22,
   "id": "66ae9429",
   "metadata": {},
   "outputs": [],
   "source": [
    "import math"
   ]
  },
  {
   "cell_type": "code",
   "execution_count": 23,
   "id": "c98ffa82",
   "metadata": {},
   "outputs": [
    {
     "data": {
      "text/plain": [
       "120"
      ]
     },
     "execution_count": 23,
     "metadata": {},
     "output_type": "execute_result"
    }
   ],
   "source": [
    "math.factorial(5)"
   ]
  },
  {
   "cell_type": "code",
   "execution_count": 24,
   "id": "03d2c69c",
   "metadata": {},
   "outputs": [
    {
     "data": {
      "text/plain": [
       "3.0"
      ]
     },
     "execution_count": 24,
     "metadata": {},
     "output_type": "execute_result"
    }
   ],
   "source": [
    "math.log2(8)"
   ]
  },
  {
   "cell_type": "code",
   "execution_count": 25,
   "id": "a4bc8d27",
   "metadata": {},
   "outputs": [
    {
     "data": {
      "text/plain": [
       "4.19180654857877"
      ]
     },
     "execution_count": 25,
     "metadata": {},
     "output_type": "execute_result"
    }
   ],
   "source": [
    "math.log(100,3)"
   ]
  },
  {
   "cell_type": "code",
   "execution_count": 26,
   "id": "d4d5ba30",
   "metadata": {},
   "outputs": [
    {
     "data": {
      "text/plain": [
       "0.0"
      ]
     },
     "execution_count": 26,
     "metadata": {},
     "output_type": "execute_result"
    }
   ],
   "source": [
    "math.sin(0)"
   ]
  },
  {
   "cell_type": "code",
   "execution_count": 27,
   "id": "862ab329",
   "metadata": {},
   "outputs": [
    {
     "data": {
      "text/plain": [
       "0.5253219888177297"
      ]
     },
     "execution_count": 27,
     "metadata": {},
     "output_type": "execute_result"
    }
   ],
   "source": [
    "math.cos(45)"
   ]
  },
  {
   "cell_type": "code",
   "execution_count": 28,
   "id": "4deecffd",
   "metadata": {},
   "outputs": [
    {
     "data": {
      "text/plain": [
       "1.6197751905438615"
      ]
     },
     "execution_count": 28,
     "metadata": {},
     "output_type": "execute_result"
    }
   ],
   "source": [
    "math.tan(45)"
   ]
  },
  {
   "cell_type": "code",
   "execution_count": 29,
   "id": "bbaaed36",
   "metadata": {},
   "outputs": [
    {
     "data": {
      "text/plain": [
       "-0.4480736161291701"
      ]
     },
     "execution_count": 29,
     "metadata": {},
     "output_type": "execute_result"
    }
   ],
   "source": [
    "math.cos(90)"
   ]
  },
  {
   "cell_type": "code",
   "execution_count": 30,
   "id": "ca2be90b",
   "metadata": {},
   "outputs": [
    {
     "data": {
      "text/plain": [
       "1.0"
      ]
     },
     "execution_count": 30,
     "metadata": {},
     "output_type": "execute_result"
    }
   ],
   "source": [
    "math.cos(0)"
   ]
  },
  {
   "cell_type": "code",
   "execution_count": 31,
   "id": "fba265a9",
   "metadata": {},
   "outputs": [
    {
     "data": {
      "text/plain": [
       "76"
      ]
     },
     "execution_count": 31,
     "metadata": {},
     "output_type": "execute_result"
    }
   ],
   "source": [
    "math.ceil(75.7)"
   ]
  },
  {
   "cell_type": "code",
   "execution_count": 32,
   "id": "bb6a9a53",
   "metadata": {},
   "outputs": [
    {
     "data": {
      "text/plain": [
       "75"
      ]
     },
     "execution_count": 32,
     "metadata": {},
     "output_type": "execute_result"
    }
   ],
   "source": [
    "math.floor(75.7)"
   ]
  },
  {
   "cell_type": "markdown",
   "id": "f8e3748c",
   "metadata": {},
   "source": [
    "# datetime"
   ]
  },
  {
   "cell_type": "code",
   "execution_count": 33,
   "id": "e81084bf",
   "metadata": {},
   "outputs": [],
   "source": [
    "import datetime"
   ]
  },
  {
   "cell_type": "code",
   "execution_count": null,
   "id": "e44bbf2a",
   "metadata": {},
   "outputs": [],
   "source": [
    "timedelta ==> future/past date/time\n",
    "date\n",
    "time\n",
    "datetime"
   ]
  },
  {
   "cell_type": "code",
   "execution_count": 34,
   "id": "6600fc52",
   "metadata": {},
   "outputs": [],
   "source": [
    "dob = datetime.date(1956,1,15)"
   ]
  },
  {
   "cell_type": "code",
   "execution_count": 35,
   "id": "16d94a0f",
   "metadata": {},
   "outputs": [
    {
     "data": {
      "text/plain": [
       "datetime.date(1956, 1, 15)"
      ]
     },
     "execution_count": 35,
     "metadata": {},
     "output_type": "execute_result"
    }
   ],
   "source": [
    "dob"
   ]
  },
  {
   "cell_type": "code",
   "execution_count": 36,
   "id": "fbebf5c5",
   "metadata": {},
   "outputs": [
    {
     "data": {
      "text/plain": [
       "1956"
      ]
     },
     "execution_count": 36,
     "metadata": {},
     "output_type": "execute_result"
    }
   ],
   "source": [
    "dob.year"
   ]
  },
  {
   "cell_type": "code",
   "execution_count": 37,
   "id": "132bc40d",
   "metadata": {},
   "outputs": [
    {
     "data": {
      "text/plain": [
       "1"
      ]
     },
     "execution_count": 37,
     "metadata": {},
     "output_type": "execute_result"
    }
   ],
   "source": [
    "dob.month"
   ]
  },
  {
   "cell_type": "code",
   "execution_count": 38,
   "id": "2dd902f3",
   "metadata": {},
   "outputs": [
    {
     "data": {
      "text/plain": [
       "15"
      ]
     },
     "execution_count": 38,
     "metadata": {},
     "output_type": "execute_result"
    }
   ],
   "source": [
    "dob.day"
   ]
  },
  {
   "cell_type": "code",
   "execution_count": 39,
   "id": "8953a690",
   "metadata": {},
   "outputs": [],
   "source": [
    "today = datetime.date.today()"
   ]
  },
  {
   "cell_type": "code",
   "execution_count": 40,
   "id": "c78a14c2",
   "metadata": {},
   "outputs": [
    {
     "data": {
      "text/plain": [
       "datetime.date(2022, 6, 21)"
      ]
     },
     "execution_count": 40,
     "metadata": {},
     "output_type": "execute_result"
    }
   ],
   "source": [
    "today"
   ]
  },
  {
   "cell_type": "code",
   "execution_count": 42,
   "id": "6052fc54",
   "metadata": {},
   "outputs": [],
   "source": [
    "dt = datetime.timedelta(100)"
   ]
  },
  {
   "cell_type": "code",
   "execution_count": 43,
   "id": "9ef898c2",
   "metadata": {},
   "outputs": [
    {
     "data": {
      "text/plain": [
       "datetime.date(2022, 9, 29)"
      ]
     },
     "execution_count": 43,
     "metadata": {},
     "output_type": "execute_result"
    }
   ],
   "source": [
    "today + dt"
   ]
  },
  {
   "cell_type": "code",
   "execution_count": 44,
   "id": "f470d320",
   "metadata": {},
   "outputs": [
    {
     "data": {
      "text/plain": [
       "datetime.date(2022, 3, 13)"
      ]
     },
     "execution_count": 44,
     "metadata": {},
     "output_type": "execute_result"
    }
   ],
   "source": [
    "today - dt"
   ]
  },
  {
   "cell_type": "code",
   "execution_count": 45,
   "id": "08ecb1ea",
   "metadata": {},
   "outputs": [],
   "source": [
    "tday = datetime.datetime.now()"
   ]
  },
  {
   "cell_type": "code",
   "execution_count": 46,
   "id": "4acc73bd",
   "metadata": {},
   "outputs": [
    {
     "data": {
      "text/plain": [
       "datetime.datetime(2022, 6, 21, 8, 39, 30, 725737)"
      ]
     },
     "execution_count": 46,
     "metadata": {},
     "output_type": "execute_result"
    }
   ],
   "source": [
    "tday"
   ]
  },
  {
   "cell_type": "code",
   "execution_count": 47,
   "id": "b4eb4946",
   "metadata": {},
   "outputs": [
    {
     "data": {
      "text/plain": [
       "'Tue'"
      ]
     },
     "execution_count": 47,
     "metadata": {},
     "output_type": "execute_result"
    }
   ],
   "source": [
    "tday.strftime(\"%a\")"
   ]
  },
  {
   "cell_type": "code",
   "execution_count": 48,
   "id": "6da68799",
   "metadata": {},
   "outputs": [
    {
     "data": {
      "text/plain": [
       "'Tuesday'"
      ]
     },
     "execution_count": 48,
     "metadata": {},
     "output_type": "execute_result"
    }
   ],
   "source": [
    "tday.strftime(\"%A\")"
   ]
  },
  {
   "cell_type": "code",
   "execution_count": 49,
   "id": "76d6c108",
   "metadata": {},
   "outputs": [
    {
     "data": {
      "text/plain": [
       "'2'"
      ]
     },
     "execution_count": 49,
     "metadata": {},
     "output_type": "execute_result"
    }
   ],
   "source": [
    "tday.strftime(\"%w\")"
   ]
  },
  {
   "cell_type": "code",
   "execution_count": 50,
   "id": "4d321506",
   "metadata": {},
   "outputs": [
    {
     "data": {
      "text/plain": [
       "'21'"
      ]
     },
     "execution_count": 50,
     "metadata": {},
     "output_type": "execute_result"
    }
   ],
   "source": [
    "tday.strftime(\"%d\")"
   ]
  },
  {
   "cell_type": "code",
   "execution_count": 51,
   "id": "c8ba9a8d",
   "metadata": {},
   "outputs": [
    {
     "data": {
      "text/plain": [
       "'06'"
      ]
     },
     "execution_count": 51,
     "metadata": {},
     "output_type": "execute_result"
    }
   ],
   "source": [
    "tday.strftime(\"%m\")"
   ]
  },
  {
   "cell_type": "code",
   "execution_count": 52,
   "id": "3c3679f9",
   "metadata": {},
   "outputs": [
    {
     "data": {
      "text/plain": [
       "'Jun'"
      ]
     },
     "execution_count": 52,
     "metadata": {},
     "output_type": "execute_result"
    }
   ],
   "source": [
    "tday.strftime(\"%b\")"
   ]
  },
  {
   "cell_type": "code",
   "execution_count": 53,
   "id": "37f9db7c",
   "metadata": {},
   "outputs": [
    {
     "data": {
      "text/plain": [
       "'June'"
      ]
     },
     "execution_count": 53,
     "metadata": {},
     "output_type": "execute_result"
    }
   ],
   "source": [
    "tday.strftime(\"%B\")"
   ]
  },
  {
   "cell_type": "code",
   "execution_count": 54,
   "id": "f4fd5de4",
   "metadata": {},
   "outputs": [
    {
     "data": {
      "text/plain": [
       "'22'"
      ]
     },
     "execution_count": 54,
     "metadata": {},
     "output_type": "execute_result"
    }
   ],
   "source": [
    "tday.strftime(\"%y\")"
   ]
  },
  {
   "cell_type": "code",
   "execution_count": 55,
   "id": "f7c579ed",
   "metadata": {},
   "outputs": [
    {
     "data": {
      "text/plain": [
       "'2022'"
      ]
     },
     "execution_count": 55,
     "metadata": {},
     "output_type": "execute_result"
    }
   ],
   "source": [
    "tday.strftime(\"%Y\")"
   ]
  },
  {
   "cell_type": "code",
   "execution_count": 56,
   "id": "1f723fe7",
   "metadata": {},
   "outputs": [
    {
     "data": {
      "text/plain": [
       "'08'"
      ]
     },
     "execution_count": 56,
     "metadata": {},
     "output_type": "execute_result"
    }
   ],
   "source": [
    "tday.strftime(\"%H\")"
   ]
  },
  {
   "cell_type": "code",
   "execution_count": 57,
   "id": "c22d69eb",
   "metadata": {},
   "outputs": [
    {
     "data": {
      "text/plain": [
       "'39'"
      ]
     },
     "execution_count": 57,
     "metadata": {},
     "output_type": "execute_result"
    }
   ],
   "source": [
    "tday.strftime(\"%M\")"
   ]
  },
  {
   "cell_type": "code",
   "execution_count": 58,
   "id": "ff3ca6cc",
   "metadata": {},
   "outputs": [
    {
     "data": {
      "text/plain": [
       "'30'"
      ]
     },
     "execution_count": 58,
     "metadata": {},
     "output_type": "execute_result"
    }
   ],
   "source": [
    "tday.strftime(\"%S\")"
   ]
  },
  {
   "cell_type": "code",
   "execution_count": 59,
   "id": "dd9883e0",
   "metadata": {},
   "outputs": [
    {
     "data": {
      "text/plain": [
       "'08'"
      ]
     },
     "execution_count": 59,
     "metadata": {},
     "output_type": "execute_result"
    }
   ],
   "source": [
    "tday.strftime(\"%I\")"
   ]
  },
  {
   "cell_type": "code",
   "execution_count": 60,
   "id": "0138c996",
   "metadata": {},
   "outputs": [
    {
     "data": {
      "text/plain": [
       "'08 AM'"
      ]
     },
     "execution_count": 60,
     "metadata": {},
     "output_type": "execute_result"
    }
   ],
   "source": [
    "tday.strftime(\"%I %p\")"
   ]
  },
  {
   "cell_type": "code",
   "execution_count": 61,
   "id": "3ff5d1fd",
   "metadata": {},
   "outputs": [
    {
     "data": {
      "text/plain": [
       "'21-06-22 08:45 Tuesday June'"
      ]
     },
     "execution_count": 61,
     "metadata": {},
     "output_type": "execute_result"
    }
   ],
   "source": [
    "datetime.datetime.now().strftime(\"%d-%m-%y %H:%M %A %B\")"
   ]
  },
  {
   "cell_type": "code",
   "execution_count": 63,
   "id": "740f994d",
   "metadata": {},
   "outputs": [
    {
     "data": {
      "text/plain": [
       "'06/21/22 08:46 AM'"
      ]
     },
     "execution_count": 63,
     "metadata": {},
     "output_type": "execute_result"
    }
   ],
   "source": [
    "datetime.datetime.now().strftime(\"%m/%d/%y %I:%M %p\")"
   ]
  },
  {
   "cell_type": "code",
   "execution_count": null,
   "id": "b0f52482",
   "metadata": {},
   "outputs": [],
   "source": []
  }
 ],
 "metadata": {
  "kernelspec": {
   "display_name": "Python 3 (ipykernel)",
   "language": "python",
   "name": "python3"
  },
  "language_info": {
   "codemirror_mode": {
    "name": "ipython",
    "version": 3
   },
   "file_extension": ".py",
   "mimetype": "text/x-python",
   "name": "python",
   "nbconvert_exporter": "python",
   "pygments_lexer": "ipython3",
   "version": "3.8.10"
  },
  "toc": {
   "base_numbering": 1,
   "nav_menu": {},
   "number_sections": true,
   "sideBar": true,
   "skip_h1_title": false,
   "title_cell": "Table of Contents",
   "title_sidebar": "Contents",
   "toc_cell": false,
   "toc_position": {},
   "toc_section_display": true,
   "toc_window_display": false
  },
  "varInspector": {
   "cols": {
    "lenName": 16,
    "lenType": 16,
    "lenVar": 40
   },
   "kernels_config": {
    "python": {
     "delete_cmd_postfix": "",
     "delete_cmd_prefix": "del ",
     "library": "var_list.py",
     "varRefreshCmd": "print(var_dic_list())"
    },
    "r": {
     "delete_cmd_postfix": ") ",
     "delete_cmd_prefix": "rm(",
     "library": "var_list.r",
     "varRefreshCmd": "cat(var_dic_list()) "
    }
   },
   "types_to_exclude": [
    "module",
    "function",
    "builtin_function_or_method",
    "instance",
    "_Feature"
   ],
   "window_display": false
  }
 },
 "nbformat": 4,
 "nbformat_minor": 5
}
