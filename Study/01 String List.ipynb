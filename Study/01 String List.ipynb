{
 "cells": [
  {
   "cell_type": "markdown",
   "id": "4af01749",
   "metadata": {},
   "source": [
    "# String (Immutable Object)"
   ]
  },
  {
   "cell_type": "code",
   "execution_count": 1,
   "id": "a3204ff6",
   "metadata": {},
   "outputs": [],
   "source": [
    "name = \"Navnath Satre\""
   ]
  },
  {
   "cell_type": "code",
   "execution_count": 3,
   "id": "12625253",
   "metadata": {},
   "outputs": [
    {
     "data": {
      "text/plain": [
       "str"
      ]
     },
     "execution_count": 3,
     "metadata": {},
     "output_type": "execute_result"
    }
   ],
   "source": [
    "type(name)"
   ]
  },
  {
   "cell_type": "code",
   "execution_count": 4,
   "id": "1751dec8",
   "metadata": {},
   "outputs": [
    {
     "data": {
      "text/plain": [
       "'N'"
      ]
     },
     "execution_count": 4,
     "metadata": {},
     "output_type": "execute_result"
    }
   ],
   "source": [
    "name[0]"
   ]
  },
  {
   "cell_type": "code",
   "execution_count": 5,
   "id": "1bd2ee6e",
   "metadata": {},
   "outputs": [
    {
     "data": {
      "text/plain": [
       "'e'"
      ]
     },
     "execution_count": 5,
     "metadata": {},
     "output_type": "execute_result"
    }
   ],
   "source": [
    "name[-1]"
   ]
  },
  {
   "cell_type": "code",
   "execution_count": 7,
   "id": "0c788243",
   "metadata": {},
   "outputs": [
    {
     "data": {
      "text/plain": [
       "'Satre'"
      ]
     },
     "execution_count": 7,
     "metadata": {},
     "output_type": "execute_result"
    }
   ],
   "source": [
    "name[8:]"
   ]
  },
  {
   "cell_type": "code",
   "execution_count": 8,
   "id": "5c40554e",
   "metadata": {},
   "outputs": [
    {
     "data": {
      "text/plain": [
       "13"
      ]
     },
     "execution_count": 8,
     "metadata": {},
     "output_type": "execute_result"
    }
   ],
   "source": [
    "len(name)  # len i sfunction"
   ]
  },
  {
   "cell_type": "code",
   "execution_count": 2,
   "id": "58f7d2f0",
   "metadata": {},
   "outputs": [
    {
     "name": "stdout",
     "output_type": "stream",
     "text": [
      "['__add__', '__class__', '__contains__', '__delattr__', '__dir__', '__doc__', '__eq__', '__format__', '__ge__', '__getattribute__', '__getitem__', '__getnewargs__', '__gt__', '__hash__', '__init__', '__init_subclass__', '__iter__', '__le__', '__len__', '__lt__', '__mod__', '__mul__', '__ne__', '__new__', '__reduce__', '__reduce_ex__', '__repr__', '__rmod__', '__rmul__', '__setattr__', '__sizeof__', '__str__', '__subclasshook__', 'capitalize', 'casefold', 'center', 'count', 'encode', 'endswith', 'expandtabs', 'find', 'format', 'format_map', 'index', 'isalnum', 'isalpha', 'isascii', 'isdecimal', 'isdigit', 'isidentifier', 'islower', 'isnumeric', 'isprintable', 'isspace', 'istitle', 'isupper', 'join', 'ljust', 'lower', 'lstrip', 'maketrans', 'partition', 'replace', 'rfind', 'rindex', 'rjust', 'rpartition', 'rsplit', 'rstrip', 'split', 'splitlines', 'startswith', 'strip', 'swapcase', 'title', 'translate', 'upper', 'zfill']\n"
     ]
    }
   ],
   "source": [
    "print(dir(name))"
   ]
  },
  {
   "cell_type": "code",
   "execution_count": 9,
   "id": "bdc5a0e2",
   "metadata": {},
   "outputs": [
    {
     "data": {
      "text/plain": [
       "'NAVNATH SATRE'"
      ]
     },
     "execution_count": 9,
     "metadata": {},
     "output_type": "execute_result"
    }
   ],
   "source": [
    "name.upper() #name.---   are methods"
   ]
  },
  {
   "cell_type": "code",
   "execution_count": 10,
   "id": "a5fde227",
   "metadata": {},
   "outputs": [
    {
     "data": {
      "text/plain": [
       "'navnath satre'"
      ]
     },
     "execution_count": 10,
     "metadata": {},
     "output_type": "execute_result"
    }
   ],
   "source": [
    "name.lower()"
   ]
  },
  {
   "cell_type": "code",
   "execution_count": 11,
   "id": "17df9a65",
   "metadata": {},
   "outputs": [
    {
     "data": {
      "text/plain": [
       "'Navnath Satre'"
      ]
     },
     "execution_count": 11,
     "metadata": {},
     "output_type": "execute_result"
    }
   ],
   "source": [
    "name.title()"
   ]
  },
  {
   "cell_type": "code",
   "execution_count": 12,
   "id": "6a36a842",
   "metadata": {},
   "outputs": [
    {
     "data": {
      "text/plain": [
       "'Navnath satre'"
      ]
     },
     "execution_count": 12,
     "metadata": {},
     "output_type": "execute_result"
    }
   ],
   "source": [
    "name.capitalize()"
   ]
  },
  {
   "cell_type": "code",
   "execution_count": 13,
   "id": "7f318be4",
   "metadata": {},
   "outputs": [],
   "source": [
    "info = '''python programming \n",
    "java\n",
    "machine learing\n",
    "bigdata'''"
   ]
  },
  {
   "cell_type": "code",
   "execution_count": 14,
   "id": "d162a044",
   "metadata": {},
   "outputs": [
    {
     "data": {
      "text/plain": [
       "'Python programming \\njava\\nmachine learing\\nbigdata'"
      ]
     },
     "execution_count": 14,
     "metadata": {},
     "output_type": "execute_result"
    }
   ],
   "source": [
    "info.capitalize()"
   ]
  },
  {
   "cell_type": "code",
   "execution_count": 16,
   "id": "c815352a",
   "metadata": {},
   "outputs": [
    {
     "name": "stdout",
     "output_type": "stream",
     "text": [
      "Python programming \n",
      "java\n",
      "machine learing\n",
      "bigdata\n"
     ]
    }
   ],
   "source": [
    "print(info.capitalize())"
   ]
  },
  {
   "cell_type": "code",
   "execution_count": 18,
   "id": "0ee374f0",
   "metadata": {},
   "outputs": [
    {
     "data": {
      "text/plain": [
       "False"
      ]
     },
     "execution_count": 18,
     "metadata": {},
     "output_type": "execute_result"
    }
   ],
   "source": [
    "name.endswith(' ')"
   ]
  },
  {
   "cell_type": "code",
   "execution_count": 25,
   "id": "1b534e3f",
   "metadata": {},
   "outputs": [],
   "source": [
    "city = \"pune\""
   ]
  },
  {
   "cell_type": "code",
   "execution_count": 26,
   "id": "443a27f1",
   "metadata": {},
   "outputs": [
    {
     "data": {
      "text/plain": [
       "True"
      ]
     },
     "execution_count": 26,
     "metadata": {},
     "output_type": "execute_result"
    }
   ],
   "source": [
    "city.isalnum()"
   ]
  },
  {
   "cell_type": "code",
   "execution_count": 33,
   "id": "11a57e63",
   "metadata": {},
   "outputs": [
    {
     "data": {
      "text/plain": [
       "13"
      ]
     },
     "execution_count": 33,
     "metadata": {},
     "output_type": "execute_result"
    }
   ],
   "source": [
    "name"
   ]
  },
  {
   "cell_type": "code",
   "execution_count": 36,
   "id": "0b6aca2e",
   "metadata": {},
   "outputs": [
    {
     "data": {
      "text/plain": [
       "'------------------Navnath Satre-------------------'"
      ]
     },
     "execution_count": 36,
     "metadata": {},
     "output_type": "execute_result"
    }
   ],
   "source": [
    "name.center(50,'-')"
   ]
  },
  {
   "cell_type": "code",
   "execution_count": 37,
   "id": "42288c06",
   "metadata": {},
   "outputs": [
    {
     "data": {
      "text/plain": [
       "'Navnath Satre_____________________________________'"
      ]
     },
     "execution_count": 37,
     "metadata": {},
     "output_type": "execute_result"
    }
   ],
   "source": [
    "name.ljust(50, '_')"
   ]
  },
  {
   "cell_type": "code",
   "execution_count": 38,
   "id": "db06d166",
   "metadata": {},
   "outputs": [
    {
     "data": {
      "text/plain": [
       "'***************************Navnath Satre'"
      ]
     },
     "execution_count": 38,
     "metadata": {},
     "output_type": "execute_result"
    }
   ],
   "source": [
    "name.rjust(40,'*')"
   ]
  },
  {
   "cell_type": "code",
   "execution_count": 39,
   "id": "ce3298a7",
   "metadata": {},
   "outputs": [
    {
     "data": {
      "text/plain": [
       "'Navnath Satre'"
      ]
     },
     "execution_count": 39,
     "metadata": {},
     "output_type": "execute_result"
    }
   ],
   "source": [
    "# index, find\n",
    "name"
   ]
  },
  {
   "cell_type": "code",
   "execution_count": 40,
   "id": "a10b105a",
   "metadata": {},
   "outputs": [
    {
     "data": {
      "text/plain": [
       "1"
      ]
     },
     "execution_count": 40,
     "metadata": {},
     "output_type": "execute_result"
    }
   ],
   "source": [
    "name.index('a')"
   ]
  },
  {
   "cell_type": "code",
   "execution_count": 41,
   "id": "656e8e69",
   "metadata": {},
   "outputs": [
    {
     "data": {
      "text/plain": [
       "9"
      ]
     },
     "execution_count": 41,
     "metadata": {},
     "output_type": "execute_result"
    }
   ],
   "source": [
    "name.rindex('a')"
   ]
  },
  {
   "cell_type": "code",
   "execution_count": 42,
   "id": "f09de589",
   "metadata": {},
   "outputs": [
    {
     "data": {
      "text/plain": [
       "4"
      ]
     },
     "execution_count": 42,
     "metadata": {},
     "output_type": "execute_result"
    }
   ],
   "source": [
    "name.index('a',2)"
   ]
  },
  {
   "cell_type": "code",
   "execution_count": 44,
   "id": "046e7cbf",
   "metadata": {},
   "outputs": [
    {
     "data": {
      "text/plain": [
       "8"
      ]
     },
     "execution_count": 44,
     "metadata": {},
     "output_type": "execute_result"
    }
   ],
   "source": [
    "name.index('Satre')"
   ]
  },
  {
   "cell_type": "code",
   "execution_count": 45,
   "id": "34c0d0e0",
   "metadata": {},
   "outputs": [
    {
     "ename": "ValueError",
     "evalue": "substring not found",
     "output_type": "error",
     "traceback": [
      "\u001b[0;31m---------------------------------------------------------------------------\u001b[0m",
      "\u001b[0;31mValueError\u001b[0m                                Traceback (most recent call last)",
      "Input \u001b[0;32mIn [45]\u001b[0m, in \u001b[0;36m<cell line: 1>\u001b[0;34m()\u001b[0m\n\u001b[0;32m----> 1\u001b[0m \u001b[43mname\u001b[49m\u001b[38;5;241;43m.\u001b[39;49m\u001b[43mindex\u001b[49m\u001b[43m(\u001b[49m\u001b[38;5;124;43m'\u001b[39;49m\u001b[38;5;124;43mz\u001b[39;49m\u001b[38;5;124;43m'\u001b[39;49m\u001b[43m)\u001b[49m\n",
      "\u001b[0;31mValueError\u001b[0m: substring not found"
     ]
    }
   ],
   "source": [
    "name.index('z')"
   ]
  },
  {
   "cell_type": "code",
   "execution_count": 46,
   "id": "8fd7c9e8",
   "metadata": {},
   "outputs": [
    {
     "data": {
      "text/plain": [
       "3"
      ]
     },
     "execution_count": 46,
     "metadata": {},
     "output_type": "execute_result"
    }
   ],
   "source": [
    "name.count('a')"
   ]
  },
  {
   "cell_type": "code",
   "execution_count": 47,
   "id": "2da4ac5a",
   "metadata": {},
   "outputs": [
    {
     "data": {
      "text/plain": [
       "1"
      ]
     },
     "execution_count": 47,
     "metadata": {},
     "output_type": "execute_result"
    }
   ],
   "source": [
    "name.find('a')"
   ]
  },
  {
   "cell_type": "code",
   "execution_count": 48,
   "id": "00ad6069",
   "metadata": {},
   "outputs": [
    {
     "data": {
      "text/plain": [
       "-1"
      ]
     },
     "execution_count": 48,
     "metadata": {},
     "output_type": "execute_result"
    }
   ],
   "source": [
    "name.find('z')"
   ]
  },
  {
   "cell_type": "code",
   "execution_count": 49,
   "id": "d3a5e57c",
   "metadata": {},
   "outputs": [],
   "source": [
    "city = 'Chennai-Cochin-Bangalore-Hyderabad-Pune-Mimbai-Kolkatta-Delhi'"
   ]
  },
  {
   "cell_type": "code",
   "execution_count": 54,
   "id": "f80de8a2",
   "metadata": {},
   "outputs": [
    {
     "name": "stdout",
     "output_type": "stream",
     "text": [
      "['Chennai', 'Cochin', 'Bangalore', 'Hyderabad', 'Pune', 'Mimbai', 'Kolkatta', 'Delhi']\n"
     ]
    }
   ],
   "source": [
    "print(city.split('-'))"
   ]
  },
  {
   "cell_type": "code",
   "execution_count": 58,
   "id": "e948ce50",
   "metadata": {},
   "outputs": [
    {
     "name": "stdout",
     "output_type": "stream",
     "text": [
      "('Chennai', '-', 'Cochin-Bangalore-Hyderabad-Pune-Mimbai-Kolkatta-Delhi')\n"
     ]
    }
   ],
   "source": [
    "print(city.partition('-'))"
   ]
  },
  {
   "cell_type": "code",
   "execution_count": 59,
   "id": "f18784c2",
   "metadata": {},
   "outputs": [
    {
     "data": {
      "text/plain": [
       "('Chennai-Cochin-Bangalore-Hyderabad-Pune-Mimbai-Kolkatta', '-', 'Delhi')"
      ]
     },
     "execution_count": 59,
     "metadata": {},
     "output_type": "execute_result"
    }
   ],
   "source": [
    "city.rpartition('-')"
   ]
  },
  {
   "cell_type": "code",
   "execution_count": 60,
   "id": "1150c726",
   "metadata": {},
   "outputs": [
    {
     "data": {
      "text/plain": [
       "['Chennai-Cochin-Bangalore-', '-Pune-Mimbai-Kolkatta-Delhi']"
      ]
     },
     "execution_count": 60,
     "metadata": {},
     "output_type": "execute_result"
    }
   ],
   "source": [
    "city.split('Hyderabad')"
   ]
  },
  {
   "cell_type": "code",
   "execution_count": 61,
   "id": "b4318912",
   "metadata": {},
   "outputs": [
    {
     "data": {
      "text/plain": [
       "['Chennai',\n",
       " 'Cochin',\n",
       " 'Bangalore',\n",
       " 'Hyderabad',\n",
       " 'Pune',\n",
       " 'Mimbai',\n",
       " 'Kolkatta',\n",
       " 'Delhi']"
      ]
     },
     "execution_count": 61,
     "metadata": {},
     "output_type": "execute_result"
    }
   ],
   "source": [
    "city.rsplit('-')"
   ]
  },
  {
   "cell_type": "code",
   "execution_count": 62,
   "id": "eb858b66",
   "metadata": {},
   "outputs": [
    {
     "data": {
      "text/plain": [
       "'Navnath Satre'"
      ]
     },
     "execution_count": 62,
     "metadata": {},
     "output_type": "execute_result"
    }
   ],
   "source": [
    "name"
   ]
  },
  {
   "cell_type": "code",
   "execution_count": 65,
   "id": "097bf073",
   "metadata": {},
   "outputs": [],
   "source": [
    "Name = '    Navnath  satre   '"
   ]
  },
  {
   "cell_type": "code",
   "execution_count": 66,
   "id": "7909660c",
   "metadata": {},
   "outputs": [
    {
     "data": {
      "text/plain": [
       "'Navnath  satre'"
      ]
     },
     "execution_count": 66,
     "metadata": {},
     "output_type": "execute_result"
    }
   ],
   "source": [
    "Name.strip()"
   ]
  },
  {
   "cell_type": "code",
   "execution_count": 67,
   "id": "dd7d52cc",
   "metadata": {},
   "outputs": [
    {
     "data": {
      "text/plain": [
       "'Navnath  satre   '"
      ]
     },
     "execution_count": 67,
     "metadata": {},
     "output_type": "execute_result"
    }
   ],
   "source": [
    "Name.lstrip()"
   ]
  },
  {
   "cell_type": "code",
   "execution_count": 68,
   "id": "26b44444",
   "metadata": {},
   "outputs": [
    {
     "data": {
      "text/plain": [
       "'    Navnath  satre'"
      ]
     },
     "execution_count": 68,
     "metadata": {},
     "output_type": "execute_result"
    }
   ],
   "source": [
    "Name.rstrip()"
   ]
  },
  {
   "cell_type": "code",
   "execution_count": 69,
   "id": "fa5c6bd0",
   "metadata": {},
   "outputs": [
    {
     "data": {
      "text/plain": [
       "'  Navnath satre  '"
      ]
     },
     "execution_count": 69,
     "metadata": {},
     "output_type": "execute_result"
    }
   ],
   "source": [
    "Name.replace('  ', \" \")"
   ]
  },
  {
   "cell_type": "code",
   "execution_count": 70,
   "id": "7a3c61ee",
   "metadata": {},
   "outputs": [],
   "source": [
    "salary = '5000000'"
   ]
  },
  {
   "cell_type": "code",
   "execution_count": 72,
   "id": "0d91986b",
   "metadata": {},
   "outputs": [
    {
     "data": {
      "text/plain": [
       "'5000000000'"
      ]
     },
     "execution_count": 72,
     "metadata": {},
     "output_type": "execute_result"
    }
   ],
   "source": [
    "salary.ljust(10,'0')"
   ]
  },
  {
   "cell_type": "code",
   "execution_count": 73,
   "id": "566e7d49",
   "metadata": {},
   "outputs": [
    {
     "data": {
      "text/plain": [
       "'0005000000'"
      ]
     },
     "execution_count": 73,
     "metadata": {},
     "output_type": "execute_result"
    }
   ],
   "source": [
    "salary.zfill(10)"
   ]
  },
  {
   "cell_type": "code",
   "execution_count": 6,
   "id": "c4285e1a",
   "metadata": {},
   "outputs": [],
   "source": [
    "data = \"The covid cases are high in india but india reported as very less or none\""
   ]
  },
  {
   "cell_type": "code",
   "execution_count": 7,
   "id": "43c0b6a2",
   "metadata": {},
   "outputs": [
    {
     "data": {
      "text/plain": [
       "'The covid cases are high in india but india reported as very high or more'"
      ]
     },
     "execution_count": 7,
     "metadata": {},
     "output_type": "execute_result"
    }
   ],
   "source": [
    "data.replace('less','high').replace('none','more')"
   ]
  },
  {
   "cell_type": "code",
   "execution_count": 8,
   "id": "d8aa58be",
   "metadata": {},
   "outputs": [
    {
     "data": {
      "text/plain": [
       "'The covid cases are high in india but india reported as very less or none'"
      ]
     },
     "execution_count": 8,
     "metadata": {},
     "output_type": "execute_result"
    }
   ],
   "source": [
    "data"
   ]
  },
  {
   "cell_type": "code",
   "execution_count": 11,
   "id": "494696f9",
   "metadata": {},
   "outputs": [
    {
     "data": {
      "text/plain": [
       "'The covid cases are high in china but china reported as very less or none'"
      ]
     },
     "execution_count": 11,
     "metadata": {},
     "output_type": "execute_result"
    }
   ],
   "source": [
    "data.replace('india','china',1)"
   ]
  },
  {
   "cell_type": "code",
   "execution_count": 12,
   "id": "9bd66dbb",
   "metadata": {},
   "outputs": [
    {
     "data": {
      "text/plain": [
       "'The covid cases are high in china but china reported as very less or none'"
      ]
     },
     "execution_count": 12,
     "metadata": {},
     "output_type": "execute_result"
    }
   ],
   "source": [
    "data.replace('india','china',2)"
   ]
  },
  {
   "cell_type": "code",
   "execution_count": 13,
   "id": "f8f71e27",
   "metadata": {},
   "outputs": [],
   "source": [
    "company = \"W!#a$l%m&a*r+t\""
   ]
  },
  {
   "cell_type": "code",
   "execution_count": 14,
   "id": "1b508cdf",
   "metadata": {},
   "outputs": [
    {
     "data": {
      "text/plain": [
       "'W!#a$l%m&a*r+t'"
      ]
     },
     "execution_count": 14,
     "metadata": {},
     "output_type": "execute_result"
    }
   ],
   "source": [
    "company"
   ]
  },
  {
   "cell_type": "code",
   "execution_count": 16,
   "id": "42120abd",
   "metadata": {},
   "outputs": [
    {
     "data": {
      "text/plain": [
       "'Walmart'"
      ]
     },
     "execution_count": 16,
     "metadata": {},
     "output_type": "execute_result"
    }
   ],
   "source": [
    "company.replace(\"!\",\"\").replace('#','').replace('$','').\\\n",
    "replace('%','').replace('&','').replace('*','').replace('+','')"
   ]
  },
  {
   "cell_type": "code",
   "execution_count": 20,
   "id": "b38cd526",
   "metadata": {},
   "outputs": [
    {
     "data": {
      "text/plain": [
       "'W#a$l%m&a*r+t'"
      ]
     },
     "execution_count": 20,
     "metadata": {},
     "output_type": "execute_result"
    }
   ],
   "source": [
    "company.translate({33:None}) #take ascii values"
   ]
  },
  {
   "cell_type": "code",
   "execution_count": 18,
   "id": "39c17253",
   "metadata": {},
   "outputs": [
    {
     "data": {
      "text/plain": [
       "33"
      ]
     },
     "execution_count": 18,
     "metadata": {},
     "output_type": "execute_result"
    }
   ],
   "source": [
    "ord('!')"
   ]
  },
  {
   "cell_type": "code",
   "execution_count": 25,
   "id": "00ccfd52",
   "metadata": {},
   "outputs": [
    {
     "data": {
      "text/plain": [
       "{33: 32,\n",
       " 64: 32,\n",
       " 35: 32,\n",
       " 36: 32,\n",
       " 37: 32,\n",
       " 94: 32,\n",
       " 38: 32,\n",
       " 42: 32,\n",
       " 40: 32,\n",
       " 41: 32,\n",
       " 95: 32,\n",
       " 43: 32}"
      ]
     },
     "execution_count": 25,
     "metadata": {},
     "output_type": "execute_result"
    }
   ],
   "source": [
    "company.maketrans('!@#$%^&*()_+','            ') #char by char"
   ]
  },
  {
   "cell_type": "code",
   "execution_count": 26,
   "id": "e6c73c15",
   "metadata": {},
   "outputs": [
    {
     "data": {
      "text/plain": [
       "'Walmart'"
      ]
     },
     "execution_count": 26,
     "metadata": {},
     "output_type": "execute_result"
    }
   ],
   "source": [
    "company.translate({33: None,\n",
    " 64: None,\n",
    " 35: None,\n",
    " 36: None,\n",
    " 37: None,\n",
    " 94: None,\n",
    " 38: None,\n",
    " 42: None,\n",
    " 40: None,\n",
    " 41: None,\n",
    " 95: None,\n",
    " 43: None})"
   ]
  },
  {
   "cell_type": "code",
   "execution_count": 29,
   "id": "73459452",
   "metadata": {},
   "outputs": [],
   "source": [
    "chg = data.maketrans('abcd','ABCD')"
   ]
  },
  {
   "cell_type": "code",
   "execution_count": 30,
   "id": "f123df31",
   "metadata": {},
   "outputs": [
    {
     "data": {
      "text/plain": [
       "'The CoviD CAses Are high in inDiA But inDiA reporteD As very less or none'"
      ]
     },
     "execution_count": 30,
     "metadata": {},
     "output_type": "execute_result"
    }
   ],
   "source": [
    "data.translate(chg)"
   ]
  },
  {
   "cell_type": "code",
   "execution_count": 31,
   "id": "9bbf025f",
   "metadata": {},
   "outputs": [
    {
     "name": "stdout",
     "output_type": "stream",
     "text": [
      "Help on built-in function maketrans:\n",
      "\n",
      "maketrans(...)\n",
      "    Return a translation table usable for str.translate().\n",
      "    \n",
      "    If there is only one argument, it must be a dictionary mapping Unicode\n",
      "    ordinals (integers) or characters to Unicode ordinals, strings or None.\n",
      "    Character keys will be then converted to ordinals.\n",
      "    If there are two arguments, they must be strings of equal length, and\n",
      "    in the resulting dictionary, each character in x will be mapped to the\n",
      "    character at the same position in y. If there is a third argument, it\n",
      "    must be a string, whose characters will be mapped to None in the result.\n",
      "\n"
     ]
    }
   ],
   "source": [
    "help(data.maketrans)"
   ]
  },
  {
   "cell_type": "markdown",
   "id": "bc03a8d4",
   "metadata": {
    "heading_collapsed": true
   },
   "source": [
    "# LIST (Mutable Object)"
   ]
  },
  {
   "cell_type": "code",
   "execution_count": 32,
   "id": "8dc9c59b",
   "metadata": {
    "hidden": true
   },
   "outputs": [
    {
     "data": {
      "text/plain": [
       "list"
      ]
     },
     "execution_count": 32,
     "metadata": {},
     "output_type": "execute_result"
    }
   ],
   "source": [
    "# Collection of heteroginious object\n",
    "#create list\n",
    "mylist = []\n",
    "type(mylist)"
   ]
  },
  {
   "cell_type": "code",
   "execution_count": 33,
   "id": "e816814e",
   "metadata": {
    "hidden": true
   },
   "outputs": [
    {
     "data": {
      "text/plain": [
       "list"
      ]
     },
     "execution_count": 33,
     "metadata": {},
     "output_type": "execute_result"
    }
   ],
   "source": [
    "list2=list()\n",
    "type(list2)"
   ]
  },
  {
   "cell_type": "code",
   "execution_count": 34,
   "id": "1a7a8291",
   "metadata": {
    "hidden": true
   },
   "outputs": [
    {
     "data": {
      "text/plain": [
       "list"
      ]
     },
     "execution_count": 34,
     "metadata": {},
     "output_type": "execute_result"
    }
   ],
   "source": [
    "info = ['Tuesday','June',2022,'Python',False,10.55]\n",
    "type(info)"
   ]
  },
  {
   "cell_type": "code",
   "execution_count": 35,
   "id": "3f930397",
   "metadata": {
    "hidden": true
   },
   "outputs": [
    {
     "data": {
      "text/plain": [
       "6"
      ]
     },
     "execution_count": 35,
     "metadata": {},
     "output_type": "execute_result"
    }
   ],
   "source": [
    "len(info)"
   ]
  },
  {
   "cell_type": "code",
   "execution_count": 37,
   "id": "43ef94ee",
   "metadata": {
    "hidden": true
   },
   "outputs": [
    {
     "data": {
      "text/plain": [
       "True"
      ]
     },
     "execution_count": 37,
     "metadata": {},
     "output_type": "execute_result"
    }
   ],
   "source": [
    "'Python' in info"
   ]
  },
  {
   "cell_type": "code",
   "execution_count": 38,
   "id": "2fe4e585",
   "metadata": {
    "hidden": true
   },
   "outputs": [
    {
     "data": {
      "text/plain": [
       "False"
      ]
     },
     "execution_count": 38,
     "metadata": {},
     "output_type": "execute_result"
    }
   ],
   "source": [
    "'ExcelR' in info"
   ]
  },
  {
   "cell_type": "code",
   "execution_count": 39,
   "id": "61198ec0",
   "metadata": {
    "hidden": true
   },
   "outputs": [
    {
     "data": {
      "text/plain": [
       "6"
      ]
     },
     "execution_count": 39,
     "metadata": {},
     "output_type": "execute_result"
    }
   ],
   "source": [
    "nums = [1,2,3,4,5,6]\n",
    "len(nums)"
   ]
  },
  {
   "cell_type": "code",
   "execution_count": 40,
   "id": "88b6e0ac",
   "metadata": {
    "hidden": true
   },
   "outputs": [
    {
     "data": {
      "text/plain": [
       "1"
      ]
     },
     "execution_count": 40,
     "metadata": {},
     "output_type": "execute_result"
    }
   ],
   "source": [
    "min(nums)"
   ]
  },
  {
   "cell_type": "code",
   "execution_count": 41,
   "id": "79a4ece4",
   "metadata": {
    "hidden": true
   },
   "outputs": [
    {
     "data": {
      "text/plain": [
       "6"
      ]
     },
     "execution_count": 41,
     "metadata": {},
     "output_type": "execute_result"
    }
   ],
   "source": [
    "max(nums)"
   ]
  },
  {
   "cell_type": "code",
   "execution_count": 42,
   "id": "b7c2f2a4",
   "metadata": {
    "hidden": true
   },
   "outputs": [
    {
     "data": {
      "text/plain": [
       "21"
      ]
     },
     "execution_count": 42,
     "metadata": {},
     "output_type": "execute_result"
    }
   ],
   "source": [
    "sum(nums)"
   ]
  },
  {
   "cell_type": "code",
   "execution_count": 43,
   "id": "02e5940e",
   "metadata": {
    "hidden": true
   },
   "outputs": [
    {
     "name": "stdout",
     "output_type": "stream",
     "text": [
      "['__add__', '__class__', '__contains__', '__delattr__', '__delitem__', '__dir__', '__doc__', '__eq__', '__format__', '__ge__', '__getattribute__', '__getitem__', '__gt__', '__hash__', '__iadd__', '__imul__', '__init__', '__init_subclass__', '__iter__', '__le__', '__len__', '__lt__', '__mul__', '__ne__', '__new__', '__reduce__', '__reduce_ex__', '__repr__', '__reversed__', '__rmul__', '__setattr__', '__setitem__', '__sizeof__', '__str__', '__subclasshook__', 'append', 'clear', 'copy', 'count', 'extend', 'index', 'insert', 'pop', 'remove', 'reverse', 'sort']\n"
     ]
    }
   ],
   "source": [
    "print(dir(nums))"
   ]
  },
  {
   "cell_type": "code",
   "execution_count": 44,
   "id": "397aa331",
   "metadata": {
    "hidden": true
   },
   "outputs": [
    {
     "data": {
      "text/plain": [
       "[1, 2, 3, 4, 5, 6]"
      ]
     },
     "execution_count": 44,
     "metadata": {},
     "output_type": "execute_result"
    }
   ],
   "source": [
    "nums"
   ]
  },
  {
   "cell_type": "code",
   "execution_count": 45,
   "id": "3be55239",
   "metadata": {
    "hidden": true
   },
   "outputs": [],
   "source": [
    "nums.append('Python')"
   ]
  },
  {
   "cell_type": "code",
   "execution_count": 46,
   "id": "945f98c2",
   "metadata": {
    "hidden": true
   },
   "outputs": [
    {
     "data": {
      "text/plain": [
       "[1, 2, 3, 4, 5, 6, 'Python']"
      ]
     },
     "execution_count": 46,
     "metadata": {},
     "output_type": "execute_result"
    }
   ],
   "source": [
    "nums"
   ]
  },
  {
   "cell_type": "code",
   "execution_count": 47,
   "id": "83d03e0e",
   "metadata": {
    "hidden": true
   },
   "outputs": [
    {
     "ename": "TypeError",
     "evalue": "append() takes exactly one argument (3 given)",
     "output_type": "error",
     "traceback": [
      "\u001b[0;31m---------------------------------------------------------------------------\u001b[0m",
      "\u001b[0;31mTypeError\u001b[0m                                 Traceback (most recent call last)",
      "Input \u001b[0;32mIn [47]\u001b[0m, in \u001b[0;36m<cell line: 1>\u001b[0;34m()\u001b[0m\n\u001b[0;32m----> 1\u001b[0m \u001b[43mnums\u001b[49m\u001b[38;5;241;43m.\u001b[39;49m\u001b[43mappend\u001b[49m\u001b[43m(\u001b[49m\u001b[38;5;241;43m14\u001b[39;49m\u001b[43m,\u001b[49m\u001b[38;5;124;43m'\u001b[39;49m\u001b[38;5;124;43mJune\u001b[39;49m\u001b[38;5;124;43m'\u001b[39;49m\u001b[43m,\u001b[49m\u001b[38;5;241;43m2022\u001b[39;49m\u001b[43m)\u001b[49m\n",
      "\u001b[0;31mTypeError\u001b[0m: append() takes exactly one argument (3 given)"
     ]
    }
   ],
   "source": [
    "nums.append(14,'June',2022)  # only one value at a time"
   ]
  },
  {
   "cell_type": "code",
   "execution_count": 48,
   "id": "185ced9b",
   "metadata": {
    "hidden": true
   },
   "outputs": [],
   "source": [
    "nums.append([14,'June',2022])"
   ]
  },
  {
   "cell_type": "code",
   "execution_count": 49,
   "id": "00d1d353",
   "metadata": {
    "hidden": true
   },
   "outputs": [
    {
     "data": {
      "text/plain": [
       "[1, 2, 3, 4, 5, 6, 'Python', [14, 'June', 2022]]"
      ]
     },
     "execution_count": 49,
     "metadata": {},
     "output_type": "execute_result"
    }
   ],
   "source": [
    "nums"
   ]
  },
  {
   "cell_type": "code",
   "execution_count": 50,
   "id": "fa556eff",
   "metadata": {
    "hidden": true
   },
   "outputs": [
    {
     "data": {
      "text/plain": [
       "[14, 'June', 2022]"
      ]
     },
     "execution_count": 50,
     "metadata": {},
     "output_type": "execute_result"
    }
   ],
   "source": [
    "nums[-1]"
   ]
  },
  {
   "cell_type": "code",
   "execution_count": 51,
   "id": "030fe230",
   "metadata": {
    "hidden": true
   },
   "outputs": [
    {
     "ename": "TypeError",
     "evalue": "'int' object is not iterable",
     "output_type": "error",
     "traceback": [
      "\u001b[0;31m---------------------------------------------------------------------------\u001b[0m",
      "\u001b[0;31mTypeError\u001b[0m                                 Traceback (most recent call last)",
      "Input \u001b[0;32mIn [51]\u001b[0m, in \u001b[0;36m<cell line: 2>\u001b[0;34m()\u001b[0m\n\u001b[1;32m      1\u001b[0m \u001b[38;5;66;03m# extend\u001b[39;00m\n\u001b[0;32m----> 2\u001b[0m \u001b[43mnums\u001b[49m\u001b[38;5;241;43m.\u001b[39;49m\u001b[43mextend\u001b[49m\u001b[43m(\u001b[49m\u001b[38;5;241;43m100\u001b[39;49m\u001b[43m)\u001b[49m\n",
      "\u001b[0;31mTypeError\u001b[0m: 'int' object is not iterable"
     ]
    }
   ],
   "source": [
    "# extend\n",
    "nums.extend(100) # need iterable object"
   ]
  },
  {
   "cell_type": "code",
   "execution_count": 52,
   "id": "d5c81c1b",
   "metadata": {
    "hidden": true
   },
   "outputs": [],
   "source": [
    "nums.extend([100])"
   ]
  },
  {
   "cell_type": "code",
   "execution_count": 53,
   "id": "e18c0801",
   "metadata": {
    "hidden": true
   },
   "outputs": [
    {
     "data": {
      "text/plain": [
       "[1, 2, 3, 4, 5, 6, 'Python', [14, 'June', 2022], 100]"
      ]
     },
     "execution_count": 53,
     "metadata": {},
     "output_type": "execute_result"
    }
   ],
   "source": [
    "nums"
   ]
  },
  {
   "cell_type": "code",
   "execution_count": 54,
   "id": "03642ad8",
   "metadata": {
    "hidden": true
   },
   "outputs": [],
   "source": [
    "nums.extend(['Chennai','Bengluru','Hyderabad'])"
   ]
  },
  {
   "cell_type": "code",
   "execution_count": 56,
   "id": "e9daf747",
   "metadata": {
    "hidden": true
   },
   "outputs": [
    {
     "name": "stdout",
     "output_type": "stream",
     "text": [
      "[1, 2, 3, 4, 5, 6, 'Python', [14, 'June', 2022], 100, 'Chennai', 'Bengluru', 'Hyderabad']\n"
     ]
    }
   ],
   "source": [
    "print(nums)"
   ]
  },
  {
   "cell_type": "code",
   "execution_count": 57,
   "id": "195658b5",
   "metadata": {
    "hidden": true
   },
   "outputs": [
    {
     "data": {
      "text/plain": [
       "'Hyderabad'"
      ]
     },
     "execution_count": 57,
     "metadata": {},
     "output_type": "execute_result"
    }
   ],
   "source": [
    "nums[-1]"
   ]
  },
  {
   "cell_type": "code",
   "execution_count": 58,
   "id": "e8f9c43f",
   "metadata": {
    "hidden": true
   },
   "outputs": [],
   "source": [
    "# nums.insert(where, what)\n",
    "nums.insert(0,'ExcelR')"
   ]
  },
  {
   "cell_type": "code",
   "execution_count": 60,
   "id": "1f4ad7e8",
   "metadata": {
    "hidden": true
   },
   "outputs": [
    {
     "name": "stdout",
     "output_type": "stream",
     "text": [
      "['ExcelR', 1, 2, 3, 4, 5, 6, 'Python', [14, 'June', 2022], 100, 'Chennai', 'Bengluru', 'Hyderabad']\n"
     ]
    }
   ],
   "source": [
    "print(nums)"
   ]
  },
  {
   "cell_type": "code",
   "execution_count": 61,
   "id": "143e0923",
   "metadata": {
    "hidden": true
   },
   "outputs": [],
   "source": [
    "nums.insert(-3,'Delhi')"
   ]
  },
  {
   "cell_type": "code",
   "execution_count": 63,
   "id": "773259de",
   "metadata": {
    "hidden": true
   },
   "outputs": [
    {
     "name": "stdout",
     "output_type": "stream",
     "text": [
      "['ExcelR', 1, 2, 3, 4, 5, 6, 'Python', [14, 'June', 2022], 100, 'Delhi', 'Chennai', 'Bengluru', 'Hyderabad']\n"
     ]
    }
   ],
   "source": [
    "print(nums)"
   ]
  },
  {
   "cell_type": "code",
   "execution_count": 64,
   "id": "612769fe",
   "metadata": {
    "hidden": true
   },
   "outputs": [],
   "source": [
    "nums[8].insert(1,'Tuesday')"
   ]
  },
  {
   "cell_type": "code",
   "execution_count": 66,
   "id": "6200117f",
   "metadata": {
    "hidden": true
   },
   "outputs": [
    {
     "name": "stdout",
     "output_type": "stream",
     "text": [
      "['ExcelR', 1, 2, 3, 4, 5, 6, 'Python', [14, 'Tuesday', 'June', 2022], 100, 'Delhi', 'Chennai', 'Bengluru', 'Hyderabad']\n"
     ]
    }
   ],
   "source": [
    "print(nums)"
   ]
  },
  {
   "cell_type": "code",
   "execution_count": 67,
   "id": "7146fe99",
   "metadata": {
    "hidden": true
   },
   "outputs": [],
   "source": [
    "#remove : remove(value), pop(index)\n",
    "nums.remove('Delhi')"
   ]
  },
  {
   "cell_type": "code",
   "execution_count": 69,
   "id": "f8bacb1b",
   "metadata": {
    "hidden": true
   },
   "outputs": [
    {
     "name": "stdout",
     "output_type": "stream",
     "text": [
      "['ExcelR', 1, 2, 3, 4, 5, 6, 'Python', [14, 'Tuesday', 'June', 2022], 100, 'Chennai', 'Bengluru', 'Hyderabad']\n"
     ]
    }
   ],
   "source": [
    "print(nums)"
   ]
  },
  {
   "cell_type": "code",
   "execution_count": 70,
   "id": "80080813",
   "metadata": {
    "hidden": true
   },
   "outputs": [],
   "source": [
    "nums.remove(4)"
   ]
  },
  {
   "cell_type": "code",
   "execution_count": 71,
   "id": "3af4eee8",
   "metadata": {
    "hidden": true
   },
   "outputs": [
    {
     "name": "stdout",
     "output_type": "stream",
     "text": [
      "['ExcelR', 1, 2, 3, 5, 6, 'Python', [14, 'Tuesday', 'June', 2022], 100, 'Chennai', 'Bengluru', 'Hyderabad']\n"
     ]
    }
   ],
   "source": [
    "print(nums)"
   ]
  },
  {
   "cell_type": "code",
   "execution_count": 72,
   "id": "d603d0db",
   "metadata": {
    "hidden": true
   },
   "outputs": [],
   "source": [
    "nums.append(5)"
   ]
  },
  {
   "cell_type": "code",
   "execution_count": 73,
   "id": "62911190",
   "metadata": {
    "hidden": true
   },
   "outputs": [
    {
     "name": "stdout",
     "output_type": "stream",
     "text": [
      "['ExcelR', 1, 2, 3, 5, 6, 'Python', [14, 'Tuesday', 'June', 2022], 100, 'Chennai', 'Bengluru', 'Hyderabad', 5]\n"
     ]
    }
   ],
   "source": [
    "print(nums)"
   ]
  },
  {
   "cell_type": "code",
   "execution_count": 74,
   "id": "09ff415e",
   "metadata": {
    "hidden": true
   },
   "outputs": [],
   "source": [
    "nums.remove(5)  # it will remove first occurence"
   ]
  },
  {
   "cell_type": "code",
   "execution_count": 75,
   "id": "2714feff",
   "metadata": {
    "hidden": true
   },
   "outputs": [
    {
     "name": "stdout",
     "output_type": "stream",
     "text": [
      "['ExcelR', 1, 2, 3, 6, 'Python', [14, 'Tuesday', 'June', 2022], 100, 'Chennai', 'Bengluru', 'Hyderabad', 5]\n"
     ]
    }
   ],
   "source": [
    "print(nums)"
   ]
  },
  {
   "cell_type": "code",
   "execution_count": 76,
   "id": "73be26fe",
   "metadata": {
    "hidden": true
   },
   "outputs": [
    {
     "data": {
      "text/plain": [
       "[14, 'Tuesday', 'June', 2022]"
      ]
     },
     "execution_count": 76,
     "metadata": {},
     "output_type": "execute_result"
    }
   ],
   "source": [
    "nums.pop(6)"
   ]
  },
  {
   "cell_type": "code",
   "execution_count": 77,
   "id": "2d7f95b3",
   "metadata": {
    "hidden": true
   },
   "outputs": [
    {
     "name": "stdout",
     "output_type": "stream",
     "text": [
      "['ExcelR', 1, 2, 3, 6, 'Python', 100, 'Chennai', 'Bengluru', 'Hyderabad', 5]\n"
     ]
    }
   ],
   "source": [
    "print(nums)"
   ]
  },
  {
   "cell_type": "code",
   "execution_count": 78,
   "id": "e0c1b009",
   "metadata": {
    "hidden": true
   },
   "outputs": [
    {
     "data": {
      "text/plain": [
       "'ExcelR'"
      ]
     },
     "execution_count": 78,
     "metadata": {},
     "output_type": "execute_result"
    }
   ],
   "source": [
    "nums.pop(0)"
   ]
  },
  {
   "cell_type": "code",
   "execution_count": 81,
   "id": "ae28006c",
   "metadata": {
    "hidden": true
   },
   "outputs": [
    {
     "data": {
      "text/plain": [
       "'Hyderabad'"
      ]
     },
     "execution_count": 81,
     "metadata": {},
     "output_type": "execute_result"
    }
   ],
   "source": [
    "nums.pop()"
   ]
  },
  {
   "cell_type": "code",
   "execution_count": 94,
   "id": "6f9f8d23",
   "metadata": {
    "hidden": true
   },
   "outputs": [
    {
     "name": "stdout",
     "output_type": "stream",
     "text": [
      "[1, 2, 3, 6, 'Python', 100, 'Bengluru']\n"
     ]
    }
   ],
   "source": [
    "print(nums)"
   ]
  },
  {
   "cell_type": "code",
   "execution_count": 95,
   "id": "3d7033da",
   "metadata": {
    "hidden": true
   },
   "outputs": [],
   "source": [
    "for x in ['Python','Bengluru']:\n",
    "    nums.remove(x)"
   ]
  },
  {
   "cell_type": "code",
   "execution_count": 96,
   "id": "da22a193",
   "metadata": {
    "hidden": true
   },
   "outputs": [
    {
     "name": "stdout",
     "output_type": "stream",
     "text": [
      "[1, 2, 3, 6, 100]\n"
     ]
    }
   ],
   "source": [
    "print(nums)"
   ]
  },
  {
   "cell_type": "code",
   "execution_count": 85,
   "id": "fadf0f3b",
   "metadata": {
    "hidden": true
   },
   "outputs": [],
   "source": [
    "num = [1,3,43,45,6,6,8,88,8,8,768]"
   ]
  },
  {
   "cell_type": "code",
   "execution_count": 86,
   "id": "69b45a1f",
   "metadata": {
    "hidden": true
   },
   "outputs": [],
   "source": [
    "num.reverse()"
   ]
  },
  {
   "cell_type": "code",
   "execution_count": 87,
   "id": "64a902c6",
   "metadata": {
    "hidden": true
   },
   "outputs": [
    {
     "data": {
      "text/plain": [
       "[768, 8, 8, 88, 8, 6, 6, 45, 43, 3, 1]"
      ]
     },
     "execution_count": 87,
     "metadata": {},
     "output_type": "execute_result"
    }
   ],
   "source": [
    "num"
   ]
  },
  {
   "cell_type": "code",
   "execution_count": 88,
   "id": "ef4c7482",
   "metadata": {
    "hidden": true
   },
   "outputs": [],
   "source": [
    "num.sort() #inplace True"
   ]
  },
  {
   "cell_type": "code",
   "execution_count": 89,
   "id": "5bb3a28d",
   "metadata": {
    "hidden": true
   },
   "outputs": [
    {
     "data": {
      "text/plain": [
       "[1, 3, 6, 6, 8, 8, 8, 43, 45, 88, 768]"
      ]
     },
     "execution_count": 89,
     "metadata": {},
     "output_type": "execute_result"
    }
   ],
   "source": [
    "num"
   ]
  },
  {
   "cell_type": "code",
   "execution_count": 90,
   "id": "092040e6",
   "metadata": {
    "hidden": true
   },
   "outputs": [],
   "source": [
    "num.sort(reverse=True)"
   ]
  },
  {
   "cell_type": "code",
   "execution_count": 91,
   "id": "5c76e3c5",
   "metadata": {
    "hidden": true
   },
   "outputs": [
    {
     "data": {
      "text/plain": [
       "[768, 88, 45, 43, 8, 8, 8, 6, 6, 3, 1]"
      ]
     },
     "execution_count": 91,
     "metadata": {},
     "output_type": "execute_result"
    }
   ],
   "source": [
    "num"
   ]
  },
  {
   "cell_type": "code",
   "execution_count": 93,
   "id": "df1188cc",
   "metadata": {
    "hidden": true
   },
   "outputs": [
    {
     "data": {
      "text/plain": [
       "0"
      ]
     },
     "execution_count": 93,
     "metadata": {},
     "output_type": "execute_result"
    }
   ],
   "source": [
    "num.index(768)"
   ]
  },
  {
   "cell_type": "code",
   "execution_count": 97,
   "id": "b76a48bf",
   "metadata": {
    "hidden": true
   },
   "outputs": [
    {
     "data": {
      "text/plain": [
       "1"
      ]
     },
     "execution_count": 97,
     "metadata": {},
     "output_type": "execute_result"
    }
   ],
   "source": [
    "num.count(3)"
   ]
  },
  {
   "cell_type": "code",
   "execution_count": 98,
   "id": "e3fa3d6f",
   "metadata": {
    "hidden": true
   },
   "outputs": [
    {
     "data": {
      "text/plain": [
       "3"
      ]
     },
     "execution_count": 98,
     "metadata": {},
     "output_type": "execute_result"
    }
   ],
   "source": [
    "num.count(8)"
   ]
  },
  {
   "cell_type": "code",
   "execution_count": 99,
   "id": "fed359da",
   "metadata": {
    "hidden": true
   },
   "outputs": [],
   "source": [
    "num.clear()"
   ]
  },
  {
   "cell_type": "code",
   "execution_count": 100,
   "id": "4663de4e",
   "metadata": {
    "hidden": true
   },
   "outputs": [
    {
     "data": {
      "text/plain": [
       "[]"
      ]
     },
     "execution_count": 100,
     "metadata": {},
     "output_type": "execute_result"
    }
   ],
   "source": [
    "num."
   ]
  },
  {
   "cell_type": "code",
   "execution_count": 101,
   "id": "19700170",
   "metadata": {
    "hidden": true
   },
   "outputs": [],
   "source": [
    "# append extend insert remove pop reverse sort\n",
    "# copy "
   ]
  },
  {
   "cell_type": "code",
   "execution_count": null,
   "id": "ac2e26b7",
   "metadata": {
    "hidden": true
   },
   "outputs": [],
   "source": []
  },
  {
   "cell_type": "code",
   "execution_count": 102,
   "id": "2ae9d84a",
   "metadata": {
    "hidden": true
   },
   "outputs": [],
   "source": [
    "# what is the difference between shallow copy and deep copy ?"
   ]
  },
  {
   "cell_type": "code",
   "execution_count": 103,
   "id": "c895a464",
   "metadata": {
    "hidden": true
   },
   "outputs": [],
   "source": [
    "nums = [1,2,3,4.,5]"
   ]
  },
  {
   "cell_type": "code",
   "execution_count": 104,
   "id": "0ffe6726",
   "metadata": {
    "hidden": true
   },
   "outputs": [],
   "source": [
    "num_backup = nums"
   ]
  },
  {
   "cell_type": "code",
   "execution_count": 106,
   "id": "5226a3ad",
   "metadata": {
    "hidden": true
   },
   "outputs": [
    {
     "data": {
      "text/plain": [
       "[1, 2, 3, 4.0, 5]"
      ]
     },
     "execution_count": 106,
     "metadata": {},
     "output_type": "execute_result"
    }
   ],
   "source": [
    "nums"
   ]
  },
  {
   "cell_type": "code",
   "execution_count": 107,
   "id": "0bf7cfbb",
   "metadata": {
    "hidden": true
   },
   "outputs": [
    {
     "data": {
      "text/plain": [
       "[1, 2, 3, 4.0, 5]"
      ]
     },
     "execution_count": 107,
     "metadata": {},
     "output_type": "execute_result"
    }
   ],
   "source": [
    "num_backup"
   ]
  },
  {
   "cell_type": "code",
   "execution_count": 108,
   "id": "0dd1aed8",
   "metadata": {
    "hidden": true
   },
   "outputs": [],
   "source": [
    "nums.extend([100,200,300])"
   ]
  },
  {
   "cell_type": "code",
   "execution_count": 109,
   "id": "9277df97",
   "metadata": {
    "hidden": true
   },
   "outputs": [
    {
     "data": {
      "text/plain": [
       "[1, 2, 3, 4.0, 5, 100, 200, 300]"
      ]
     },
     "execution_count": 109,
     "metadata": {},
     "output_type": "execute_result"
    }
   ],
   "source": [
    "nums"
   ]
  },
  {
   "cell_type": "code",
   "execution_count": 110,
   "id": "9b5c9638",
   "metadata": {
    "hidden": true
   },
   "outputs": [
    {
     "data": {
      "text/plain": [
       "[1, 2, 3, 4.0, 5, 100, 200, 300]"
      ]
     },
     "execution_count": 110,
     "metadata": {},
     "output_type": "execute_result"
    }
   ],
   "source": [
    "num_backup"
   ]
  },
  {
   "cell_type": "code",
   "execution_count": 111,
   "id": "a6a93199",
   "metadata": {
    "hidden": true
   },
   "outputs": [],
   "source": [
    "num_backup.insert(0,'Hello')"
   ]
  },
  {
   "cell_type": "code",
   "execution_count": 112,
   "id": "1c9e71e1",
   "metadata": {
    "hidden": true
   },
   "outputs": [
    {
     "data": {
      "text/plain": [
       "['Hello', 1, 2, 3, 4.0, 5, 100, 200, 300]"
      ]
     },
     "execution_count": 112,
     "metadata": {},
     "output_type": "execute_result"
    }
   ],
   "source": [
    "num_backup"
   ]
  },
  {
   "cell_type": "code",
   "execution_count": 113,
   "id": "60ad079e",
   "metadata": {
    "hidden": true
   },
   "outputs": [
    {
     "data": {
      "text/plain": [
       "['Hello', 1, 2, 3, 4.0, 5, 100, 200, 300]"
      ]
     },
     "execution_count": 113,
     "metadata": {},
     "output_type": "execute_result"
    }
   ],
   "source": [
    "nums"
   ]
  },
  {
   "cell_type": "code",
   "execution_count": 115,
   "id": "752543b2",
   "metadata": {
    "hidden": true
   },
   "outputs": [
    {
     "name": "stdout",
     "output_type": "stream",
     "text": [
      "140297059514304\n",
      "140297059514304\n"
     ]
    }
   ],
   "source": [
    "print(id(nums))\n",
    "print(id(num_backup))"
   ]
  },
  {
   "cell_type": "code",
   "execution_count": 122,
   "id": "5ca34f6d",
   "metadata": {
    "hidden": true
   },
   "outputs": [],
   "source": [
    "ages = [20,25,[26,27,28],30,35,40]"
   ]
  },
  {
   "cell_type": "code",
   "execution_count": 123,
   "id": "24a759f7",
   "metadata": {
    "hidden": true
   },
   "outputs": [],
   "source": [
    "ages_bkup = ages.copy()"
   ]
  },
  {
   "cell_type": "code",
   "execution_count": 124,
   "id": "f63eebcf",
   "metadata": {
    "hidden": true
   },
   "outputs": [
    {
     "data": {
      "text/plain": [
       "[20, 25, [26, 27, 28], 30, 35, 40]"
      ]
     },
     "execution_count": 124,
     "metadata": {},
     "output_type": "execute_result"
    }
   ],
   "source": [
    "ages_bkup"
   ]
  },
  {
   "cell_type": "code",
   "execution_count": 125,
   "id": "7b0b8165",
   "metadata": {
    "hidden": true
   },
   "outputs": [
    {
     "data": {
      "text/plain": [
       "140297062175360"
      ]
     },
     "execution_count": 125,
     "metadata": {},
     "output_type": "execute_result"
    }
   ],
   "source": [
    "id(ages)"
   ]
  },
  {
   "cell_type": "code",
   "execution_count": 126,
   "id": "38d3baf5",
   "metadata": {
    "hidden": true
   },
   "outputs": [
    {
     "data": {
      "text/plain": [
       "140297060157184"
      ]
     },
     "execution_count": 126,
     "metadata": {},
     "output_type": "execute_result"
    }
   ],
   "source": [
    "id(ages_bkup)"
   ]
  },
  {
   "cell_type": "code",
   "execution_count": 127,
   "id": "ab52fccb",
   "metadata": {
    "hidden": true
   },
   "outputs": [],
   "source": [
    "ages.append(100)"
   ]
  },
  {
   "cell_type": "code",
   "execution_count": 128,
   "id": "5808aa6a",
   "metadata": {
    "hidden": true
   },
   "outputs": [
    {
     "data": {
      "text/plain": [
       "[20, 25, [26, 27, 28], 30, 35, 40, 100]"
      ]
     },
     "execution_count": 128,
     "metadata": {},
     "output_type": "execute_result"
    }
   ],
   "source": [
    "ages"
   ]
  },
  {
   "cell_type": "code",
   "execution_count": 129,
   "id": "a52f8887",
   "metadata": {
    "hidden": true
   },
   "outputs": [
    {
     "data": {
      "text/plain": [
       "[20, 25, [26, 27, 28], 30, 35, 40]"
      ]
     },
     "execution_count": 129,
     "metadata": {},
     "output_type": "execute_result"
    }
   ],
   "source": [
    "ages_bkup"
   ]
  },
  {
   "cell_type": "code",
   "execution_count": 130,
   "id": "ad81ecea",
   "metadata": {
    "hidden": true
   },
   "outputs": [],
   "source": [
    "ages_bkup.append(99)"
   ]
  },
  {
   "cell_type": "code",
   "execution_count": 131,
   "id": "592ad61b",
   "metadata": {
    "hidden": true
   },
   "outputs": [
    {
     "data": {
      "text/plain": [
       "[20, 25, [26, 27, 28], 30, 35, 40, 99]"
      ]
     },
     "execution_count": 131,
     "metadata": {},
     "output_type": "execute_result"
    }
   ],
   "source": [
    "ages_bkup"
   ]
  },
  {
   "cell_type": "code",
   "execution_count": 132,
   "id": "d5148f3e",
   "metadata": {
    "hidden": true
   },
   "outputs": [
    {
     "data": {
      "text/plain": [
       "[20, 25, [26, 27, 28], 30, 35, 40, 100]"
      ]
     },
     "execution_count": 132,
     "metadata": {},
     "output_type": "execute_result"
    }
   ],
   "source": [
    "ages"
   ]
  },
  {
   "cell_type": "code",
   "execution_count": 133,
   "id": "dd920d87",
   "metadata": {
    "hidden": true
   },
   "outputs": [],
   "source": [
    "ages[2].append(29)"
   ]
  },
  {
   "cell_type": "code",
   "execution_count": 134,
   "id": "818f5215",
   "metadata": {
    "hidden": true
   },
   "outputs": [
    {
     "data": {
      "text/plain": [
       "[20, 25, [26, 27, 28, 29], 30, 35, 40, 100]"
      ]
     },
     "execution_count": 134,
     "metadata": {},
     "output_type": "execute_result"
    }
   ],
   "source": [
    "ages"
   ]
  },
  {
   "cell_type": "code",
   "execution_count": 135,
   "id": "3424274a",
   "metadata": {
    "hidden": true
   },
   "outputs": [
    {
     "data": {
      "text/plain": [
       "[20, 25, [26, 27, 28, 29], 30, 35, 40, 99]"
      ]
     },
     "execution_count": 135,
     "metadata": {},
     "output_type": "execute_result"
    }
   ],
   "source": [
    "ages_bkup"
   ]
  },
  {
   "cell_type": "code",
   "execution_count": 136,
   "id": "53ed3db3",
   "metadata": {
    "hidden": true
   },
   "outputs": [],
   "source": [
    "# shallow Vs Deep Copy"
   ]
  },
  {
   "cell_type": "code",
   "execution_count": 137,
   "id": "54f46877",
   "metadata": {
    "hidden": true
   },
   "outputs": [],
   "source": [
    "nums = [1,2,[3,4],5]"
   ]
  },
  {
   "cell_type": "code",
   "execution_count": 138,
   "id": "ddbd7635",
   "metadata": {
    "hidden": true
   },
   "outputs": [],
   "source": [
    "import copy"
   ]
  },
  {
   "cell_type": "code",
   "execution_count": 139,
   "id": "535f4cc5",
   "metadata": {
    "hidden": true
   },
   "outputs": [],
   "source": [
    "nums_s = copy.copy(nums)"
   ]
  },
  {
   "cell_type": "code",
   "execution_count": 140,
   "id": "4c2b9dd9",
   "metadata": {
    "hidden": true
   },
   "outputs": [
    {
     "data": {
      "text/plain": [
       "[1, 2, [3, 4], 5]"
      ]
     },
     "execution_count": 140,
     "metadata": {},
     "output_type": "execute_result"
    }
   ],
   "source": [
    "nums_s"
   ]
  },
  {
   "cell_type": "code",
   "execution_count": 141,
   "id": "10ce71f9",
   "metadata": {
    "hidden": true
   },
   "outputs": [],
   "source": [
    "nums[2].append(3.5)"
   ]
  },
  {
   "cell_type": "code",
   "execution_count": 142,
   "id": "a9280e60",
   "metadata": {
    "hidden": true
   },
   "outputs": [
    {
     "data": {
      "text/plain": [
       "[1, 2, [3, 4, 3.5], 5]"
      ]
     },
     "execution_count": 142,
     "metadata": {},
     "output_type": "execute_result"
    }
   ],
   "source": [
    "nums"
   ]
  },
  {
   "cell_type": "code",
   "execution_count": 143,
   "id": "145a101c",
   "metadata": {
    "hidden": true
   },
   "outputs": [
    {
     "data": {
      "text/plain": [
       "[1, 2, [3, 4, 3.5], 5]"
      ]
     },
     "execution_count": 143,
     "metadata": {},
     "output_type": "execute_result"
    }
   ],
   "source": [
    "nums_s"
   ]
  },
  {
   "cell_type": "code",
   "execution_count": 144,
   "id": "b7cad0ad",
   "metadata": {
    "hidden": true
   },
   "outputs": [
    {
     "data": {
      "text/plain": [
       "140297059669120"
      ]
     },
     "execution_count": 144,
     "metadata": {},
     "output_type": "execute_result"
    }
   ],
   "source": [
    "id(nums)"
   ]
  },
  {
   "cell_type": "code",
   "execution_count": 145,
   "id": "fbd8dd08",
   "metadata": {
    "hidden": true
   },
   "outputs": [
    {
     "data": {
      "text/plain": [
       "140297062732416"
      ]
     },
     "execution_count": 145,
     "metadata": {},
     "output_type": "execute_result"
    }
   ],
   "source": [
    "id(nums_s)"
   ]
  },
  {
   "cell_type": "code",
   "execution_count": 146,
   "id": "041eb425",
   "metadata": {
    "hidden": true
   },
   "outputs": [],
   "source": [
    "nums = [1,2,[3,4],5]"
   ]
  },
  {
   "cell_type": "code",
   "execution_count": 147,
   "id": "f7b20631",
   "metadata": {
    "hidden": true
   },
   "outputs": [],
   "source": [
    "nums_d = copy.deepcopy(nums)"
   ]
  },
  {
   "cell_type": "code",
   "execution_count": 148,
   "id": "5b4028c6",
   "metadata": {
    "hidden": true
   },
   "outputs": [
    {
     "data": {
      "text/plain": [
       "[1, 2, [3, 4], 5]"
      ]
     },
     "execution_count": 148,
     "metadata": {},
     "output_type": "execute_result"
    }
   ],
   "source": [
    "nums"
   ]
  },
  {
   "cell_type": "code",
   "execution_count": 149,
   "id": "827e5df9",
   "metadata": {
    "hidden": true
   },
   "outputs": [
    {
     "data": {
      "text/plain": [
       "[1, 2, [3, 4], 5]"
      ]
     },
     "execution_count": 149,
     "metadata": {},
     "output_type": "execute_result"
    }
   ],
   "source": [
    "nums_d"
   ]
  },
  {
   "cell_type": "code",
   "execution_count": 150,
   "id": "74abad8e",
   "metadata": {
    "hidden": true
   },
   "outputs": [],
   "source": [
    "nums.append(6)"
   ]
  },
  {
   "cell_type": "code",
   "execution_count": 151,
   "id": "14515525",
   "metadata": {
    "hidden": true
   },
   "outputs": [
    {
     "data": {
      "text/plain": [
       "[1, 2, [3, 4], 5, 6]"
      ]
     },
     "execution_count": 151,
     "metadata": {},
     "output_type": "execute_result"
    }
   ],
   "source": [
    "nums"
   ]
  },
  {
   "cell_type": "code",
   "execution_count": 152,
   "id": "67ce9bc8",
   "metadata": {
    "hidden": true
   },
   "outputs": [
    {
     "data": {
      "text/plain": [
       "[1, 2, [3, 4], 5]"
      ]
     },
     "execution_count": 152,
     "metadata": {},
     "output_type": "execute_result"
    }
   ],
   "source": [
    "nums_d"
   ]
  },
  {
   "cell_type": "code",
   "execution_count": 153,
   "id": "aac0a380",
   "metadata": {
    "hidden": true
   },
   "outputs": [],
   "source": [
    "nums[2].append(3.5)"
   ]
  },
  {
   "cell_type": "code",
   "execution_count": 154,
   "id": "bd00c5c5",
   "metadata": {
    "hidden": true
   },
   "outputs": [
    {
     "data": {
      "text/plain": [
       "[1, 2, [3, 4, 3.5], 5, 6]"
      ]
     },
     "execution_count": 154,
     "metadata": {},
     "output_type": "execute_result"
    }
   ],
   "source": [
    "nums"
   ]
  },
  {
   "cell_type": "code",
   "execution_count": 155,
   "id": "5194585d",
   "metadata": {
    "hidden": true
   },
   "outputs": [
    {
     "data": {
      "text/plain": [
       "[1, 2, [3, 4], 5]"
      ]
     },
     "execution_count": 155,
     "metadata": {},
     "output_type": "execute_result"
    }
   ],
   "source": [
    "nums_d"
   ]
  },
  {
   "cell_type": "code",
   "execution_count": 156,
   "id": "67af9152",
   "metadata": {
    "hidden": true
   },
   "outputs": [],
   "source": [
    "# in shallow copy inner list connected together\n",
    "# but in deep copy inner list is not connected"
   ]
  },
  {
   "cell_type": "code",
   "execution_count": null,
   "id": "8979b721",
   "metadata": {
    "hidden": true
   },
   "outputs": [],
   "source": []
  }
 ],
 "metadata": {
  "kernelspec": {
   "display_name": "Python 3 (ipykernel)",
   "language": "python",
   "name": "python3"
  },
  "language_info": {
   "codemirror_mode": {
    "name": "ipython",
    "version": 3
   },
   "file_extension": ".py",
   "mimetype": "text/x-python",
   "name": "python",
   "nbconvert_exporter": "python",
   "pygments_lexer": "ipython3",
   "version": "3.8.10"
  },
  "toc": {
   "base_numbering": 1,
   "nav_menu": {},
   "number_sections": true,
   "sideBar": true,
   "skip_h1_title": false,
   "title_cell": "Table of Contents",
   "title_sidebar": "Contents",
   "toc_cell": false,
   "toc_position": {},
   "toc_section_display": true,
   "toc_window_display": true
  },
  "varInspector": {
   "cols": {
    "lenName": 16,
    "lenType": 16,
    "lenVar": 40
   },
   "kernels_config": {
    "python": {
     "delete_cmd_postfix": "",
     "delete_cmd_prefix": "del ",
     "library": "var_list.py",
     "varRefreshCmd": "print(var_dic_list())"
    },
    "r": {
     "delete_cmd_postfix": ") ",
     "delete_cmd_prefix": "rm(",
     "library": "var_list.r",
     "varRefreshCmd": "cat(var_dic_list()) "
    }
   },
   "oldHeight": 122.855364,
   "position": {
    "height": "40px",
    "left": "908.182px",
    "right": "20px",
    "top": "120px",
    "width": "250px"
   },
   "types_to_exclude": [
    "module",
    "function",
    "builtin_function_or_method",
    "instance",
    "_Feature"
   ],
   "varInspector_section_display": "none",
   "window_display": false
  }
 },
 "nbformat": 4,
 "nbformat_minor": 5
}
