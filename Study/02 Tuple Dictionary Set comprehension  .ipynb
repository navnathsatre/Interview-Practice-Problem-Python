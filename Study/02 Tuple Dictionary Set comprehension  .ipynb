{
 "cells": [
  {
   "cell_type": "markdown",
   "id": "af4dac69",
   "metadata": {},
   "source": [
    "# Tuple (Immutable)"
   ]
  },
  {
   "cell_type": "code",
   "execution_count": 1,
   "id": "5ea966d4",
   "metadata": {},
   "outputs": [
    {
     "data": {
      "text/plain": [
       "tuple"
      ]
     },
     "execution_count": 1,
     "metadata": {},
     "output_type": "execute_result"
    }
   ],
   "source": [
    "x = ()\n",
    "type(x)"
   ]
  },
  {
   "cell_type": "code",
   "execution_count": 2,
   "id": "075da15f",
   "metadata": {},
   "outputs": [
    {
     "data": {
      "text/plain": [
       "tuple"
      ]
     },
     "execution_count": 2,
     "metadata": {},
     "output_type": "execute_result"
    }
   ],
   "source": [
    "y = tuple()\n",
    "type(y)"
   ]
  },
  {
   "cell_type": "code",
   "execution_count": 3,
   "id": "a38d0a9d",
   "metadata": {},
   "outputs": [],
   "source": [
    "data =('Wednesday','AIML',100,'ExcelR')"
   ]
  },
  {
   "cell_type": "code",
   "execution_count": 4,
   "id": "160c00f1",
   "metadata": {},
   "outputs": [
    {
     "data": {
      "text/plain": [
       "tuple"
      ]
     },
     "execution_count": 4,
     "metadata": {},
     "output_type": "execute_result"
    }
   ],
   "source": [
    "type(data)"
   ]
  },
  {
   "cell_type": "code",
   "execution_count": 5,
   "id": "c9625800",
   "metadata": {},
   "outputs": [
    {
     "data": {
      "text/plain": [
       "4"
      ]
     },
     "execution_count": 5,
     "metadata": {},
     "output_type": "execute_result"
    }
   ],
   "source": [
    "len(data)"
   ]
  },
  {
   "cell_type": "code",
   "execution_count": 8,
   "id": "c2fd235f",
   "metadata": {},
   "outputs": [],
   "source": [
    "nums = (32,34,7,87)"
   ]
  },
  {
   "cell_type": "code",
   "execution_count": 9,
   "id": "a1513501",
   "metadata": {},
   "outputs": [
    {
     "data": {
      "text/plain": [
       "7"
      ]
     },
     "execution_count": 9,
     "metadata": {},
     "output_type": "execute_result"
    }
   ],
   "source": [
    "min(nums)"
   ]
  },
  {
   "cell_type": "code",
   "execution_count": 10,
   "id": "70a35b2c",
   "metadata": {},
   "outputs": [
    {
     "data": {
      "text/plain": [
       "87"
      ]
     },
     "execution_count": 10,
     "metadata": {},
     "output_type": "execute_result"
    }
   ],
   "source": [
    "max(nums)"
   ]
  },
  {
   "cell_type": "code",
   "execution_count": 11,
   "id": "41fa406f",
   "metadata": {},
   "outputs": [
    {
     "data": {
      "text/plain": [
       "160"
      ]
     },
     "execution_count": 11,
     "metadata": {},
     "output_type": "execute_result"
    }
   ],
   "source": [
    "sum(nums)"
   ]
  },
  {
   "cell_type": "code",
   "execution_count": 12,
   "id": "cab6713b",
   "metadata": {},
   "outputs": [],
   "source": [
    "# append, extend, insert, pop, remove, sort, reverse, copy, clear, index, count"
   ]
  },
  {
   "cell_type": "code",
   "execution_count": 13,
   "id": "2cd959b2",
   "metadata": {},
   "outputs": [],
   "source": [
    "# In Tuple: index, count "
   ]
  },
  {
   "cell_type": "code",
   "execution_count": 14,
   "id": "a850ca6d",
   "metadata": {},
   "outputs": [
    {
     "name": "stdout",
     "output_type": "stream",
     "text": [
      "['__add__', '__class__', '__contains__', '__delattr__', '__dir__', '__doc__', '__eq__', '__format__', '__ge__', '__getattribute__', '__getitem__', '__getnewargs__', '__gt__', '__hash__', '__init__', '__init_subclass__', '__iter__', '__le__', '__len__', '__lt__', '__mul__', '__ne__', '__new__', '__reduce__', '__reduce_ex__', '__repr__', '__rmul__', '__setattr__', '__sizeof__', '__str__', '__subclasshook__', 'count', 'index']\n"
     ]
    }
   ],
   "source": [
    "print(dir(nums))"
   ]
  },
  {
   "cell_type": "code",
   "execution_count": 15,
   "id": "89a2989e",
   "metadata": {},
   "outputs": [],
   "source": [
    "mytuple = ('Python','R','SAS','Hadoop','Spark','Java','Python','Java','AIML')"
   ]
  },
  {
   "cell_type": "code",
   "execution_count": 16,
   "id": "088078a9",
   "metadata": {},
   "outputs": [
    {
     "data": {
      "text/plain": [
       "2"
      ]
     },
     "execution_count": 16,
     "metadata": {},
     "output_type": "execute_result"
    }
   ],
   "source": [
    "mytuple.count(\"Python\")"
   ]
  },
  {
   "cell_type": "code",
   "execution_count": 17,
   "id": "517c8d69",
   "metadata": {},
   "outputs": [
    {
     "data": {
      "text/plain": [
       "2"
      ]
     },
     "execution_count": 17,
     "metadata": {},
     "output_type": "execute_result"
    }
   ],
   "source": [
    "mytuple.index(\"SAS\")"
   ]
  },
  {
   "cell_type": "code",
   "execution_count": 18,
   "id": "0736c5d5",
   "metadata": {},
   "outputs": [
    {
     "data": {
      "text/plain": [
       "'\\nList is Mutable         Tuple is immutable\\n[]                       ()\\ntabke more memory       less memory\\nmore time to process    less time to process\\n'"
      ]
     },
     "execution_count": 18,
     "metadata": {},
     "output_type": "execute_result"
    }
   ],
   "source": [
    "'''\n",
    "List is Mutable         Tuple is immutable\n",
    "[]                       ()\n",
    "tabke more memory       less memory\n",
    "more time to process    less time to process\n",
    "'''"
   ]
  },
  {
   "cell_type": "code",
   "execution_count": 21,
   "id": "ac028543",
   "metadata": {},
   "outputs": [
    {
     "name": "stdout",
     "output_type": "stream",
     "text": [
      "List Size:  136\n",
      "Tuple Size:  120\n"
     ]
    }
   ],
   "source": [
    "import sys\n",
    "print(\"List Size: \", sys.getsizeof([1,2,3,4,5,6,7,8,9,10]))\n",
    "print(\"Tuple Size: \", sys.getsizeof((1,2,3,4,5,6,7,8,9,10)))"
   ]
  },
  {
   "cell_type": "code",
   "execution_count": 29,
   "id": "aed84680",
   "metadata": {},
   "outputs": [
    {
     "name": "stdout",
     "output_type": "stream",
     "text": [
      "List takes 83.77451199976349\n",
      "Tuple takes 7.953740000175458\n"
     ]
    }
   ],
   "source": [
    "import timeit\n",
    "print(\"List takes\",timeit.timeit(stmt = '[1,2,3,4,5,6,7,8,9,10]', number=1000000)*1000)\n",
    "print(\"Tuple takes\",timeit.timeit(stmt = '(1,2,3,4,5,6,7,8,9,10)', number=1000000)*1000)"
   ]
  },
  {
   "cell_type": "code",
   "execution_count": 30,
   "id": "f2a5b98d",
   "metadata": {},
   "outputs": [],
   "source": [
    "# depends on: HPC => High Performence Computer"
   ]
  },
  {
   "cell_type": "code",
   "execution_count": 31,
   "id": "5888bc30",
   "metadata": {},
   "outputs": [
    {
     "data": {
      "text/plain": [
       "list"
      ]
     },
     "execution_count": 31,
     "metadata": {},
     "output_type": "execute_result"
    }
   ],
   "source": [
    "x = [1,2,3,4,5,6,7,8,9,10]\n",
    "type(x)"
   ]
  },
  {
   "cell_type": "code",
   "execution_count": 32,
   "id": "0c06ed43",
   "metadata": {},
   "outputs": [
    {
     "data": {
      "text/plain": [
       "tuple"
      ]
     },
     "execution_count": 32,
     "metadata": {},
     "output_type": "execute_result"
    }
   ],
   "source": [
    "y = tuple(x)\n",
    "type(y)"
   ]
  },
  {
   "cell_type": "code",
   "execution_count": 33,
   "id": "14a44f1a",
   "metadata": {},
   "outputs": [
    {
     "data": {
      "text/plain": [
       "(1, 2, 3, 4, 5, 6, 7, 8, 9, 10)"
      ]
     },
     "execution_count": 33,
     "metadata": {},
     "output_type": "execute_result"
    }
   ],
   "source": [
    "y"
   ]
  },
  {
   "cell_type": "code",
   "execution_count": 38,
   "id": "b0519f20",
   "metadata": {},
   "outputs": [
    {
     "name": "stdout",
     "output_type": "stream",
     "text": [
      "Enter your age32\n"
     ]
    }
   ],
   "source": [
    "age = tuple(input(\"Enter your age\"))"
   ]
  },
  {
   "cell_type": "code",
   "execution_count": 39,
   "id": "cebf2af0",
   "metadata": {},
   "outputs": [
    {
     "data": {
      "text/plain": [
       "tuple"
      ]
     },
     "execution_count": 39,
     "metadata": {},
     "output_type": "execute_result"
    }
   ],
   "source": [
    "type(age)"
   ]
  },
  {
   "cell_type": "code",
   "execution_count": 42,
   "id": "8df63f9e",
   "metadata": {},
   "outputs": [],
   "source": [
    "x = (10)\n",
    "y = [10]"
   ]
  },
  {
   "cell_type": "code",
   "execution_count": 43,
   "id": "6be9ab17",
   "metadata": {},
   "outputs": [
    {
     "name": "stdout",
     "output_type": "stream",
     "text": [
      "<class 'int'>\n",
      "<class 'list'>\n"
     ]
    }
   ],
   "source": [
    "print(type(x))\n",
    "print(type(y))"
   ]
  },
  {
   "cell_type": "code",
   "execution_count": 44,
   "id": "927c6a21",
   "metadata": {},
   "outputs": [
    {
     "data": {
      "text/plain": [
       "str"
      ]
     },
     "execution_count": 44,
     "metadata": {},
     "output_type": "execute_result"
    }
   ],
   "source": [
    "city = ('Chennai')\n",
    "type(city)"
   ]
  },
  {
   "cell_type": "code",
   "execution_count": 45,
   "id": "e9016fae",
   "metadata": {},
   "outputs": [
    {
     "data": {
      "text/plain": [
       "tuple"
      ]
     },
     "execution_count": 45,
     "metadata": {},
     "output_type": "execute_result"
    }
   ],
   "source": [
    "data = (10,20)\n",
    "type(data)"
   ]
  },
  {
   "cell_type": "code",
   "execution_count": 46,
   "id": "6d16fadd",
   "metadata": {},
   "outputs": [],
   "source": [
    "locations = ('Chennai','bangalore')"
   ]
  },
  {
   "cell_type": "code",
   "execution_count": 47,
   "id": "b03fe4bf",
   "metadata": {},
   "outputs": [
    {
     "data": {
      "text/plain": [
       "tuple"
      ]
     },
     "execution_count": 47,
     "metadata": {},
     "output_type": "execute_result"
    }
   ],
   "source": [
    "x = (10,)\n",
    "type(x)"
   ]
  },
  {
   "cell_type": "code",
   "execution_count": 49,
   "id": "81a20729",
   "metadata": {},
   "outputs": [
    {
     "data": {
      "text/plain": [
       "tuple"
      ]
     },
     "execution_count": 49,
     "metadata": {},
     "output_type": "execute_result"
    }
   ],
   "source": [
    "c = ('Chennai',)\n",
    "type(c)"
   ]
  },
  {
   "cell_type": "markdown",
   "id": "e19f0bb7",
   "metadata": {},
   "source": [
    "# Dictionary Mutable"
   ]
  },
  {
   "cell_type": "code",
   "execution_count": 50,
   "id": "dd2430c4",
   "metadata": {},
   "outputs": [],
   "source": [
    "# key value pair of elements\n",
    "# it is unordered array\n",
    "# dictionary | hash | hash map|"
   ]
  },
  {
   "cell_type": "code",
   "execution_count": 51,
   "id": "1100bb6c",
   "metadata": {},
   "outputs": [],
   "source": [
    "mydata = {'today':'wednesday','age':25,'tech':'python','company':'ExcelR'}"
   ]
  },
  {
   "cell_type": "code",
   "execution_count": 53,
   "id": "fc494372",
   "metadata": {},
   "outputs": [
    {
     "data": {
      "text/plain": [
       "'Bangalore'"
      ]
     },
     "execution_count": 53,
     "metadata": {},
     "output_type": "execute_result"
    }
   ],
   "source": [
    "mydata.setdefault('name','Bangalore')"
   ]
  },
  {
   "cell_type": "code",
   "execution_count": 54,
   "id": "089f1769",
   "metadata": {},
   "outputs": [
    {
     "data": {
      "text/plain": [
       "25"
      ]
     },
     "execution_count": 54,
     "metadata": {},
     "output_type": "execute_result"
    }
   ],
   "source": [
    "mydata.get('age')"
   ]
  },
  {
   "cell_type": "code",
   "execution_count": 57,
   "id": "0532415a",
   "metadata": {},
   "outputs": [
    {
     "data": {
      "text/plain": [
       "'---'"
      ]
     },
     "execution_count": 57,
     "metadata": {},
     "output_type": "execute_result"
    }
   ],
   "source": [
    "mydata.get('course','---')"
   ]
  },
  {
   "cell_type": "code",
   "execution_count": 58,
   "id": "f641e61f",
   "metadata": {},
   "outputs": [
    {
     "data": {
      "text/plain": [
       "{'today': 'wednesday',\n",
       " 'age': 25,\n",
       " 'tech': 'python',\n",
       " 'company': 'ExcelR',\n",
       " 'name': 'Bangalore'}"
      ]
     },
     "execution_count": 58,
     "metadata": {},
     "output_type": "execute_result"
    }
   ],
   "source": [
    "mydata"
   ]
  },
  {
   "cell_type": "code",
   "execution_count": 59,
   "id": "8826e8b4",
   "metadata": {},
   "outputs": [],
   "source": [
    "mydata['location'] = 'Chennai'"
   ]
  },
  {
   "cell_type": "code",
   "execution_count": 60,
   "id": "78309b17",
   "metadata": {},
   "outputs": [
    {
     "data": {
      "text/plain": [
       "{'today': 'wednesday',\n",
       " 'age': 25,\n",
       " 'tech': 'python',\n",
       " 'company': 'ExcelR',\n",
       " 'name': 'Bangalore',\n",
       " 'location': 'Chennai'}"
      ]
     },
     "execution_count": 60,
     "metadata": {},
     "output_type": "execute_result"
    }
   ],
   "source": [
    "mydata"
   ]
  },
  {
   "cell_type": "code",
   "execution_count": 61,
   "id": "1cd63ffd",
   "metadata": {},
   "outputs": [],
   "source": [
    "mydata['Contry'] = 'India'"
   ]
  },
  {
   "cell_type": "code",
   "execution_count": 62,
   "id": "e67b08ce",
   "metadata": {},
   "outputs": [
    {
     "data": {
      "text/plain": [
       "{'today': 'wednesday',\n",
       " 'age': 25,\n",
       " 'tech': 'python',\n",
       " 'company': 'ExcelR',\n",
       " 'name': 'Bangalore',\n",
       " 'location': 'Chennai',\n",
       " 'Contry': 'India'}"
      ]
     },
     "execution_count": 62,
     "metadata": {},
     "output_type": "execute_result"
    }
   ],
   "source": [
    "mydata"
   ]
  },
  {
   "cell_type": "code",
   "execution_count": 63,
   "id": "9ba30ff0",
   "metadata": {},
   "outputs": [],
   "source": [
    "mydata['today'] = 'Thursday'  # key must be unique"
   ]
  },
  {
   "cell_type": "code",
   "execution_count": 64,
   "id": "b49fe95b",
   "metadata": {},
   "outputs": [
    {
     "data": {
      "text/plain": [
       "{'today': 'Thursday',\n",
       " 'age': 25,\n",
       " 'tech': 'python',\n",
       " 'company': 'ExcelR',\n",
       " 'name': 'Bangalore',\n",
       " 'location': 'Chennai',\n",
       " 'Contry': 'India'}"
      ]
     },
     "execution_count": 64,
     "metadata": {},
     "output_type": "execute_result"
    }
   ],
   "source": [
    "mydata"
   ]
  },
  {
   "cell_type": "code",
   "execution_count": 65,
   "id": "8d73f49e",
   "metadata": {},
   "outputs": [],
   "source": [
    "mydata['tech'] = ['python','R','AI','Stats']"
   ]
  },
  {
   "cell_type": "code",
   "execution_count": 66,
   "id": "f5e6d5ea",
   "metadata": {},
   "outputs": [
    {
     "data": {
      "text/plain": [
       "{'today': 'Thursday',\n",
       " 'age': 25,\n",
       " 'tech': ['python', 'R', 'AI', 'Stats'],\n",
       " 'company': 'ExcelR',\n",
       " 'name': 'Bangalore',\n",
       " 'location': 'Chennai',\n",
       " 'Contry': 'India'}"
      ]
     },
     "execution_count": 66,
     "metadata": {},
     "output_type": "execute_result"
    }
   ],
   "source": [
    "mydata"
   ]
  },
  {
   "cell_type": "code",
   "execution_count": 77,
   "id": "82a626d0",
   "metadata": {},
   "outputs": [
    {
     "name": "stdout",
     "output_type": "stream",
     "text": [
      "today ==> Thursday\n",
      "age ==> 25\n",
      "tech ==> ['python', 'R', 'AI', 'Stats']\n",
      "company ==> ExcelR\n",
      "name ==> Bangalore\n",
      "location ==> Chennai\n",
      "Contry ==> India\n"
     ]
    }
   ],
   "source": [
    "for k in mydata.keys():\n",
    "    print(k + ' ==> ' + str(mydata[k]))"
   ]
  },
  {
   "cell_type": "code",
   "execution_count": 73,
   "id": "64d26193",
   "metadata": {},
   "outputs": [
    {
     "data": {
      "text/plain": [
       "dict_items([('today', 'Thursday'), ('age', 25), ('tech', ['python', 'R', 'AI', 'Stats']), ('company', 'ExcelR'), ('name', 'Bangalore'), ('location', 'Chennai'), ('Contry', 'India')])"
      ]
     },
     "execution_count": 73,
     "metadata": {},
     "output_type": "execute_result"
    }
   ],
   "source": [
    "mydata.items()"
   ]
  },
  {
   "cell_type": "code",
   "execution_count": 74,
   "id": "751e5c85",
   "metadata": {},
   "outputs": [
    {
     "name": "stdout",
     "output_type": "stream",
     "text": [
      "today Thursday\n",
      "age 25\n",
      "tech ['python', 'R', 'AI', 'Stats']\n",
      "company ExcelR\n",
      "name Bangalore\n",
      "location Chennai\n",
      "Contry India\n"
     ]
    }
   ],
   "source": [
    "for k, v in mydata.items():\n",
    "    print(k,v)"
   ]
  },
  {
   "cell_type": "code",
   "execution_count": 78,
   "id": "a76f5c94",
   "metadata": {},
   "outputs": [
    {
     "name": "stdout",
     "output_type": "stream",
     "text": [
      "['__class__', '__contains__', '__delattr__', '__delitem__', '__dir__', '__doc__', '__eq__', '__format__', '__ge__', '__getattribute__', '__getitem__', '__gt__', '__hash__', '__init__', '__init_subclass__', '__iter__', '__le__', '__len__', '__lt__', '__ne__', '__new__', '__reduce__', '__reduce_ex__', '__repr__', '__reversed__', '__setattr__', '__setitem__', '__sizeof__', '__str__', '__subclasshook__', 'clear', 'copy', 'fromkeys', 'get', 'items', 'keys', 'pop', 'popitem', 'setdefault', 'update', 'values']\n"
     ]
    }
   ],
   "source": [
    "print(dir(mydata))"
   ]
  },
  {
   "cell_type": "code",
   "execution_count": 79,
   "id": "d3ea9ebd",
   "metadata": {},
   "outputs": [],
   "source": [
    "empdata = ['fname','lname','age','degree','exp','gender','address']"
   ]
  },
  {
   "cell_type": "code",
   "execution_count": 82,
   "id": "06fe86be",
   "metadata": {},
   "outputs": [],
   "source": [
    "emp_info = dict.fromkeys(empdata, 'ExcelR')"
   ]
  },
  {
   "cell_type": "code",
   "execution_count": 83,
   "id": "5dbde7c1",
   "metadata": {},
   "outputs": [
    {
     "data": {
      "text/plain": [
       "{'fname': 'ExcelR',\n",
       " 'lname': 'ExcelR',\n",
       " 'age': 'ExcelR',\n",
       " 'degree': 'ExcelR',\n",
       " 'exp': 'ExcelR',\n",
       " 'gender': 'ExcelR',\n",
       " 'address': 'ExcelR'}"
      ]
     },
     "execution_count": 83,
     "metadata": {},
     "output_type": "execute_result"
    }
   ],
   "source": [
    "emp_info"
   ]
  },
  {
   "cell_type": "code",
   "execution_count": 89,
   "id": "7d6fb7f1",
   "metadata": {},
   "outputs": [
    {
     "ename": "TypeError",
     "evalue": "update expected at most 1 argument, got 2",
     "output_type": "error",
     "traceback": [
      "\u001b[0;31m---------------------------------------------------------------------------\u001b[0m",
      "\u001b[0;31mTypeError\u001b[0m                                 Traceback (most recent call last)",
      "Input \u001b[0;32mIn [89]\u001b[0m, in \u001b[0;36m<cell line: 1>\u001b[0;34m()\u001b[0m\n\u001b[0;32m----> 1\u001b[0m \u001b[43memp_info\u001b[49m\u001b[38;5;241;43m.\u001b[39;49m\u001b[43mupdate\u001b[49m\u001b[43m(\u001b[49m\u001b[38;5;124;43m'\u001b[39;49m\u001b[38;5;124;43mschool\u001b[39;49m\u001b[38;5;124;43m'\u001b[39;49m\u001b[43m,\u001b[49m\u001b[38;5;124;43m'\u001b[39;49m\u001b[38;5;124;43mNone\u001b[39;49m\u001b[38;5;124;43m'\u001b[39;49m\u001b[43m)\u001b[49m\n",
      "\u001b[0;31mTypeError\u001b[0m: update expected at most 1 argument, got 2"
     ]
    }
   ],
   "source": [
    "emp_info.update('school','None')"
   ]
  },
  {
   "cell_type": "code",
   "execution_count": 98,
   "id": "437ca461",
   "metadata": {},
   "outputs": [],
   "source": [
    "sample_dict = {\n",
    "    'name' :'Navnath Satre',\n",
    "    'age' : 25,\n",
    "    'exp' : {'trainee':['python','R']},\n",
    "    'Sub' : ['math','phy',['che','bio']] \n",
    "}"
   ]
  },
  {
   "cell_type": "code",
   "execution_count": 99,
   "id": "88f1432f",
   "metadata": {},
   "outputs": [
    {
     "data": {
      "text/plain": [
       "{'name': 'Navnath Satre',\n",
       " 'age': 25,\n",
       " 'exp': {'trainee': ['python', 'R']},\n",
       " 'Sub': ['math', 'phy', ['che', 'bio']]}"
      ]
     },
     "execution_count": 99,
     "metadata": {},
     "output_type": "execute_result"
    }
   ],
   "source": [
    "sample_dict"
   ]
  },
  {
   "cell_type": "code",
   "execution_count": 101,
   "id": "bb89170f",
   "metadata": {},
   "outputs": [
    {
     "data": {
      "text/plain": [
       "'bio'"
      ]
     },
     "execution_count": 101,
     "metadata": {},
     "output_type": "execute_result"
    }
   ],
   "source": [
    "sample_dict['Sub'][2][1]"
   ]
  },
  {
   "cell_type": "code",
   "execution_count": 102,
   "id": "02476ef5",
   "metadata": {},
   "outputs": [
    {
     "data": {
      "text/plain": [
       "'bio'"
      ]
     },
     "execution_count": 102,
     "metadata": {},
     "output_type": "execute_result"
    }
   ],
   "source": [
    "sample_dict.get('Sub')[2][1]"
   ]
  },
  {
   "cell_type": "markdown",
   "id": "1c4c2b9e",
   "metadata": {},
   "source": [
    "# Set Mutable"
   ]
  },
  {
   "cell_type": "code",
   "execution_count": 103,
   "id": "ca8e94c5",
   "metadata": {},
   "outputs": [],
   "source": [
    "# []\n",
    "# ()\n",
    "# {k:v}\n",
    "# {}"
   ]
  },
  {
   "cell_type": "code",
   "execution_count": 104,
   "id": "acbd98de",
   "metadata": {},
   "outputs": [
    {
     "data": {
      "text/plain": [
       "set"
      ]
     },
     "execution_count": 104,
     "metadata": {},
     "output_type": "execute_result"
    }
   ],
   "source": [
    "myset = set()\n",
    "type(myset)"
   ]
  },
  {
   "cell_type": "code",
   "execution_count": 105,
   "id": "75f84edd",
   "metadata": {},
   "outputs": [],
   "source": [
    "myset = {1,2,3,4,5,6,7,8,9,3,4,56,6,6,6}"
   ]
  },
  {
   "cell_type": "code",
   "execution_count": 106,
   "id": "6ebf9200",
   "metadata": {},
   "outputs": [
    {
     "data": {
      "text/plain": [
       "{1, 2, 3, 4, 5, 6, 7, 8, 9, 56}"
      ]
     },
     "execution_count": 106,
     "metadata": {},
     "output_type": "execute_result"
    }
   ],
   "source": [
    "myset"
   ]
  },
  {
   "cell_type": "code",
   "execution_count": 107,
   "id": "09e95376",
   "metadata": {},
   "outputs": [],
   "source": [
    "myset.add(11)"
   ]
  },
  {
   "cell_type": "code",
   "execution_count": 108,
   "id": "df027325",
   "metadata": {},
   "outputs": [
    {
     "data": {
      "text/plain": [
       "{1, 2, 3, 4, 5, 6, 7, 8, 9, 11, 56}"
      ]
     },
     "execution_count": 108,
     "metadata": {},
     "output_type": "execute_result"
    }
   ],
   "source": [
    "myset"
   ]
  },
  {
   "cell_type": "code",
   "execution_count": 109,
   "id": "c62e81a2",
   "metadata": {},
   "outputs": [],
   "source": [
    "myset.add(13)"
   ]
  },
  {
   "cell_type": "code",
   "execution_count": 110,
   "id": "4400221d",
   "metadata": {},
   "outputs": [
    {
     "data": {
      "text/plain": [
       "{1, 2, 3, 4, 5, 6, 7, 8, 9, 11, 13, 56}"
      ]
     },
     "execution_count": 110,
     "metadata": {},
     "output_type": "execute_result"
    }
   ],
   "source": [
    "myset"
   ]
  },
  {
   "cell_type": "code",
   "execution_count": 111,
   "id": "e2c4796d",
   "metadata": {},
   "outputs": [],
   "source": [
    "myset.add(9) # Not duplicate allow"
   ]
  },
  {
   "cell_type": "code",
   "execution_count": 112,
   "id": "333e19a5",
   "metadata": {},
   "outputs": [
    {
     "data": {
      "text/plain": [
       "{1, 2, 3, 4, 5, 6, 7, 8, 9, 11, 13, 56}"
      ]
     },
     "execution_count": 112,
     "metadata": {},
     "output_type": "execute_result"
    }
   ],
   "source": [
    "myset"
   ]
  },
  {
   "cell_type": "code",
   "execution_count": 1,
   "id": "1f481916",
   "metadata": {},
   "outputs": [],
   "source": [
    "odds = {1,3,5,7,9}\n",
    "even = {2,4,6,8,10}\n",
    "prime = {2,3,5,7}\n",
    "composiites = {1,2,4,5,6,8,9}"
   ]
  },
  {
   "cell_type": "code",
   "execution_count": 2,
   "id": "13a61ef0",
   "metadata": {},
   "outputs": [
    {
     "data": {
      "text/plain": [
       "{1, 2, 3, 4, 5, 6, 7, 8, 9, 10}"
      ]
     },
     "execution_count": 2,
     "metadata": {},
     "output_type": "execute_result"
    }
   ],
   "source": [
    "odds.union(even)"
   ]
  },
  {
   "cell_type": "code",
   "execution_count": 3,
   "id": "0d48956b",
   "metadata": {},
   "outputs": [
    {
     "data": {
      "text/plain": [
       "set()"
      ]
     },
     "execution_count": 3,
     "metadata": {},
     "output_type": "execute_result"
    }
   ],
   "source": [
    "odds.intersection(even)"
   ]
  },
  {
   "cell_type": "code",
   "execution_count": 4,
   "id": "61a12479",
   "metadata": {},
   "outputs": [
    {
     "data": {
      "text/plain": [
       "set()"
      ]
     },
     "execution_count": 4,
     "metadata": {},
     "output_type": "execute_result"
    }
   ],
   "source": [
    "odds.intersection(even)"
   ]
  },
  {
   "cell_type": "code",
   "execution_count": 5,
   "id": "f73413b5",
   "metadata": {},
   "outputs": [
    {
     "data": {
      "text/plain": [
       "{1, 5, 9}"
      ]
     },
     "execution_count": 5,
     "metadata": {},
     "output_type": "execute_result"
    }
   ],
   "source": [
    "odds.intersection(composiites)"
   ]
  },
  {
   "cell_type": "code",
   "execution_count": 6,
   "id": "274d35ef",
   "metadata": {},
   "outputs": [
    {
     "data": {
      "text/plain": [
       "{3, 7}"
      ]
     },
     "execution_count": 6,
     "metadata": {},
     "output_type": "execute_result"
    }
   ],
   "source": [
    "odds.difference(composiites)"
   ]
  },
  {
   "cell_type": "code",
   "execution_count": 7,
   "id": "673d0d01",
   "metadata": {},
   "outputs": [
    {
     "data": {
      "text/plain": [
       "{2, 4, 6, 8}"
      ]
     },
     "execution_count": 7,
     "metadata": {},
     "output_type": "execute_result"
    }
   ],
   "source": [
    "composiites.difference(odds)"
   ]
  },
  {
   "cell_type": "code",
   "execution_count": 9,
   "id": "33b48f7c",
   "metadata": {},
   "outputs": [],
   "source": [
    "a = {1,3,5,7,9}\n",
    "b = {1,2,4,5,6,8,9}"
   ]
  },
  {
   "cell_type": "code",
   "execution_count": 10,
   "id": "4b098e79",
   "metadata": {},
   "outputs": [
    {
     "data": {
      "text/plain": [
       "{3, 7}"
      ]
     },
     "execution_count": 10,
     "metadata": {},
     "output_type": "execute_result"
    }
   ],
   "source": [
    "a-b"
   ]
  },
  {
   "cell_type": "code",
   "execution_count": 11,
   "id": "11f89b78",
   "metadata": {},
   "outputs": [
    {
     "data": {
      "text/plain": [
       "{2, 4, 6, 8}"
      ]
     },
     "execution_count": 11,
     "metadata": {},
     "output_type": "execute_result"
    }
   ],
   "source": [
    "b-a"
   ]
  },
  {
   "cell_type": "code",
   "execution_count": 12,
   "id": "21975f7c",
   "metadata": {},
   "outputs": [
    {
     "data": {
      "text/plain": [
       "{1, 5, 9}"
      ]
     },
     "execution_count": 12,
     "metadata": {},
     "output_type": "execute_result"
    }
   ],
   "source": [
    "a & b # common"
   ]
  },
  {
   "cell_type": "code",
   "execution_count": 14,
   "id": "4e519d62",
   "metadata": {},
   "outputs": [
    {
     "data": {
      "text/plain": [
       "{2, 3, 4, 6, 7, 8}"
      ]
     },
     "execution_count": 14,
     "metadata": {},
     "output_type": "execute_result"
    }
   ],
   "source": [
    "(a-b).union(b-a) #not common"
   ]
  },
  {
   "cell_type": "code",
   "execution_count": 15,
   "id": "34a210e3",
   "metadata": {},
   "outputs": [
    {
     "data": {
      "text/plain": [
       "{2, 3, 4, 6, 7, 8}"
      ]
     },
     "execution_count": 15,
     "metadata": {},
     "output_type": "execute_result"
    }
   ],
   "source": [
    "a.symmetric_difference(b) # not common"
   ]
  },
  {
   "cell_type": "code",
   "execution_count": 16,
   "id": "e11db48f",
   "metadata": {},
   "outputs": [
    {
     "data": {
      "text/plain": [
       "{2, 3, 4, 6, 7, 8}"
      ]
     },
     "execution_count": 16,
     "metadata": {},
     "output_type": "execute_result"
    }
   ],
   "source": [
    "a ^ b  # not common"
   ]
  },
  {
   "cell_type": "code",
   "execution_count": 17,
   "id": "8ff85438",
   "metadata": {},
   "outputs": [],
   "source": [
    "mydata = [1,2,3,4,5,5,6,6,7,7,8,8,9,7,6,6,4,3,2,2]"
   ]
  },
  {
   "cell_type": "code",
   "execution_count": 18,
   "id": "02a0d403",
   "metadata": {},
   "outputs": [
    {
     "data": {
      "text/plain": [
       "[1, 2, 3, 4, 5, 5, 6, 6, 7, 7, 8, 8, 9, 7, 6, 6, 4, 3, 2, 2]"
      ]
     },
     "execution_count": 18,
     "metadata": {},
     "output_type": "execute_result"
    }
   ],
   "source": [
    "mydata"
   ]
  },
  {
   "cell_type": "code",
   "execution_count": 19,
   "id": "2c0f4169",
   "metadata": {},
   "outputs": [
    {
     "data": {
      "text/plain": [
       "[1, 2, 3, 4, 5, 6, 7, 8, 9]"
      ]
     },
     "execution_count": 19,
     "metadata": {},
     "output_type": "execute_result"
    }
   ],
   "source": [
    "mydata1 = list(set(mydata))\n",
    "mydata1"
   ]
  },
  {
   "cell_type": "code",
   "execution_count": null,
   "id": "ae8c6ea7",
   "metadata": {},
   "outputs": [],
   "source": [
    "Immutable\n",
    "    Numers\n",
    "    String\n",
    "    Tuple\n",
    "Mutable\n",
    "    List\n",
    "    Dictionary\n",
    "    Set"
   ]
  },
  {
   "cell_type": "markdown",
   "id": "17c5aab4",
   "metadata": {},
   "source": [
    "# List Comprehension"
   ]
  },
  {
   "cell_type": "code",
   "execution_count": null,
   "id": "712dd323",
   "metadata": {},
   "outputs": [],
   "source": [
    "[expr for x in collection/sequence]\n",
    "[expr for x in collection/sequence if cond]\n",
    "[expr for x in collection/sequence if cond1 % cond2]\n",
    "[expr for x in collection/sequence for y in collection/sequence]\n"
   ]
  },
  {
   "cell_type": "code",
   "execution_count": 20,
   "id": "632ec75d",
   "metadata": {},
   "outputs": [
    {
     "data": {
      "text/plain": [
       "[1, 2, 3, 4, 5, 6, 7, 8, 9, 10]"
      ]
     },
     "execution_count": 20,
     "metadata": {},
     "output_type": "execute_result"
    }
   ],
   "source": [
    "list(range(1,11))"
   ]
  },
  {
   "cell_type": "code",
   "execution_count": 22,
   "id": "ab3fa730",
   "metadata": {},
   "outputs": [
    {
     "data": {
      "text/plain": [
       "[4, 16, 36, 64, 100]"
      ]
     },
     "execution_count": 22,
     "metadata": {},
     "output_type": "execute_result"
    }
   ],
   "source": [
    "[x**2 for x in range(1,11) ]"
   ]
  },
  {
   "cell_type": "code",
   "execution_count": 23,
   "id": "2e76a2e8",
   "metadata": {},
   "outputs": [
    {
     "data": {
      "text/plain": [
       "[2, 4, 6, 8, 10]"
      ]
     },
     "execution_count": 23,
     "metadata": {},
     "output_type": "execute_result"
    }
   ],
   "source": [
    "[x for x in range(1,11) if x % 2 ==0]"
   ]
  },
  {
   "cell_type": "code",
   "execution_count": 24,
   "id": "b04a3b66",
   "metadata": {},
   "outputs": [
    {
     "data": {
      "text/plain": [
       "[1, 3, 5, 7, 9]"
      ]
     },
     "execution_count": 24,
     "metadata": {},
     "output_type": "execute_result"
    }
   ],
   "source": [
    "[x for x in range(1,11) if x % 2 != 0]"
   ]
  },
  {
   "cell_type": "code",
   "execution_count": 25,
   "id": "2a488235",
   "metadata": {},
   "outputs": [
    {
     "data": {
      "text/plain": [
       "[7, 9]"
      ]
     },
     "execution_count": 25,
     "metadata": {},
     "output_type": "execute_result"
    }
   ],
   "source": [
    "[x for x in range(1,11) if x % 2 ==1 and x>5]"
   ]
  },
  {
   "cell_type": "code",
   "execution_count": 26,
   "id": "e68e2ddc",
   "metadata": {},
   "outputs": [
    {
     "data": {
      "text/plain": [
       "[78.5, 113.04, 153.86, 200.96, 254.34, 314.0]"
      ]
     },
     "execution_count": 26,
     "metadata": {},
     "output_type": "execute_result"
    }
   ],
   "source": [
    "# calc circle's area: 3.14*r**2\n",
    "radius = [5,6,7,8,9,10]\n",
    "[3.14*r**2 for r in radius]"
   ]
  },
  {
   "cell_type": "code",
   "execution_count": 29,
   "id": "964752f5",
   "metadata": {},
   "outputs": [
    {
     "data": {
      "text/plain": [
       "[(1, 6), (2, 7), (3, 8), (4, 9), (5, 10)]"
      ]
     },
     "execution_count": 29,
     "metadata": {},
     "output_type": "execute_result"
    }
   ],
   "source": [
    "x = [1,2,3,4,5,5,5]\n",
    "y = [6,7,8,9,10]\n",
    "\n",
    "[(a,b) for a,b in zip(x,y)]"
   ]
  },
  {
   "cell_type": "code",
   "execution_count": 31,
   "id": "ecc1fbce",
   "metadata": {},
   "outputs": [
    {
     "data": {
      "text/plain": [
       "[-4, 3, 12, 23, 36]"
      ]
     },
     "execution_count": 31,
     "metadata": {},
     "output_type": "execute_result"
    }
   ],
   "source": [
    "x = [1,2,3,4,5,5,5]\n",
    "y = [6,7,8,9,10]\n",
    "z = [10,11,12,13,14]\n",
    "[(a*b-c) for a,b,c in zip(x,y,z)] # any operation can do with zip()"
   ]
  },
  {
   "cell_type": "code",
   "execution_count": 32,
   "id": "eac0453b",
   "metadata": {},
   "outputs": [],
   "source": [
    "employee = {'Chandra','Aveek','Pankaj','Shyam','Jitendra','Rishabh','Mahima','Ramya'}\n",
    "developers = {'Chandra','Aveek','Pankaj','Shyam'}\n",
    "Managers = {'Mahima','Rishabh'}\n",
    "gym_user = {'Chandra','Aveek','Rishabh','Ramya'}\n",
    "# 1. get me the list of the emp who are not developer, manager but member of gym_user\n",
    "# 2. get me the list of emp who are not a manager or developer\n",
    "# 3. get me the list of emp who are using gym being as a manager"
   ]
  },
  {
   "cell_type": "code",
   "execution_count": 35,
   "id": "67222690",
   "metadata": {},
   "outputs": [
    {
     "data": {
      "text/plain": [
       "{'Aveek', 'Chandra', 'Ramya', 'Rishabh'}"
      ]
     },
     "execution_count": 35,
     "metadata": {},
     "output_type": "execute_result"
    }
   ],
   "source": [
    "a = employee - (developers & Managers) & gym_user\n",
    "a"
   ]
  },
  {
   "cell_type": "code",
   "execution_count": 36,
   "id": "03b13b17",
   "metadata": {},
   "outputs": [
    {
     "data": {
      "text/plain": [
       "{'Jitendra', 'Ramya'}"
      ]
     },
     "execution_count": 36,
     "metadata": {},
     "output_type": "execute_result"
    }
   ],
   "source": [
    "b = employee - (Managers | developers)\n",
    "b "
   ]
  },
  {
   "cell_type": "code",
   "execution_count": 37,
   "id": "844830c1",
   "metadata": {},
   "outputs": [
    {
     "data": {
      "text/plain": [
       "{'Rishabh'}"
      ]
     },
     "execution_count": 37,
     "metadata": {},
     "output_type": "execute_result"
    }
   ],
   "source": [
    "c = employee & gym_user & Managers\n",
    "c"
   ]
  },
  {
   "cell_type": "code",
   "execution_count": 40,
   "id": "99f20510",
   "metadata": {},
   "outputs": [
    {
     "data": {
      "text/plain": [
       "{'Ramya'}"
      ]
     },
     "execution_count": 40,
     "metadata": {},
     "output_type": "execute_result"
    }
   ],
   "source": [
    "gym_user - (developers.union(Managers))"
   ]
  },
  {
   "cell_type": "code",
   "execution_count": 41,
   "id": "9e0ed302",
   "metadata": {},
   "outputs": [
    {
     "data": {
      "text/plain": [
       "{'Jitendra', 'Ramya'}"
      ]
     },
     "execution_count": 41,
     "metadata": {},
     "output_type": "execute_result"
    }
   ],
   "source": [
    "employee - (developers.union(Managers))"
   ]
  },
  {
   "cell_type": "code",
   "execution_count": 42,
   "id": "6b8ad131",
   "metadata": {},
   "outputs": [
    {
     "data": {
      "text/plain": [
       "{'Rishabh'}"
      ]
     },
     "execution_count": 42,
     "metadata": {},
     "output_type": "execute_result"
    }
   ],
   "source": [
    "gym_user & Managers"
   ]
  },
  {
   "cell_type": "code",
   "execution_count": null,
   "id": "b57d476e",
   "metadata": {},
   "outputs": [],
   "source": []
  }
 ],
 "metadata": {
  "kernelspec": {
   "display_name": "Python 3 (ipykernel)",
   "language": "python",
   "name": "python3"
  },
  "language_info": {
   "codemirror_mode": {
    "name": "ipython",
    "version": 3
   },
   "file_extension": ".py",
   "mimetype": "text/x-python",
   "name": "python",
   "nbconvert_exporter": "python",
   "pygments_lexer": "ipython3",
   "version": "3.8.10"
  },
  "latex_envs": {
   "LaTeX_envs_menu_present": true,
   "autoclose": false,
   "autocomplete": true,
   "bibliofile": "biblio.bib",
   "cite_by": "apalike",
   "current_citInitial": 1,
   "eqLabelWithNumbers": true,
   "eqNumInitial": 1,
   "hotkeys": {
    "equation": "Ctrl-E",
    "itemize": "Ctrl-I"
   },
   "labels_anchors": false,
   "latex_user_defs": false,
   "report_style_numbering": false,
   "user_envs_cfg": false
  },
  "toc": {
   "base_numbering": 1,
   "nav_menu": {},
   "number_sections": true,
   "sideBar": true,
   "skip_h1_title": false,
   "title_cell": "Table of Contents",
   "title_sidebar": "Contents",
   "toc_cell": false,
   "toc_position": {},
   "toc_section_display": true,
   "toc_window_display": false
  },
  "varInspector": {
   "cols": {
    "lenName": 16,
    "lenType": 16,
    "lenVar": 40
   },
   "kernels_config": {
    "python": {
     "delete_cmd_postfix": "",
     "delete_cmd_prefix": "del ",
     "library": "var_list.py",
     "varRefreshCmd": "print(var_dic_list())"
    },
    "r": {
     "delete_cmd_postfix": ") ",
     "delete_cmd_prefix": "rm(",
     "library": "var_list.r",
     "varRefreshCmd": "cat(var_dic_list()) "
    }
   },
   "types_to_exclude": [
    "module",
    "function",
    "builtin_function_or_method",
    "instance",
    "_Feature"
   ],
   "window_display": false
  }
 },
 "nbformat": 4,
 "nbformat_minor": 5
}
