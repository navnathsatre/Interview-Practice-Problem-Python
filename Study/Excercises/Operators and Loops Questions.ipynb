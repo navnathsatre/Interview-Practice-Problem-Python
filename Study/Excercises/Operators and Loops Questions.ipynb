{
 "cells": [
  {
   "cell_type": "markdown",
   "id": "bd73898b",
   "metadata": {},
   "source": [
    "# Bitwise Operators:\n"
   ]
  },
  {
   "cell_type": "markdown",
   "id": "e5168c7f",
   "metadata": {},
   "source": [
    "## If “a = 60” and “b = 13”, what will be the value of “c” after executing the below statements? How?"
   ]
  },
  {
   "cell_type": "markdown",
   "id": "e847d18e",
   "metadata": {},
   "source": [
    "\n",
    "|Operation| Result of “c”|\n",
    "|---|---| \n",
    "|c = a & b| |\n",
    "|c = a \\| b| |\n",
    "|c = a ^ b| |\n",
    "|c = a << 2| |\n",
    "|c = a >> 2| |"
   ]
  },
  {
   "cell_type": "code",
   "execution_count": 1,
   "id": "44c847e2",
   "metadata": {},
   "outputs": [],
   "source": [
    "a = 60\n",
    "b = 13"
   ]
  },
  {
   "cell_type": "code",
   "execution_count": 2,
   "id": "64640a02",
   "metadata": {},
   "outputs": [
    {
     "name": "stdout",
     "output_type": "stream",
     "text": [
      "12\n"
     ]
    }
   ],
   "source": [
    "c = a & b # Bitwise AND operator: Returns 1 if both the bits are 1 else 0.\n",
    "# a = 111100 = 60\n",
    "# b = 001101 = 13\n",
    "# c = 001100 = 12\n",
    "print(c) "
   ]
  },
  {
   "cell_type": "code",
   "execution_count": 12,
   "id": "b715e9bc",
   "metadata": {},
   "outputs": [
    {
     "name": "stdout",
     "output_type": "stream",
     "text": [
      "61\n"
     ]
    }
   ],
   "source": [
    "c = a | b # Bitwise or operator: Returns 1 if either of the bit is 1 else 0.\n",
    "# a = 111100 = 60\n",
    "# b = 001101 = 13\n",
    "# c = 111101 = 61\n",
    "print(c) "
   ]
  },
  {
   "cell_type": "code",
   "execution_count": 17,
   "id": "d82cdbb7",
   "metadata": {},
   "outputs": [
    {
     "name": "stdout",
     "output_type": "stream",
     "text": [
      "49\n"
     ]
    }
   ],
   "source": [
    "c = a ^ b # Bitwise xor operator: Returns 1 if one of the bits is 1 and the other is 0 else returns false.\n",
    "# a = 111100 = 60\n",
    "# b = 001101 = 13\n",
    "# c = 110001 = 49\n",
    "print(c) "
   ]
  },
  {
   "cell_type": "code",
   "execution_count": 26,
   "id": "a606f327",
   "metadata": {},
   "outputs": [
    {
     "name": "stdout",
     "output_type": "stream",
     "text": [
      "240\n"
     ]
    }
   ],
   "source": [
    "c = a << 2 # Bitwise left shift: Shifts the bits of the number to the left and fills 0 on voids right as a result. \n",
    "# Similar effect as of multiplying the number with some power of two.\n",
    "# a    = 0011 1100 = 60\n",
    "# a<<2 = 1111 0000 = 240\n",
    "print(c) "
   ]
  },
  {
   "cell_type": "code",
   "execution_count": 32,
   "id": "6cad9543",
   "metadata": {},
   "outputs": [
    {
     "name": "stdout",
     "output_type": "stream",
     "text": [
      "15\n"
     ]
    }
   ],
   "source": [
    "c = a >> 2 # Bitwise right shift: Shifts the bits of the number to the right and fills 0 on voids left( fills 1 in the case of a negative number) as a result. \n",
    "# Similar effect as of dividing the number with some power of two.\n",
    "# a    = 0011 1100 = 60\n",
    "# a>>2 = 0000 1111 = 15\n",
    "print(c) "
   ]
  },
  {
   "cell_type": "markdown",
   "id": "dab1f28c",
   "metadata": {},
   "source": [
    "# Membership Operators:"
   ]
  },
  {
   "cell_type": "markdown",
   "id": "62026283",
   "metadata": {},
   "source": [
    "## Create a list “new_list” with values from from 1 to 10.\n",
    "new_list = [1, 2, 3, 4, 5, 6, 7, 8, 9, 10]\n",
    "Check if the value “6” is present in the list or not. If its present, display “6 IS\n",
    "PRESENT”, otherwise display “6 IS NOT PRESENT”"
   ]
  },
  {
   "cell_type": "code",
   "execution_count": 34,
   "id": "e854739e",
   "metadata": {},
   "outputs": [
    {
     "name": "stdout",
     "output_type": "stream",
     "text": [
      "6 IS PRESENT\n"
     ]
    }
   ],
   "source": [
    "new_list = [1, 2, 3, 4, 5, 6, 7, 8, 9, 10]\n",
    "if 6 in new_list:\n",
    "    print(\"6 IS PRESENT\")\n",
    "else:\n",
    "    print(\"6 IS NOT PRESENT\")"
   ]
  },
  {
   "cell_type": "markdown",
   "id": "bbc35d16",
   "metadata": {},
   "source": [
    "# Arithmetic Operators:"
   ]
  },
  {
   "cell_type": "markdown",
   "id": "29147a6c",
   "metadata": {},
   "source": [
    "## Display the quotient, reminder for the number 15, if it is divided by 2?"
   ]
  },
  {
   "cell_type": "code",
   "execution_count": 36,
   "id": "1948f3ee",
   "metadata": {},
   "outputs": [
    {
     "name": "stdout",
     "output_type": "stream",
     "text": [
      "Quotient is:  7\n",
      "Remainder is:  1\n"
     ]
    }
   ],
   "source": [
    "q = 15 // 2\n",
    "r = 15 % 2\n",
    "print(\"Quotient is: \",q)\n",
    "print(\"Remainder is: \",r)"
   ]
  },
  {
   "cell_type": "markdown",
   "id": "48259e6c",
   "metadata": {},
   "source": [
    "# if ... else questions:"
   ]
  },
  {
   "cell_type": "markdown",
   "id": "2b7bd071",
   "metadata": {},
   "source": [
    "## Take two integer values from the user and print greatest among them?"
   ]
  },
  {
   "cell_type": "code",
   "execution_count": 37,
   "id": "11a859a4",
   "metadata": {},
   "outputs": [
    {
     "name": "stdout",
     "output_type": "stream",
     "text": [
      "Enter the value for num1: 32\n",
      "Enter the value for num2: 56\n",
      "Greatest is:  56\n"
     ]
    }
   ],
   "source": [
    "num1 = int(input(\"Enter the value for num1: \"))\n",
    "num2 = int(input(\"Enter the value for num2: \"))\n",
    "if num1 > num2:\n",
    "    print('Greatest is: ',num1)\n",
    "else:\n",
    "    print('Greatest is: ',num2)"
   ]
  },
  {
   "cell_type": "markdown",
   "id": "22242d23",
   "metadata": {},
   "source": [
    "## A shop is giving discount of 20%, if the cost of purchased quantity is more than Rs.2000.\n",
    "o Ask user for quantity </br>\n",
    "o Consider, one unit will cost Rs.100 </br>\n",
    "o Calculate and display total cost for the user"
   ]
  },
  {
   "cell_type": "code",
   "execution_count": 40,
   "id": "91d7fcad",
   "metadata": {},
   "outputs": [
    {
     "name": "stdout",
     "output_type": "stream",
     "text": [
      "Enter quentity price: 2324\n",
      "Your Total cost is:  1859.2\n"
     ]
    }
   ],
   "source": [
    "q = float(input(\"Enter quentity price: \"))\n",
    "if q > 2000:\n",
    "    q = q - 20*q/100\n",
    "else:\n",
    "    q\n",
    "print(\"Your Total cost is: \",q)"
   ]
  },
  {
   "cell_type": "markdown",
   "id": "e4091f92",
   "metadata": {},
   "source": [
    "## A company decided to give bonus of 4% to employees if his/her year of service is more than 5 years.\n",
    "o Ask user for their salary and year of service and print ONLY the net bonus amount"
   ]
  },
  {
   "cell_type": "code",
   "execution_count": 41,
   "id": "58fe1beb",
   "metadata": {},
   "outputs": [
    {
     "name": "stdout",
     "output_type": "stream",
     "text": [
      "Enter your annual salary: 400000\n",
      "Enter no of years: 6\n",
      "Your bonus amount is:  16000.0\n"
     ]
    }
   ],
   "source": [
    "s = float(input(\"Enter your annual salary: \"))\n",
    "y = float(input(\"Enter no of years: \"))\n",
    "if y > 5:\n",
    "    s = 4*s/100\n",
    "    print(\"Your bonus amount is: \",s)\n",
    "else:\n",
    "    print(\"No Bonus\")"
   ]
  },
  {
   "cell_type": "markdown",
   "id": "2cb436ba",
   "metadata": {},
   "source": [
    "## A school has following rules for grading system:\n",
    "a. Below 25 - F</br>\n",
    "b. 25 to 45 - E</br>\n",
    "c. 45 to 50 - D</br>\n",
    "d. 50 to 60 - C</br>\n",
    "e. 60 to 80 - B</br>\n",
    "f. Above 80 - A</br>\n",
    "o Ask sttudent to enter his/her marks and display the corresponding grade."
   ]
  },
  {
   "cell_type": "code",
   "execution_count": 45,
   "id": "040c97e0",
   "metadata": {},
   "outputs": [
    {
     "name": "stdout",
     "output_type": "stream",
     "text": [
      "Enter your marks: 87\n",
      "Your grade is: A\n"
     ]
    }
   ],
   "source": [
    "m = int(input(\"Enter your marks: \"))\n",
    "if m <= 25:\n",
    "    print(\"Your grade is: F\")\n",
    "elif m > 25 and m <= 45:\n",
    "    print(\"Your grade is: E\")\n",
    "elif m > 45 and m <= 50:\n",
    "    print(\"Your grade is: D\")\n",
    "elif m > 50 and m <= 60:\n",
    "    print(\"Your grade is: C\")\n",
    "elif m > 60 and m <= 80:\n",
    "    print(\"Your grade is: B\")\n",
    "else:\n",
    "    print(\"Your grade is: A\")"
   ]
  },
  {
   "cell_type": "markdown",
   "id": "327b961e",
   "metadata": {},
   "source": [
    "## Take input of age of 3 people and determine oldest and youngest among them"
   ]
  },
  {
   "cell_type": "code",
   "execution_count": 56,
   "id": "31722e68",
   "metadata": {},
   "outputs": [
    {
     "name": "stdout",
     "output_type": "stream",
     "text": [
      "Enter the age for a: 43\n",
      "Enter the age for b: 65\n",
      "Enter the age for c: 87\n",
      "c is oldest\n",
      "a is youngest\n"
     ]
    }
   ],
   "source": [
    "a = int(input(\"Enter the age for a: \"))\n",
    "b = int(input(\"Enter the age for b: \"))\n",
    "c = int(input(\"Enter the age for c: \"))\n",
    "if (a > b and a > c):\n",
    "    print(\"a is oldest\")\n",
    "elif (b > c and b > a):\n",
    "    print(\"b is oldest\")\n",
    "else:\n",
    "    print(\"c is oldest\")\n",
    "if (a <= b and a <= c):\n",
    "    print(\"a is youngest\")\n",
    "elif(b <= c and b <= a):\n",
    "    print(\"b is youngest\")\n",
    "else:\n",
    "    print(\"c is youngest\")"
   ]
  },
  {
   "cell_type": "markdown",
   "id": "7116736a",
   "metadata": {},
   "source": [
    "# Loop questions:"
   ]
  },
  {
   "cell_type": "markdown",
   "id": "86269ffa",
   "metadata": {},
   "source": [
    "## Using “FOR” loop and “RANGE”, display the numbers 1 to 10 in ONE line?"
   ]
  },
  {
   "cell_type": "code",
   "execution_count": 57,
   "id": "9ca11ed0",
   "metadata": {},
   "outputs": [
    {
     "name": "stdout",
     "output_type": "stream",
     "text": [
      "1 2 3 4 5 6 7 8 9 10 "
     ]
    }
   ],
   "source": [
    "for i in range(1,11):\n",
    "    print(i,end=' ')"
   ]
  },
  {
   "cell_type": "markdown",
   "id": "9643b219",
   "metadata": {},
   "source": [
    "## Use the WHILE loop and perform the below:\n",
    "o DO NOT display / OMIT the number , when it is divisible by 2. Otherwise display\n",
    "the number </br>\n",
    "o Ask the user to input any value and display. Come out of the loop, when the user\n",
    "enters “EXIT”"
   ]
  },
  {
   "cell_type": "code",
   "execution_count": 86,
   "id": "75d4e813",
   "metadata": {},
   "outputs": [
    {
     "name": "stdout",
     "output_type": "stream",
     "text": [
      "Enter any number: 2342\n",
      "~~~~~~~~~~~~~~~~~~~~\n"
     ]
    }
   ],
   "source": [
    "num = int(input(\"Enter any number: \"))\n",
    "while True:\n",
    "    if num % 2 != 0:\n",
    "        print(\"Your number is :\", num)\n",
    "        break\n",
    "    else:\n",
    "        print(20*\"~\")\n",
    "        break"
   ]
  },
  {
   "cell_type": "code",
   "execution_count": 87,
   "id": "f6bed04f",
   "metadata": {},
   "outputs": [
    {
     "name": "stdout",
     "output_type": "stream",
     "text": [
      "Enter any value: svzxx\n",
      "svzxx\n",
      "Enter any value: vdsxvs\n",
      "vdsxvs\n",
      "Enter any value: vsdzv\n",
      "vsdzv\n",
      "Enter any value: hadsga\n",
      "hadsga\n",
      "Enter any value: EXIT\n",
      "EXIT\n"
     ]
    }
   ],
   "source": [
    "while True:\n",
    "    v = input(\"Enter any value: \")\n",
    "    print(v)\n",
    "    if v.casefold() == 'EXIT':\n",
    "        break"
   ]
  },
  {
   "cell_type": "markdown",
   "id": "616c370a",
   "metadata": {},
   "source": [
    "## Print 1 to 10 numbers using while loop (Each number should be displayed in a different line)"
   ]
  },
  {
   "cell_type": "code",
   "execution_count": 89,
   "id": "d0c70783",
   "metadata": {},
   "outputs": [
    {
     "name": "stdout",
     "output_type": "stream",
     "text": [
      "1\n",
      "2\n",
      "3\n",
      "4\n",
      "5\n",
      "6\n",
      "7\n",
      "8\n",
      "9\n",
      "10\n"
     ]
    }
   ],
   "source": [
    "n = 1\n",
    "while n <= 10:\n",
    "    print(n)    \n",
    "    n += 1"
   ]
  },
  {
   "cell_type": "markdown",
   "id": "0416efbd",
   "metadata": {},
   "source": [
    "## Print 1 to 10 numbers using while loop (Each number should be displayed in the same/one line)"
   ]
  },
  {
   "cell_type": "code",
   "execution_count": 90,
   "id": "96bfc2e3",
   "metadata": {},
   "outputs": [
    {
     "name": "stdout",
     "output_type": "stream",
     "text": [
      "1 2 3 4 5 6 7 8 9 10 "
     ]
    }
   ],
   "source": [
    "n = 1\n",
    "while n <= 10:\n",
    "    print(n,end=' ')\n",
    "    n = n + 1"
   ]
  },
  {
   "cell_type": "markdown",
   "id": "14b2956f",
   "metadata": {},
   "source": [
    "## Print the following pattern using FOR loops.\n",
    "1 </br>\n",
    "1 2</br>\n",
    "1 2 3</br>\n",
    "1 2 3 4</br>\n",
    "1 2 3 4 5"
   ]
  },
  {
   "cell_type": "code",
   "execution_count": 94,
   "id": "9ca49a1a",
   "metadata": {},
   "outputs": [
    {
     "name": "stdout",
     "output_type": "stream",
     "text": [
      "1 \n",
      "1 2 \n",
      "1 2 3 \n",
      "1 2 3 4 \n",
      "1 2 3 4 5 \n"
     ]
    }
   ],
   "source": [
    "row = 5\n",
    "for i in range(row):\n",
    "    for j in range(i+1):\n",
    "        print(j+1,end=' ')\n",
    "    print()"
   ]
  },
  {
   "cell_type": "code",
   "execution_count": null,
   "id": "940e2b66",
   "metadata": {},
   "outputs": [],
   "source": []
  }
 ],
 "metadata": {
  "kernelspec": {
   "display_name": "Python 3 (ipykernel)",
   "language": "python",
   "name": "python3"
  },
  "language_info": {
   "codemirror_mode": {
    "name": "ipython",
    "version": 3
   },
   "file_extension": ".py",
   "mimetype": "text/x-python",
   "name": "python",
   "nbconvert_exporter": "python",
   "pygments_lexer": "ipython3",
   "version": "3.8.10"
  },
  "toc": {
   "base_numbering": 1,
   "nav_menu": {},
   "number_sections": true,
   "sideBar": true,
   "skip_h1_title": false,
   "title_cell": "Table of Contents",
   "title_sidebar": "Contents",
   "toc_cell": false,
   "toc_position": {
    "height": "calc(100% - 180px)",
    "left": "10px",
    "top": "150px",
    "width": "165px"
   },
   "toc_section_display": true,
   "toc_window_display": true
  },
  "varInspector": {
   "cols": {
    "lenName": 16,
    "lenType": 16,
    "lenVar": 40
   },
   "kernels_config": {
    "python": {
     "delete_cmd_postfix": "",
     "delete_cmd_prefix": "del ",
     "library": "var_list.py",
     "varRefreshCmd": "print(var_dic_list())"
    },
    "r": {
     "delete_cmd_postfix": ") ",
     "delete_cmd_prefix": "rm(",
     "library": "var_list.r",
     "varRefreshCmd": "cat(var_dic_list()) "
    }
   },
   "types_to_exclude": [
    "module",
    "function",
    "builtin_function_or_method",
    "instance",
    "_Feature"
   ],
   "window_display": false
  }
 },
 "nbformat": 4,
 "nbformat_minor": 5
}
