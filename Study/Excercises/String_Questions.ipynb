{
 "cells": [
  {
   "cell_type": "markdown",
   "id": "8bd89a6d",
   "metadata": {},
   "source": [
    "# How to find the index of the first occurrence of a substring/character in a string?"
   ]
  },
  {
   "cell_type": "code",
   "execution_count": 1,
   "id": "575558dd",
   "metadata": {},
   "outputs": [],
   "source": [
    "string = '''Consultations among various Opposition leaders to decide on \n",
    "putting up a joint candidate for the upcoming Presidential elections\n",
    "against the NDA nominee gathered pace Tuesday, even as NCP chief \n",
    "Sharad Pawar has made it clear that he was not inclined to contest.'''"
   ]
  },
  {
   "cell_type": "code",
   "execution_count": 5,
   "id": "29cb3a76",
   "metadata": {},
   "outputs": [
    {
     "data": {
      "text/plain": [
       "47"
      ]
     },
     "execution_count": 5,
     "metadata": {},
     "output_type": "execute_result"
    }
   ],
   "source": [
    "string.find('to')"
   ]
  },
  {
   "cell_type": "markdown",
   "id": "90117843",
   "metadata": {},
   "source": [
    "# Calculate the total number of characters in a string?"
   ]
  },
  {
   "cell_type": "code",
   "execution_count": 16,
   "id": "20b26053",
   "metadata": {},
   "outputs": [
    {
     "name": "stdout",
     "output_type": "stream",
     "text": [
      "263\n"
     ]
    }
   ],
   "source": [
    "count = 0 \n",
    "for i in range(0,len(string)):\n",
    "    if (string[i] != ''):\n",
    "        count = count + 1\n",
    "print(count)"
   ]
  },
  {
   "cell_type": "code",
   "execution_count": 21,
   "id": "f64f21b5",
   "metadata": {},
   "outputs": [
    {
     "name": "stdout",
     "output_type": "stream",
     "text": [
      "leaders ==> 1\n",
      "was ==> 1\n",
      "gathered ==> 1\n",
      "even ==> 1\n",
      "\n",
      "Sharad ==> 1\n",
      "made ==> 1\n",
      "candidate ==> 1\n",
      "as ==> 3\n",
      "he ==> 4\n",
      "pace ==> 1\n",
      "Opposition ==> 1\n",
      "decide ==> 1\n",
      "chief ==> 1\n",
      "Consultations ==> 1\n",
      "inclined ==> 1\n",
      "has ==> 1\n",
      "clear ==> 1\n",
      "up ==> 2\n",
      "that ==> 1\n",
      "a ==> 23\n",
      "not ==> 1\n",
      "Pawar ==> 1\n",
      "among ==> 1\n",
      "on ==> 7\n",
      "\n",
      "putting ==> 1\n",
      "for ==> 1\n",
      "Tuesday, ==> 1\n",
      "contest. ==> 1\n",
      "joint ==> 1\n",
      "NCP ==> 1\n",
      "various ==> 1\n",
      "the ==> 3\n",
      "Presidential ==> 1\n",
      "it ==> 2\n",
      "nominee ==> 1\n",
      "upcoming ==> 1\n",
      "to ==> 2\n",
      "elections\n",
      "against ==> 1\n",
      "NDA ==> 1\n"
     ]
    }
   ],
   "source": [
    "data = list(set(string.split(' ')))\n",
    "for i in data:\n",
    "    print(i,'==>',string.count(i))"
   ]
  },
  {
   "cell_type": "markdown",
   "id": "0ae1eca5",
   "metadata": {},
   "source": [
    "# How to obtain the number of a specific character/ substring in a string?"
   ]
  },
  {
   "cell_type": "code",
   "execution_count": 22,
   "id": "fdb6dbd0",
   "metadata": {},
   "outputs": [
    {
     "data": {
      "text/plain": [
       "'Consultations among various Opposition leaders to decide on \\nputting up a joint candidate for the upcoming Presidential elections\\nagainst the NDA nominee gathered pace Tuesday, even as NCP chief \\nSharad Pawar has made it clear that he was not inclined to contest.'"
      ]
     },
     "execution_count": 22,
     "metadata": {},
     "output_type": "execute_result"
    }
   ],
   "source": [
    "string"
   ]
  },
  {
   "cell_type": "code",
   "execution_count": 31,
   "id": "b10c194e",
   "metadata": {},
   "outputs": [
    {
     "name": "stdout",
     "output_type": "stream",
     "text": [
      "Enter character: or\n"
     ]
    },
    {
     "data": {
      "text/plain": [
       "1"
      ]
     },
     "execution_count": 31,
     "metadata": {},
     "output_type": "execute_result"
    }
   ],
   "source": [
    "char = input(\"Enter character: \")\n",
    "string.count(char)"
   ]
  },
  {
   "cell_type": "markdown",
   "id": "83926bae",
   "metadata": {},
   "source": [
    "# Check whether if a string contains only numbers?"
   ]
  },
  {
   "cell_type": "code",
   "execution_count": 34,
   "id": "ac4f446b",
   "metadata": {},
   "outputs": [
    {
     "name": "stdout",
     "output_type": "stream",
     "text": [
      "str1 contains all numbers\n",
      "str2 does not contains all numbers\n"
     ]
    }
   ],
   "source": [
    "str1 = \"123456789\"\n",
    "str2 = \"1a2b3c4d\"\n",
    "if str1.isdigit():\n",
    "    print(\"str1 contains all numbers\")\n",
    "else:\n",
    "    print(\"str1 does not contains all numbers\")\n",
    "if str2.isdigit():\n",
    "    print(\"str2 contains all numbers\")\n",
    "else:\n",
    "    print(\"str2 does not contains all numbers\")"
   ]
  },
  {
   "cell_type": "markdown",
   "id": "cfc7e564",
   "metadata": {},
   "source": [
    "# Split a string by using a specific character? "
   ]
  },
  {
   "cell_type": "code",
   "execution_count": 35,
   "id": "9b0c097d",
   "metadata": {},
   "outputs": [
    {
     "data": {
      "text/plain": [
       "['I ', 'm ', ' d', 't', ' scientist in b', 'ng', 'lore']"
      ]
     },
     "execution_count": 35,
     "metadata": {},
     "output_type": "execute_result"
    }
   ],
   "source": [
    "str1 = \"I am a data scientist in bangalore\"\n",
    "str1.split('a')"
   ]
  },
  {
   "cell_type": "markdown",
   "id": "969ae4fd",
   "metadata": {},
   "source": [
    "# How to check if a string is composed of all lower case characters?"
   ]
  },
  {
   "cell_type": "code",
   "execution_count": 36,
   "id": "5aa1be3e",
   "metadata": {},
   "outputs": [
    {
     "data": {
      "text/plain": [
       "'I am a data scientist in bangalore'"
      ]
     },
     "execution_count": 36,
     "metadata": {},
     "output_type": "execute_result"
    }
   ],
   "source": [
    "str1"
   ]
  },
  {
   "cell_type": "code",
   "execution_count": 37,
   "id": "071ef2be",
   "metadata": {},
   "outputs": [
    {
     "name": "stdout",
     "output_type": "stream",
     "text": [
      "Not all lower case\n"
     ]
    }
   ],
   "source": [
    "if str1.islower():\n",
    "    print(\"Yes All lower case characters\")\n",
    "else:\n",
    "    print(\"Not all lower case\")"
   ]
  },
  {
   "cell_type": "markdown",
   "id": "f0234e41",
   "metadata": {},
   "source": [
    "# How to check if a string is composed of all upper case characters?"
   ]
  },
  {
   "cell_type": "code",
   "execution_count": 38,
   "id": "3fa4546e",
   "metadata": {},
   "outputs": [
    {
     "name": "stdout",
     "output_type": "stream",
     "text": [
      "Not all upper case\n"
     ]
    }
   ],
   "source": [
    "if str1.isupper():\n",
    "    print(\"Yes All upper case characters\")\n",
    "else:\n",
    "    print(\"Not all upper case\")"
   ]
  },
  {
   "cell_type": "markdown",
   "id": "3a5f82a4",
   "metadata": {},
   "source": [
    "# Check if the first character in a string has a lowercase value?"
   ]
  },
  {
   "cell_type": "code",
   "execution_count": 39,
   "id": "05f95f9b",
   "metadata": {},
   "outputs": [
    {
     "data": {
      "text/plain": [
       "'I am a data scientist in bangalore'"
      ]
     },
     "execution_count": 39,
     "metadata": {},
     "output_type": "execute_result"
    }
   ],
   "source": [
    "str1"
   ]
  },
  {
   "cell_type": "code",
   "execution_count": 40,
   "id": "a5829ae5",
   "metadata": {},
   "outputs": [
    {
     "name": "stdout",
     "output_type": "stream",
     "text": [
      "No\n"
     ]
    }
   ],
   "source": [
    "if str1[0].islower():\n",
    "    print(\"Yes\")\n",
    "else:\n",
    "    print(\"No\")"
   ]
  },
  {
   "cell_type": "markdown",
   "id": "aea1b7fd",
   "metadata": {},
   "source": [
    "# Can I add an integer with a string in Python?"
   ]
  },
  {
   "cell_type": "code",
   "execution_count": null,
   "id": "17993d1c",
   "metadata": {},
   "outputs": [],
   "source": [
    "'''\n",
    "Python doesn't know how to add a word and a number, \n",
    "so it says \"cannot concatenate 'str' and 'int' objects.\" \n",
    "A word that you put in quotes is just a string of letters called a \"str\" in python.\n",
    "Numbers that don't have a decimal point are integers and are called \"int\" in python. \n",
    "You can't add a str and an int.\n",
    "'''"
   ]
  },
  {
   "cell_type": "code",
   "execution_count": 41,
   "id": "1e22fa04",
   "metadata": {},
   "outputs": [
    {
     "data": {
      "text/plain": [
       "'I am a data scientist in bangalore'"
      ]
     },
     "execution_count": 41,
     "metadata": {},
     "output_type": "execute_result"
    }
   ],
   "source": [
    "str1"
   ]
  },
  {
   "cell_type": "code",
   "execution_count": 42,
   "id": "ef4a9d9e",
   "metadata": {},
   "outputs": [
    {
     "ename": "TypeError",
     "evalue": "can only concatenate str (not \"int\") to str",
     "output_type": "error",
     "traceback": [
      "\u001b[0;31m---------------------------------------------------------------------------\u001b[0m",
      "\u001b[0;31mTypeError\u001b[0m                                 Traceback (most recent call last)",
      "Input \u001b[0;32mIn [42]\u001b[0m, in \u001b[0;36m<cell line: 1>\u001b[0;34m()\u001b[0m\n\u001b[0;32m----> 1\u001b[0m \u001b[43mstr1\u001b[49m\u001b[43m \u001b[49m\u001b[38;5;241;43m+\u001b[39;49m\u001b[43m \u001b[49m\u001b[38;5;241;43m10\u001b[39;49m\n",
      "\u001b[0;31mTypeError\u001b[0m: can only concatenate str (not \"int\") to str"
     ]
    }
   ],
   "source": [
    "str1 + 10"
   ]
  },
  {
   "cell_type": "markdown",
   "id": "be158660",
   "metadata": {},
   "source": [
    "# If I multiply a string with a number, will it be accepted by Python? What will be the outcome?"
   ]
  },
  {
   "cell_type": "code",
   "execution_count": null,
   "id": "b3867164",
   "metadata": {},
   "outputs": [],
   "source": [
    "'''\n",
    "When you multiply a string by an integer, Python returns a new string.\n",
    "This new string is the original string, \n",
    "repeated X number of times (where X is the value of the integer).'''"
   ]
  },
  {
   "cell_type": "code",
   "execution_count": 43,
   "id": "bdf76ce3",
   "metadata": {},
   "outputs": [
    {
     "data": {
      "text/plain": [
       "'I am a data scientist in bangaloreI am a data scientist in bangaloreI am a data scientist in bangalore'"
      ]
     },
     "execution_count": 43,
     "metadata": {},
     "output_type": "execute_result"
    }
   ],
   "source": [
    "str1*3"
   ]
  },
  {
   "cell_type": "markdown",
   "id": "f8133045",
   "metadata": {},
   "source": [
    "# How to reverse a string using string slicing method?"
   ]
  },
  {
   "cell_type": "code",
   "execution_count": 1,
   "id": "4b52c81c",
   "metadata": {},
   "outputs": [
    {
     "data": {
      "text/plain": [
       "'stsetorP ihdnaG luhaR dimA eciffO ssergnoC edistuO deniateD toliP nihcaS'"
      ]
     },
     "execution_count": 1,
     "metadata": {},
     "output_type": "execute_result"
    }
   ],
   "source": [
    "str2 = 'Sachin Pilot Detained Outside Congress Office Amid Rahul Gandhi Protests'\n",
    "str2[::-1]"
   ]
  },
  {
   "cell_type": "markdown",
   "id": "be3553e0",
   "metadata": {},
   "source": [
    "# How to join list of strings/characters in to a single string, delimited by hyphens?"
   ]
  },
  {
   "cell_type": "code",
   "execution_count": 4,
   "id": "f779b161",
   "metadata": {},
   "outputs": [
    {
     "name": "stdout",
     "output_type": "stream",
     "text": [
      "<class 'str'>\n",
      "A-B-C-D-E-F\n"
     ]
    }
   ],
   "source": [
    "lst = ['A','B','C','D','E','F']\n",
    "mystr = '-'.join(lst)\n",
    "print(type(mystr))\n",
    "print(mystr)"
   ]
  },
  {
   "cell_type": "markdown",
   "id": "d938f611",
   "metadata": {},
   "source": [
    "# How to convert a string from upper to lower case and vice versa?"
   ]
  },
  {
   "cell_type": "code",
   "execution_count": 5,
   "id": "e1ee7d6a",
   "metadata": {},
   "outputs": [
    {
     "name": "stdout",
     "output_type": "stream",
     "text": [
      "satre navnath bhausaheb\n"
     ]
    }
   ],
   "source": [
    "str1 = \"SATRE NAVNATH BHAUSAHEB\"\n",
    "str1 = str1.lower()\n",
    "print(str1)"
   ]
  },
  {
   "cell_type": "code",
   "execution_count": 6,
   "id": "8343fdb4",
   "metadata": {},
   "outputs": [
    {
     "name": "stdout",
     "output_type": "stream",
     "text": [
      "SATRE NAVNAT BHAUSAHEB\n"
     ]
    }
   ],
   "source": [
    "str2 = 'satre navnat bhausaheb'\n",
    "str2 = str2.upper()\n",
    "print(str2)"
   ]
  },
  {
   "cell_type": "markdown",
   "id": "39844141",
   "metadata": {},
   "source": [
    "# How to make first and last character of a string to upper case? For example, ‘python’ should be converted as ‘PythoN’"
   ]
  },
  {
   "cell_type": "code",
   "execution_count": 22,
   "id": "c8298f00",
   "metadata": {},
   "outputs": [
    {
     "name": "stdout",
     "output_type": "stream",
     "text": [
      "Enter your string: python\n",
      "Your str is:  PythoN\n"
     ]
    }
   ],
   "source": [
    "mystr = input(\"Enter your string: \")\n",
    "str1 = mystr[0:1].upper()\n",
    "str2 = mystr[-1].upper()\n",
    "new_str = str1 + mystr[1:-1] + str2\n",
    "print(\"Your str is: \",new_str)"
   ]
  },
  {
   "cell_type": "markdown",
   "id": "ad430bb0",
   "metadata": {},
   "source": [
    "# How do you convert an integer to a string value?"
   ]
  },
  {
   "cell_type": "code",
   "execution_count": 25,
   "id": "17eb3bd5",
   "metadata": {},
   "outputs": [
    {
     "name": "stdout",
     "output_type": "stream",
     "text": [
      "Enter number: 10\n",
      "No in String is :  10\n",
      "<class 'str'>\n"
     ]
    }
   ],
   "source": [
    "num = int(input(\"Enter number: \"))\n",
    "print(\"No in String is : \", str(num))\n",
    "print(type(str(num)))"
   ]
  },
  {
   "cell_type": "markdown",
   "id": "9c3abd75",
   "metadata": {},
   "source": [
    "# Check and ensure that the string contains only alphabets?"
   ]
  },
  {
   "cell_type": "code",
   "execution_count": 26,
   "id": "1e68181b",
   "metadata": {},
   "outputs": [
    {
     "name": "stdout",
     "output_type": "stream",
     "text": [
      "Enter string: dgaesgs\n",
      "Only alphabets\n"
     ]
    }
   ],
   "source": [
    "str1 = input(\"Enter string: \")\n",
    "if str1.isalpha():\n",
    "    print(\"Only alphabets\")\n",
    "else:\n",
    "    print(\"Not only alphabets\")"
   ]
  },
  {
   "cell_type": "markdown",
   "id": "37515873",
   "metadata": {},
   "source": [
    "# How do you replace all instances of a substring in a string?"
   ]
  },
  {
   "cell_type": "code",
   "execution_count": 29,
   "id": "82cc29fc",
   "metadata": {},
   "outputs": [
    {
     "name": "stdout",
     "output_type": "stream",
     "text": [
      "Sachin Pilot Detained Outside Congress Office Amid Soniya Gandhi Protests\n"
     ]
    }
   ],
   "source": [
    "str2 = 'Sachin Pilot Detained Outside Congress Office Amid Rahul Gandhi Protests'\n",
    "str1 = 'Soniya'\n",
    "str3 = str2.replace(\"Rahul\", str1)\n",
    "print(str3)"
   ]
  },
  {
   "cell_type": "markdown",
   "id": "cb99648b",
   "metadata": {},
   "source": [
    "# For a given string/strings, return the minimum and maximum character/string?"
   ]
  },
  {
   "cell_type": "code",
   "execution_count": 8,
   "id": "99f72e57",
   "metadata": {},
   "outputs": [
    {
     "name": "stdout",
     "output_type": "stream",
     "text": [
      "Minimum occurring character: S\n",
      "Maximum occurring character: i\n"
     ]
    }
   ],
   "source": [
    "string = 'Sachin Pilot Detained Outside Congress Office Amid Rahul Gandhi Protests'\n",
    "freq = [None] * len(string);  \n",
    "minChar = string[0];  \n",
    "maxChar = string[0];  \n",
    "\n",
    "#Count each word in given string and store in array freq  \n",
    "for i in range(0, len(string)):  \n",
    "    freq[i] = 1;  \n",
    "    for j in range(i+1, len(string)):  \n",
    "        if(string[i] == string[j] and string[i] != ' ' and string[i] != '0'):  \n",
    "            freq[i] = freq[i] + 1;  \n",
    "\n",
    "            #Set string[j] to 0 to avoid printing visited character  \n",
    "            string = string[ : j] + '0' + string[j+1: ];  \n",
    "              \n",
    "#Determine minimum and maximum occurring characters  \n",
    "min = max = freq[0];  \n",
    "for i in range(0, len(freq)):  \n",
    "      \n",
    "    #If min is greater than frequency of a character  \n",
    "    #then, store frequency in min and corresponding character in minChar  \n",
    "    if(min > freq[i] and freq[i] != '0'):  \n",
    "        min = freq[i];  \n",
    "        minChar = string[i];  \n",
    "    #If max is less than frequency of a character   \n",
    "    #then, store frequency in max and corresponding character in maxChar  \n",
    "    if(max < freq[i]):  \n",
    "        max = freq[i];  \n",
    "        maxChar = string[i];  \n",
    "   \n",
    "print(\"Minimum occurring character: \" + minChar);  \n",
    "print(\"Maximum occurring character: \" + maxChar);  "
   ]
  },
  {
   "cell_type": "markdown",
   "id": "5c7fecea",
   "metadata": {},
   "source": [
    "# How to check whether the string contains alpha numeric value?"
   ]
  },
  {
   "cell_type": "code",
   "execution_count": 11,
   "id": "0843a1da",
   "metadata": {},
   "outputs": [
    {
     "data": {
      "text/plain": [
       "False"
      ]
     },
     "execution_count": 11,
     "metadata": {},
     "output_type": "execute_result"
    }
   ],
   "source": [
    "mystr = '''East Coast Express, Rajkot Express, and Ajanta Express were set on fire by violent mobs.\n",
    "At least 71 trains - 65 from Hyderabad Multi-Modal Transport System and six express - have been cancelled so far.'''\n",
    "mystr.isalnum()"
   ]
  },
  {
   "cell_type": "markdown",
   "id": "2183c26d",
   "metadata": {},
   "source": [
    "# When a string contains whitespace/space, how to remove them from the left, right or both sides of a string?"
   ]
  },
  {
   "cell_type": "code",
   "execution_count": 16,
   "id": "026ab141",
   "metadata": {},
   "outputs": [
    {
     "data": {
      "text/plain": [
       "'East Coast Express, Rajkot Express, and Ajanta Express were set on fire by violent mobs.\\nAt least 71 trains - 65 from Hyderabad Multi-Modal Transport System and six express - have been cancelled so far.  '"
      ]
     },
     "execution_count": 16,
     "metadata": {},
     "output_type": "execute_result"
    }
   ],
   "source": [
    "mystr = '''   East Coast Express, Rajkot Express, and Ajanta Express were set on fire by violent mobs.\n",
    "At least 71 trains - 65 from Hyderabad Multi-Modal Transport System and six express - have been cancelled so far.  '''\n",
    "mystr.lstrip()"
   ]
  },
  {
   "cell_type": "code",
   "execution_count": 17,
   "id": "0c6d6748",
   "metadata": {},
   "outputs": [
    {
     "data": {
      "text/plain": [
       "'   East Coast Express, Rajkot Express, and Ajanta Express were set on fire by violent mobs.\\nAt least 71 trains - 65 from Hyderabad Multi-Modal Transport System and six express - have been cancelled so far.'"
      ]
     },
     "execution_count": 17,
     "metadata": {},
     "output_type": "execute_result"
    }
   ],
   "source": [
    "mystr.rstrip()"
   ]
  },
  {
   "cell_type": "code",
   "execution_count": 18,
   "id": "397e0070",
   "metadata": {},
   "outputs": [
    {
     "data": {
      "text/plain": [
       "'East Coast Express, Rajkot Express, and Ajanta Express were set on fire by violent mobs.\\nAt least 71 trains - 65 from Hyderabad Multi-Modal Transport System and six express - have been cancelled so far.'"
      ]
     },
     "execution_count": 18,
     "metadata": {},
     "output_type": "execute_result"
    }
   ],
   "source": [
    "mystr.strip()"
   ]
  },
  {
   "cell_type": "markdown",
   "id": "fc490257",
   "metadata": {},
   "source": [
    "# Check if a string begins with or ends with a specific character?"
   ]
  },
  {
   "cell_type": "code",
   "execution_count": 35,
   "id": "c473c328",
   "metadata": {},
   "outputs": [
    {
     "name": "stdout",
     "output_type": "stream",
     "text": [
      "Check begins or ends Character:R\n",
      "Yes Your string begines/ ends with your character:  r\n"
     ]
    }
   ],
   "source": [
    "mystr = '''East Coast Express, Rajkot Express, and Ajanta Express were set on fire by violent mobs.\n",
    "At least 71 trains - 65 from Hyderabad Multi-Modal Transport System and six express - have been cancelled so far'''\n",
    "char = input(\"Check begins or ends Character:\")\n",
    "if mystr[0:1].casefold() == char.casefold() or mystr[-1].casefold() == char.casefold():\n",
    "        print(\"Yes Your string begines/ ends with your character: \",char.casefold())\n",
    "else:\n",
    "    print(\"No not start/end with your character\")"
   ]
  },
  {
   "cell_type": "markdown",
   "id": "4a98a4fe",
   "metadata": {},
   "source": [
    "# How to concatenate two/more strings as a single one?"
   ]
  },
  {
   "cell_type": "code",
   "execution_count": 37,
   "id": "b4d2226c",
   "metadata": {},
   "outputs": [
    {
     "name": "stdout",
     "output_type": "stream",
     "text": [
      "East Coast Express, Rajkot Express Ajanta Express were set on fire by violent mobs\n"
     ]
    }
   ],
   "source": [
    "str1 = \"East Coast Express, Rajkot Express\"\n",
    "str2 = \"Ajanta Express were set on fire by violent mobs\"\n",
    "mystr = str1 +\" \"+ str2\n",
    "print(mystr)"
   ]
  },
  {
   "cell_type": "markdown",
   "id": "f508e786",
   "metadata": {},
   "source": [
    "# Capitalize the first character of each word in a string?"
   ]
  },
  {
   "cell_type": "code",
   "execution_count": 41,
   "id": "c1d4a2af",
   "metadata": {},
   "outputs": [
    {
     "data": {
      "text/plain": [
       "'East Coast Express, Rajkot Express'"
      ]
     },
     "execution_count": 41,
     "metadata": {},
     "output_type": "execute_result"
    }
   ],
   "source": [
    "str1 = \"East coast express, rajkot express\"\n",
    "str1.title()"
   ]
  },
  {
   "cell_type": "markdown",
   "id": "78e30f3d",
   "metadata": {},
   "source": [
    "# What does it mean for strings to be immutable in Python?"
   ]
  },
  {
   "cell_type": "code",
   "execution_count": 42,
   "id": "0b2fccea",
   "metadata": {},
   "outputs": [
    {
     "ename": "TypeError",
     "evalue": "'str' object does not support item assignment",
     "output_type": "error",
     "traceback": [
      "\u001b[0;31m---------------------------------------------------------------------------\u001b[0m",
      "\u001b[0;31mTypeError\u001b[0m                                 Traceback (most recent call last)",
      "Input \u001b[0;32mIn [42]\u001b[0m, in \u001b[0;36m<cell line: 4>\u001b[0;34m()\u001b[0m\n\u001b[1;32m      1\u001b[0m \u001b[38;5;66;03m#In python, the string data types are immutable. Which means a string value cannot be updated.\u001b[39;00m\n\u001b[1;32m      2\u001b[0m \u001b[38;5;66;03m#We can verify this by trying to update a part of the string which will led us to an error.\u001b[39;00m\n\u001b[1;32m      3\u001b[0m str1 \u001b[38;5;241m=\u001b[39m \u001b[38;5;124m\"\u001b[39m\u001b[38;5;124mNAVNATH\u001b[39m\u001b[38;5;124m\"\u001b[39m\n\u001b[0;32m----> 4\u001b[0m str1[\u001b[38;5;241m-\u001b[39m\u001b[38;5;241m1\u001b[39m] \u001b[38;5;241m=\u001b[39m \u001b[38;5;124m'\u001b[39m\u001b[38;5;124mA\u001b[39m\u001b[38;5;124m'\u001b[39m\n",
      "\u001b[0;31mTypeError\u001b[0m: 'str' object does not support item assignment"
     ]
    }
   ],
   "source": [
    "#In python, the string data types are immutable. Which means a string value cannot be updated.\n",
    "#We can verify this by trying to update a part of the string which will led us to an error.\n",
    "str1 = \"NAVNATH\"\n",
    "str1[-1] = 'A' # Error"
   ]
  },
  {
   "cell_type": "markdown",
   "id": "41827637",
   "metadata": {},
   "source": [
    "# Give an example of using maketrans() and translate()"
   ]
  },
  {
   "cell_type": "code",
   "execution_count": null,
   "id": "6c7542f4",
   "metadata": {},
   "outputs": [],
   "source": [
    "# maketrans: Return a translation table usable for str.translate().\n",
    "\n",
    "# If there is only one argument, it must be a dictionary mapping Unicode\n",
    "# ordinals (integers) or characters to Unicode ordinals, strings or None.\n",
    "# Character keys will be then converted to ordinals.\n",
    "# If there are two arguments, they must be strings of equal length, and\n",
    "# in the resulting dictionary, each character in x will be mapped to the\n",
    "# character at the same position in y. If there is a third argument, it\n",
    "# must be a string, whose characters will be mapped to None in the result."
   ]
  },
  {
   "cell_type": "code",
   "execution_count": 56,
   "id": "c1cdf116",
   "metadata": {},
   "outputs": [
    {
     "data": {
      "text/plain": [
       "{126: 32, 33: 32, 64: 32, 35: 32, 36: 32}"
      ]
     },
     "execution_count": 56,
     "metadata": {},
     "output_type": "execute_result"
    }
   ],
   "source": [
    "str1 = \"W~a!m@a#r$t\"\n",
    "temp = str1.maketrans('~!@#$','     ') #char by char\n",
    "temp # o/p in dictionary"
   ]
  },
  {
   "cell_type": "code",
   "execution_count": 54,
   "id": "cd2dfa98",
   "metadata": {},
   "outputs": [
    {
     "data": {
      "text/plain": [
       "'W a m a r t'"
      ]
     },
     "execution_count": 54,
     "metadata": {},
     "output_type": "execute_result"
    }
   ],
   "source": [
    "str1.translate(temp) #i/p dict or srting"
   ]
  },
  {
   "cell_type": "markdown",
   "id": "a575bca7",
   "metadata": {},
   "source": [
    "# When would you use rfind()?"
   ]
  },
  {
   "cell_type": "code",
   "execution_count": 57,
   "id": "0ae3eba8",
   "metadata": {},
   "outputs": [],
   "source": [
    "# Python rfind() function is used to return the highest index value of the last occurrence of the substring\n",
    "# from the input string; else it returns -1. The Python rfind() is an in-built string method that returns\n",
    "# the index position of the character if found; else it returns value -1."
   ]
  },
  {
   "cell_type": "code",
   "execution_count": 58,
   "id": "fe190084",
   "metadata": {},
   "outputs": [
    {
     "name": "stdout",
     "output_type": "stream",
     "text": [
      "The position of 'text' using find(): 9\n",
      "The position of 'text' using rfind(): 47\n"
     ]
    }
   ],
   "source": [
    "txt = 'Will you text? Or should I text? Is it okay to text?'\n",
    "\n",
    "print(\"The position of 'text' using find():\", txt.find('text'))#find() returns the index position of the element’s first occurrence\n",
    "print(\"The position of 'text' using rfind():\", txt.rfind('text'))#rfind() returns the highest index (from the right) for the provided substring,"
   ]
  },
  {
   "cell_type": "code",
   "execution_count": 59,
   "id": "1f8a078b",
   "metadata": {},
   "outputs": [
    {
     "name": "stdout",
     "output_type": "stream",
     "text": [
      "16\n",
      "24\n",
      "-1\n"
     ]
    }
   ],
   "source": [
    "# Python program to illustrate rfind()\n",
    "txt = 'I am currently pursuing Masters i.e. MBA in Finance'\n",
    "\n",
    "# start search from index position 25\n",
    "print(txt.rfind('ur', 10))\n",
    "\n",
    "# start and end search from index position 5 to 30\n",
    "print(txt.rfind('M', 5, 30))\n",
    "\n",
    "# start and end search from index position 10 to 20\n",
    "print(txt.rfind('in', 10, 20))"
   ]
  },
  {
   "cell_type": "markdown",
   "id": "1851af64",
   "metadata": {},
   "source": [
    "# What is the effect of multiplying a string by 3?"
   ]
  },
  {
   "cell_type": "code",
   "execution_count": 61,
   "id": "655750df",
   "metadata": {},
   "outputs": [
    {
     "name": "stdout",
     "output_type": "stream",
     "text": [
      "NAVNATHNAVNATHNAVNATH\n"
     ]
    }
   ],
   "source": [
    "#The string is concatenated together 3 times.\n",
    "mystr = 'NAVNATH'\n",
    "print(mystr*3)"
   ]
  },
  {
   "cell_type": "markdown",
   "id": "f6f78ff9",
   "metadata": {},
   "source": [
    "# If I use splitlines() on the below, what will be the output?\n",
    "sentence = \"It was a stormy night\\nThe house creeked\\nThe wind blew.\""
   ]
  },
  {
   "cell_type": "code",
   "execution_count": 62,
   "id": "1b290663",
   "metadata": {},
   "outputs": [
    {
     "name": "stdout",
     "output_type": "stream",
     "text": [
      "['It was a stormy night', 'The house creeked', 'The wind blew.']\n"
     ]
    }
   ],
   "source": [
    "#Return a list of the lines in the string, breaking at line boundaries.\n",
    "sentence = \"It was a stormy night\\nThe house creeked\\nThe wind blew.\"\n",
    "print(sentence.splitlines())"
   ]
  },
  {
   "cell_type": "markdown",
   "id": "14336e42",
   "metadata": {},
   "source": [
    "# What is the difference between replace and translate?"
   ]
  },
  {
   "cell_type": "code",
   "execution_count": 78,
   "id": "9cf711db",
   "metadata": {},
   "outputs": [],
   "source": [
    "# REPLACE lets you substitute a single string for another single string, as well as remove character strings.\n",
    "# TRANSLATE lets you make several single-character, one-to-one substitutions in one operation. "
   ]
  },
  {
   "cell_type": "code",
   "execution_count": 79,
   "id": "f9834377",
   "metadata": {},
   "outputs": [
    {
     "data": {
      "text/plain": [
       "'I am currently pursuing Masters i.e. MATH in Finance'"
      ]
     },
     "execution_count": 79,
     "metadata": {},
     "output_type": "execute_result"
    }
   ],
   "source": [
    "txt = 'I am currently pursuing Masters i.e. MBA in Finance'\n",
    "\n",
    "txt.replace(\"MBA\",\"MATH\")"
   ]
  },
  {
   "cell_type": "code",
   "execution_count": 81,
   "id": "96be3556",
   "metadata": {},
   "outputs": [
    {
     "data": {
      "text/plain": [
       "'IHamHcurrentlyHpursuingHMastersHi.e.HMATHinHFinance'"
      ]
     },
     "execution_count": 81,
     "metadata": {},
     "output_type": "execute_result"
    }
   ],
   "source": [
    "txt = 'I am currently pursuing Masters i.e. MBA in Finance'\n",
    "\n",
    "temp = txt.maketrans('MBA ','MATH')\n",
    "txt.translate(temp)"
   ]
  },
  {
   "cell_type": "markdown",
   "id": "83177d4e",
   "metadata": {},
   "source": [
    "# How to remove whitespace from left,right or both side of a string?"
   ]
  },
  {
   "cell_type": "code",
   "execution_count": 82,
   "id": "f94ae96c",
   "metadata": {},
   "outputs": [
    {
     "data": {
      "text/plain": [
       "'I am currently pursuing Masters i.e. MBA in Finance'"
      ]
     },
     "execution_count": 82,
     "metadata": {},
     "output_type": "execute_result"
    }
   ],
   "source": [
    "#strip(): returns a new string after removing any leading and trailing whitespaces including tabs (\\t).\n",
    "txt = ' I am currently pursuing Masters i.e. MBA in Finance '\n",
    "txt.strip()"
   ]
  },
  {
   "cell_type": "code",
   "execution_count": null,
   "id": "f3fcf108",
   "metadata": {},
   "outputs": [],
   "source": []
  }
 ],
 "metadata": {
  "kernelspec": {
   "display_name": "Python 3 (ipykernel)",
   "language": "python",
   "name": "python3"
  },
  "language_info": {
   "codemirror_mode": {
    "name": "ipython",
    "version": 3
   },
   "file_extension": ".py",
   "mimetype": "text/x-python",
   "name": "python",
   "nbconvert_exporter": "python",
   "pygments_lexer": "ipython3",
   "version": "3.8.10"
  },
  "toc": {
   "base_numbering": 1,
   "nav_menu": {},
   "number_sections": true,
   "sideBar": true,
   "skip_h1_title": false,
   "title_cell": "Table of Contents",
   "title_sidebar": "Contents",
   "toc_cell": false,
   "toc_position": {},
   "toc_section_display": true,
   "toc_window_display": false
  },
  "varInspector": {
   "cols": {
    "lenName": 16,
    "lenType": 16,
    "lenVar": 40
   },
   "kernels_config": {
    "python": {
     "delete_cmd_postfix": "",
     "delete_cmd_prefix": "del ",
     "library": "var_list.py",
     "varRefreshCmd": "print(var_dic_list())"
    },
    "r": {
     "delete_cmd_postfix": ") ",
     "delete_cmd_prefix": "rm(",
     "library": "var_list.r",
     "varRefreshCmd": "cat(var_dic_list()) "
    }
   },
   "types_to_exclude": [
    "module",
    "function",
    "builtin_function_or_method",
    "instance",
    "_Feature"
   ],
   "window_display": false
  }
 },
 "nbformat": 4,
 "nbformat_minor": 5
}
