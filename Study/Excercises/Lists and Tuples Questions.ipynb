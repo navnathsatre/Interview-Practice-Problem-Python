{
 "cells": [
  {
   "cell_type": "markdown",
   "id": "8b4f6671",
   "metadata": {},
   "source": [
    "# What will be the output of the following code snippet?\n",
    "a=[1,2,3,4,5,6,7,8,9]\n",
    "print(a[::2])"
   ]
  },
  {
   "cell_type": "code",
   "execution_count": 1,
   "id": "f5406a72",
   "metadata": {},
   "outputs": [
    {
     "name": "stdout",
     "output_type": "stream",
     "text": [
      "[1, 3, 5, 7, 9]\n"
     ]
    }
   ],
   "source": [
    "# o/p: 13579\n",
    "a=[1,2,3,4,5,6,7,8,9]\n",
    "print(a[::2])"
   ]
  },
  {
   "cell_type": "markdown",
   "id": "96c37fb3",
   "metadata": {},
   "source": [
    "# What are the ways you can create a lists and tuples?"
   ]
  },
  {
   "cell_type": "code",
   "execution_count": 3,
   "id": "2f1ccdbd",
   "metadata": {},
   "outputs": [
    {
     "name": "stdout",
     "output_type": "stream",
     "text": [
      "<class 'list'>\n",
      "<class 'list'>\n",
      "********************\n",
      "<class 'tuple'>\n",
      "<class 'tuple'>\n"
     ]
    }
   ],
   "source": [
    "lst1 = []\n",
    "lst2 = list()\n",
    "print(type(lst1))\n",
    "print(type(lst2))\n",
    "print(20*\"*\")\n",
    "tpl1 = ()\n",
    "tpl2 = tuple()\n",
    "print(type(tpl1))\n",
    "print(type(tpl2))"
   ]
  },
  {
   "cell_type": "markdown",
   "id": "e105fa05",
   "metadata": {},
   "source": [
    "# Can lists and tuples have heterogeneous and hemogeneous data objects? Give me an example?"
   ]
  },
  {
   "cell_type": "markdown",
   "id": "bf9a386b",
   "metadata": {},
   "source": [
    " LIST: The items stored can be of any type numeric, string, boolean, objects, etc which makes it **heterogeneous**.<br/>\n",
    " This means that a list can have any type of data and we can iterate over this list using any type of loop. <br/>\n",
    " The elements stored are usually associated with an index that defines the position in the list.<br/>\n",
    " Lists are mutable sequences, typically used to store collections of **homogeneous** items\n"
   ]
  },
  {
   "cell_type": "code",
   "execution_count": 16,
   "id": "eea5162e",
   "metadata": {},
   "outputs": [
    {
     "name": "stdout",
     "output_type": "stream",
     "text": [
      "[1, 2, 3, 'a', 'b', 'c', True, False, None, [10, 20], {'name': 'navnath'}, {1, 3, 5}, (9, 8, 7)]\n"
     ]
    }
   ],
   "source": [
    "lst = [ 1,2,3,'a','b','c',True,False,None,[10,20],{\"name\":\"navnath\"},{1,3,5},(9,8,7)]\n",
    "print(lst)"
   ]
  },
  {
   "cell_type": "markdown",
   "id": "1f657d4e",
   "metadata": {},
   "source": [
    "TUPLE: Tuples can store both heterogeneous and **homogeneous** data but are generally used to store collections of **heterogeneous** elements."
   ]
  },
  {
   "cell_type": "code",
   "execution_count": 18,
   "id": "ee6ee9ad",
   "metadata": {},
   "outputs": [
    {
     "name": "stdout",
     "output_type": "stream",
     "text": [
      "[1, 2, 3, 'a', 'b', 'c', True, False, None, [10, 20], {'name': 'navnath'}, {1, 3, 5}, (9, 8, 7)]\n"
     ]
    }
   ],
   "source": [
    "tpl = [ 1,2,3,'a','b','c',True,False,None,[10,20],{\"name\":\"navnath\"},{1,3,5},(9,8,7)]\n",
    "print(tpl)"
   ]
  },
  {
   "cell_type": "markdown",
   "id": "311d4bfb",
   "metadata": {},
   "source": [
    "# List out the differences between a list and a tuple?"
   ]
  },
  {
   "cell_type": "markdown",
   "id": "67a98b47",
   "metadata": {},
   "source": [
    "|SR.NO.|\tLIST\t|TUPLE|\n",
    "|---|---|---|\n",
    "|1\t|Lists are mutable\t|Tuples are immutable|\n",
    "|2\t|Implication of iterations is Time-consuming\t|The implication of iterations is comparatively Faster|\n",
    "|3\t|The list is better for performing operations, such as insertion and deletion.\t|Tuple data type is appropriate for accessing the elements|\n",
    "|4\t|Lists consume more memory\t|Tuple consume less memory as compared to the list|\n",
    "|5\t|Lists have several built-in methods\t|Tuple does not have many built-in methods.|\n",
    "|6\t|The unexpected changes and errors are more likely to occur\t|In tuple, it is hard to take place.|"
   ]
  },
  {
   "cell_type": "markdown",
   "id": "62081024",
   "metadata": {},
   "source": [
    "# How to determine the size of your lists?"
   ]
  },
  {
   "cell_type": "code",
   "execution_count": 19,
   "id": "db025a5f",
   "metadata": {},
   "outputs": [
    {
     "name": "stdout",
     "output_type": "stream",
     "text": [
      "13\n"
     ]
    }
   ],
   "source": [
    "# using len function\n",
    "lst = [ 1,2,3,'a','b','c',True,False,None,[10,20],{\"name\":\"navnath\"},{1,3,5},(9,8,7)]\n",
    "print(len(lst))"
   ]
  },
  {
   "cell_type": "markdown",
   "id": "51b4affc",
   "metadata": {},
   "source": [
    "# Consider the below list:\n",
    "lst = [10, 20, [30, [40, 50], 60], 70, [80]] <br/>\n",
    "Take out the elements 60, 80 by using the corresponding index values and add the numbers,\n",
    "display the result?"
   ]
  },
  {
   "cell_type": "code",
   "execution_count": 20,
   "id": "8fc1b5a0",
   "metadata": {},
   "outputs": [
    {
     "name": "stdout",
     "output_type": "stream",
     "text": [
      "140\n"
     ]
    }
   ],
   "source": [
    "lst = [10, 20, [30, [40, 50], 60], 70, [80]]\n",
    "add = lst[2][-1] + lst[-1][-1]\n",
    "print(add)"
   ]
  },
  {
   "cell_type": "markdown",
   "id": "e95b9186",
   "metadata": {},
   "source": [
    "# What is the difference between append() and extend()? How do they work? Demonstrate with an example?"
   ]
  },
  {
   "cell_type": "markdown",
   "id": "5a32831b",
   "metadata": {},
   "source": [
    "### Append\n",
    "It adds an element at the end of the list. The argument passed in the append function is added as a single element at end of the list and the length of the list is increased by 1"
   ]
  },
  {
   "cell_type": "code",
   "execution_count": 21,
   "id": "03b7211a",
   "metadata": {},
   "outputs": [
    {
     "name": "stdout",
     "output_type": "stream",
     "text": [
      "['NAVNATH']\n"
     ]
    }
   ],
   "source": [
    "l = []\n",
    "l.append(\"NAVNATH\")\n",
    "print(l)"
   ]
  },
  {
   "cell_type": "markdown",
   "id": "3d5d3060",
   "metadata": {},
   "source": [
    "### Extend\n",
    "This method appends each element of the iterable (tuple, string, or list) to the end of the list and increases the length of the list by the number of elements of the iterable passed as an argument."
   ]
  },
  {
   "cell_type": "code",
   "execution_count": 22,
   "id": "f18dec88",
   "metadata": {},
   "outputs": [
    {
     "data": {
      "text/plain": [
       "['NAVNATH']"
      ]
     },
     "execution_count": 22,
     "metadata": {},
     "output_type": "execute_result"
    }
   ],
   "source": [
    "l"
   ]
  },
  {
   "cell_type": "code",
   "execution_count": 24,
   "id": "ee9477f6",
   "metadata": {},
   "outputs": [
    {
     "name": "stdout",
     "output_type": "stream",
     "text": [
      "['NAVNATH', 12345]\n"
     ]
    }
   ],
   "source": [
    "l.extend((12345,))\n",
    "print(l)"
   ]
  },
  {
   "cell_type": "code",
   "execution_count": 25,
   "id": "26024980",
   "metadata": {},
   "outputs": [
    {
     "name": "stdout",
     "output_type": "stream",
     "text": [
      "['NAVNATH', 12345, 12345]\n"
     ]
    }
   ],
   "source": [
    "l.extend([12345])\n",
    "print(l)"
   ]
  },
  {
   "cell_type": "code",
   "execution_count": 26,
   "id": "22913d87",
   "metadata": {},
   "outputs": [
    {
     "name": "stdout",
     "output_type": "stream",
     "text": [
      "['NAVNATH', 12345, 12345, '1', '2', '3', '4', '5']\n"
     ]
    }
   ],
   "source": [
    "l.extend('12345')\n",
    "print(l)"
   ]
  },
  {
   "cell_type": "markdown",
   "id": "7da88baf",
   "metadata": {},
   "source": [
    "### Insert\n",
    "This method can be used to insert a value at any desired position. It takes two arguments-element and the index at which the element has to be inserted."
   ]
  },
  {
   "cell_type": "code",
   "execution_count": 27,
   "id": "6f7841b2",
   "metadata": {},
   "outputs": [
    {
     "data": {
      "text/plain": [
       "['NAVNATH', 12345, 12345, '1', '2', '3', '4', '5']"
      ]
     },
     "execution_count": 27,
     "metadata": {},
     "output_type": "execute_result"
    }
   ],
   "source": [
    "l"
   ]
  },
  {
   "cell_type": "code",
   "execution_count": 28,
   "id": "25d773a0",
   "metadata": {},
   "outputs": [
    {
     "name": "stdout",
     "output_type": "stream",
     "text": [
      "['NAVNATH', 'SATRE', 12345, 12345, '1', '2', '3', '4', '5']\n"
     ]
    }
   ],
   "source": [
    "l.insert(1,\"SATRE\")\n",
    "print(l)"
   ]
  },
  {
   "cell_type": "markdown",
   "id": "f25f196a",
   "metadata": {},
   "source": [
    "# How to concatenate lists?"
   ]
  },
  {
   "cell_type": "code",
   "execution_count": 31,
   "id": "043fba94",
   "metadata": {},
   "outputs": [
    {
     "name": "stdout",
     "output_type": "stream",
     "text": [
      "[1, 2, 3, 4, 5, 6, 7, 8, 9, 10]\n"
     ]
    }
   ],
   "source": [
    "lst1 = [1,2,3,4,5]\n",
    "lst2 = [6,7,8,9,10]\n",
    "\n",
    "# using for loop\n",
    "for i in lst2:\n",
    "    lst1.append(i)\n",
    "print(lst1)"
   ]
  },
  {
   "cell_type": "code",
   "execution_count": 32,
   "id": "f7fb2538",
   "metadata": {},
   "outputs": [
    {
     "name": "stdout",
     "output_type": "stream",
     "text": [
      "[1, 2, 3, 4, 5, 6, 7, 8, 9, 10]\n"
     ]
    }
   ],
   "source": [
    "lst1 = [1,2,3,4,5]\n",
    "lst2 = [6,7,8,9,10]\n",
    "\n",
    "# using + operator\n",
    "new_lst = lst1 + lst2\n",
    "print(new_lst)"
   ]
  },
  {
   "cell_type": "code",
   "execution_count": 40,
   "id": "cc545198",
   "metadata": {},
   "outputs": [
    {
     "name": "stdout",
     "output_type": "stream",
     "text": [
      "[1, 2, 3, 4, 5, 6, 7, 8, 9, 10]\n"
     ]
    }
   ],
   "source": [
    "lst1 = [1,2,3,4,5]\n",
    "lst2 = [6,7,8,9,10]\n",
    "\n",
    "#using list comprehension\n",
    "new_lst = [y for x in [lst1, lst2] for y in x]\n",
    "print(new_lst)"
   ]
  },
  {
   "cell_type": "code",
   "execution_count": 41,
   "id": "bab69aea",
   "metadata": {},
   "outputs": [
    {
     "name": "stdout",
     "output_type": "stream",
     "text": [
      "[1, 2, 3, 4, 5, 6, 7, 8, 9, 10]\n"
     ]
    }
   ],
   "source": [
    "lst1 = [1,2,3,4,5]\n",
    "lst2 = [6,7,8,9,10]\n",
    "\n",
    "#using extend\n",
    "lst1.extend(lst2)\n",
    "print(lst1)"
   ]
  },
  {
   "cell_type": "code",
   "execution_count": 42,
   "id": "f92d08b5",
   "metadata": {},
   "outputs": [
    {
     "name": "stdout",
     "output_type": "stream",
     "text": [
      "[1, 2, 3, 4, 5, 6, 7, 8, 9, 10]\n"
     ]
    }
   ],
   "source": [
    "lst1 = [1,2,3,4,5]\n",
    "lst2 = [6,7,8,9,10]\n",
    "\n",
    "#usong * operator\n",
    "new_lst = [*lst1, *lst2]\n",
    "print(new_lst)"
   ]
  },
  {
   "cell_type": "markdown",
   "id": "c02160ef",
   "metadata": {},
   "source": [
    "# How to sort a list?"
   ]
  },
  {
   "cell_type": "code",
   "execution_count": 46,
   "id": "19eec77a",
   "metadata": {},
   "outputs": [
    {
     "name": "stdout",
     "output_type": "stream",
     "text": [
      "[3, 5, 7, 8, 77, 90]\n"
     ]
    }
   ],
   "source": [
    "lst = [7,5,3,90,8,77]\n",
    "lst.sort() # inplace=True\n",
    "print(lst)"
   ]
  },
  {
   "cell_type": "code",
   "execution_count": 48,
   "id": "827acbfb",
   "metadata": {},
   "outputs": [
    {
     "name": "stdout",
     "output_type": "stream",
     "text": [
      "[3, 5, 7, 8, 77, 90]\n",
      "[7, 5, 3, 90, 8, 77]\n"
     ]
    }
   ],
   "source": [
    "lst = [7,5,3,90,8,77]\n",
    "print(sorted(lst)) # inplace=Flase\n",
    "print(lst)"
   ]
  },
  {
   "cell_type": "markdown",
   "id": "e34f02fd",
   "metadata": {},
   "source": [
    "# How to count occurances of a list item?"
   ]
  },
  {
   "cell_type": "code",
   "execution_count": 55,
   "id": "6b40a75c",
   "metadata": {},
   "outputs": [
    {
     "name": "stdout",
     "output_type": "stream",
     "text": [
      "Which count: 10\n",
      "10 occurred 2 times\n"
     ]
    }
   ],
   "source": [
    "lst = [8, 6, 8, 10, 8, 20, 10, 8, 8]\n",
    "x = int(input(\"Which count: \"))\n",
    "#using for loop\n",
    "def countX (lst, x):\n",
    "    count = 0\n",
    "    for i in lst:\n",
    "        if i == x:\n",
    "            count = count + 1\n",
    "    return count\n",
    "\n",
    "print('{} occurred {} times'.format(x,countX(lst, x)))"
   ]
  },
  {
   "cell_type": "markdown",
   "id": "fcba8f73",
   "metadata": {},
   "source": [
    "# How do you remove an element from a list?"
   ]
  },
  {
   "cell_type": "code",
   "execution_count": 59,
   "id": "73bc10a8",
   "metadata": {},
   "outputs": [],
   "source": [
    "lst = [ 1,2,3,'a','b','c',True,False,None,[10,20],{\"name\":\"navnath\"},{1,3,5},(9,8,7)]"
   ]
  },
  {
   "cell_type": "code",
   "execution_count": 60,
   "id": "d07c8254",
   "metadata": {},
   "outputs": [],
   "source": [
    "# using remove\n",
    "lst.remove(None)"
   ]
  },
  {
   "cell_type": "code",
   "execution_count": 61,
   "id": "fb8f3655",
   "metadata": {},
   "outputs": [
    {
     "name": "stdout",
     "output_type": "stream",
     "text": [
      "[1, 2, 3, 'a', 'b', 'c', True, False, [10, 20], {'name': 'navnath'}, {1, 3, 5}, (9, 8, 7)]\n"
     ]
    }
   ],
   "source": [
    "print(lst)"
   ]
  },
  {
   "cell_type": "code",
   "execution_count": 62,
   "id": "9d339b44",
   "metadata": {},
   "outputs": [
    {
     "data": {
      "text/plain": [
       "{'name': 'navnath'}"
      ]
     },
     "execution_count": 62,
     "metadata": {},
     "output_type": "execute_result"
    }
   ],
   "source": [
    "# using pop\n",
    "lst.pop(-3)"
   ]
  },
  {
   "cell_type": "code",
   "execution_count": 63,
   "id": "272abd87",
   "metadata": {},
   "outputs": [
    {
     "name": "stdout",
     "output_type": "stream",
     "text": [
      "[1, 2, 3, 'a', 'b', 'c', True, False, [10, 20], {1, 3, 5}, (9, 8, 7)]\n"
     ]
    }
   ],
   "source": [
    "print(lst)"
   ]
  },
  {
   "cell_type": "code",
   "execution_count": 64,
   "id": "4a44818e",
   "metadata": {},
   "outputs": [],
   "source": [
    "# using del\n",
    "del lst[6]"
   ]
  },
  {
   "cell_type": "code",
   "execution_count": 65,
   "id": "b9c264f9",
   "metadata": {},
   "outputs": [
    {
     "name": "stdout",
     "output_type": "stream",
     "text": [
      "[1, 2, 3, 'a', 'b', 'c', False, [10, 20], {1, 3, 5}, (9, 8, 7)]\n"
     ]
    }
   ],
   "source": [
    "print(lst)"
   ]
  },
  {
   "cell_type": "markdown",
   "id": "61f67fb7",
   "metadata": {},
   "source": [
    "# .Consider the below list:\n",
    "lst = [10, 20, 30, 40, 50, 60, 70, 80] <br/>\n",
    "Help me to insert 15 in between 10 and 20, 45 in between 40 and 50"
   ]
  },
  {
   "cell_type": "code",
   "execution_count": 68,
   "id": "5e73ddaa",
   "metadata": {},
   "outputs": [],
   "source": [
    "lst = [10, 20, 30, 40, 50, 60, 70, 80]\n",
    "lst.insert(1, 15)\n",
    "lst.insert(5, 45)"
   ]
  },
  {
   "cell_type": "code",
   "execution_count": 69,
   "id": "7cf3b3a2",
   "metadata": {},
   "outputs": [
    {
     "name": "stdout",
     "output_type": "stream",
     "text": [
      "[10, 15, 20, 30, 40, 45, 50, 60, 70, 80]\n"
     ]
    }
   ],
   "source": [
    "print(lst)"
   ]
  },
  {
   "cell_type": "markdown",
   "id": "1c0fa1b5",
   "metadata": {},
   "source": [
    "# How do you copy a list from another? "
   ]
  },
  {
   "cell_type": "code",
   "execution_count": 70,
   "id": "08cbd623",
   "metadata": {},
   "outputs": [],
   "source": [
    "lst = [10, 20, 30, 40, 50, 60, 70, 80]\n",
    "new_lst = lst[:]"
   ]
  },
  {
   "cell_type": "code",
   "execution_count": 71,
   "id": "172a79a2",
   "metadata": {},
   "outputs": [
    {
     "name": "stdout",
     "output_type": "stream",
     "text": [
      "[10, 20, 30, 40, 50, 60, 70, 80]\n"
     ]
    }
   ],
   "source": [
    "print(new_lst)"
   ]
  },
  {
   "cell_type": "code",
   "execution_count": 72,
   "id": "b7dffc67",
   "metadata": {},
   "outputs": [],
   "source": [
    "lst = [10, 20, 30, 40, 50, 60, 70, 80]\n",
    "new_lst = lst.copy()"
   ]
  },
  {
   "cell_type": "code",
   "execution_count": 73,
   "id": "03968b27",
   "metadata": {},
   "outputs": [
    {
     "name": "stdout",
     "output_type": "stream",
     "text": [
      "[10, 20, 30, 40, 50, 60, 70, 80]\n"
     ]
    }
   ],
   "source": [
    "print(new_lst)"
   ]
  },
  {
   "cell_type": "code",
   "execution_count": 74,
   "id": "685cdd18",
   "metadata": {},
   "outputs": [],
   "source": [
    "import copy\n",
    "lst = [10, 20, 30, 40, 50, 60, 70, 80]\n",
    "new_lst = copy.copy(lst)"
   ]
  },
  {
   "cell_type": "code",
   "execution_count": 75,
   "id": "f46f4716",
   "metadata": {},
   "outputs": [
    {
     "name": "stdout",
     "output_type": "stream",
     "text": [
      "[10, 20, 30, 40, 50, 60, 70, 80]\n"
     ]
    }
   ],
   "source": [
    "print(new_lst)"
   ]
  },
  {
   "cell_type": "markdown",
   "id": "3bec7010",
   "metadata": {},
   "source": [
    "# Demonstrate the difference between shallow and deep copy? How do they work?"
   ]
  },
  {
   "cell_type": "markdown",
   "id": "46b4e0ab",
   "metadata": {},
   "source": [
    "|Shallow Copy\t|Deep Copy|\n",
    "|---|---|\n",
    "|Shallow Copy stores the references of objects to the original memory address.   \t|Deep copy stores copies of the object’s value.|\n",
    "|Shallow Copy reflects changes made to the new/copied object in the original object.\t|Deep copy doesn’t reflect changes made to the new/copied object in the original object.|\n",
    "|Shallow Copy stores the copy of the original object and points the references to the objects.\t|Deep copy stores the copy of the original object and recursively copies the objects as well.|\n",
    "|Shallow copy is faster.\t|Deep copy is comparatively slower.|"
   ]
  },
  {
   "cell_type": "markdown",
   "id": "769dbda4",
   "metadata": {},
   "source": [
    "# Consider the below list:\n",
    "lst = [10, 20, 30, 40, 50, 60, 70, 80] <br/>\n",
    "How do you sort the list in descending order?"
   ]
  },
  {
   "cell_type": "code",
   "execution_count": 76,
   "id": "c191bac3",
   "metadata": {},
   "outputs": [],
   "source": [
    "lst = [10, 20, 30, 40, 50, 60, 70, 80]\n",
    "lst.sort(reverse=True)"
   ]
  },
  {
   "cell_type": "code",
   "execution_count": 78,
   "id": "cc589518",
   "metadata": {},
   "outputs": [
    {
     "name": "stdout",
     "output_type": "stream",
     "text": [
      "[80, 70, 60, 50, 40, 30, 20, 10]\n"
     ]
    }
   ],
   "source": [
    "print(lst)"
   ]
  },
  {
   "cell_type": "markdown",
   "id": "7b2f958d",
   "metadata": {},
   "source": [
    "# Consider the below list:\n",
    "lst = [10, 20, 30, 40, 50, 60, 70, 80] <br/>\n",
    "What will be output of the below:<br/>\n",
    "lst.index(100)"
   ]
  },
  {
   "cell_type": "code",
   "execution_count": 80,
   "id": "09bb3f41",
   "metadata": {},
   "outputs": [
    {
     "ename": "ValueError",
     "evalue": "100 is not in list",
     "output_type": "error",
     "traceback": [
      "\u001b[0;31m---------------------------------------------------------------------------\u001b[0m",
      "\u001b[0;31mValueError\u001b[0m                                Traceback (most recent call last)",
      "Input \u001b[0;32mIn [80]\u001b[0m, in \u001b[0;36m<cell line: 2>\u001b[0;34m()\u001b[0m\n\u001b[1;32m      1\u001b[0m lst \u001b[38;5;241m=\u001b[39m [\u001b[38;5;241m10\u001b[39m, \u001b[38;5;241m20\u001b[39m, \u001b[38;5;241m30\u001b[39m, \u001b[38;5;241m40\u001b[39m, \u001b[38;5;241m50\u001b[39m, \u001b[38;5;241m60\u001b[39m, \u001b[38;5;241m70\u001b[39m, \u001b[38;5;241m80\u001b[39m]\n\u001b[0;32m----> 2\u001b[0m \u001b[43mlst\u001b[49m\u001b[38;5;241;43m.\u001b[39;49m\u001b[43mindex\u001b[49m\u001b[43m(\u001b[49m\u001b[38;5;241;43m100\u001b[39;49m\u001b[43m)\u001b[49m\n",
      "\u001b[0;31mValueError\u001b[0m: 100 is not in list"
     ]
    }
   ],
   "source": [
    "# ValueError\n",
    "lst = [10, 20, 30, 40, 50, 60, 70, 80]\n",
    "lst.index(100)"
   ]
  },
  {
   "cell_type": "markdown",
   "id": "36a29652",
   "metadata": {},
   "source": [
    "# How do you find minimum and maximum element/number of a list?"
   ]
  },
  {
   "cell_type": "code",
   "execution_count": 92,
   "id": "f8efb373",
   "metadata": {},
   "outputs": [
    {
     "name": "stdout",
     "output_type": "stream",
     "text": [
      "10\n",
      "1\n"
     ]
    }
   ],
   "source": [
    "lst = [9,1,5,8,3,2,10,4,2]\n",
    "max_num = lst[0]\n",
    "for i in lst:\n",
    "    if i > max_num:\n",
    "        max_num = i\n",
    "print(max_num)\n",
    "\n",
    "min_num = lst[0]\n",
    "for j in lst:\n",
    "    if j < min_num:\n",
    "        min_num = j\n",
    "print(min_num)"
   ]
  },
  {
   "cell_type": "code",
   "execution_count": 93,
   "id": "3e776598",
   "metadata": {},
   "outputs": [
    {
     "name": "stdout",
     "output_type": "stream",
     "text": [
      "10\n",
      "1\n"
     ]
    }
   ],
   "source": [
    "lst = [9,1,5,8,3,2,10,4,2]\n",
    "print(max(lst))\n",
    "print(min(lst))"
   ]
  },
  {
   "cell_type": "markdown",
   "id": "26bc883b",
   "metadata": {},
   "source": [
    "# Create a list as below:\n",
    "[‘Python’, ‘is’, ‘a’, ‘high’, ‘level’, ‘language’] <br/>\n",
    "For the above list, display the result as <br/>\n",
    "‘PYTHON-IS-A-HIGH-LEVEL-LANGUAGE’"
   ]
  },
  {
   "cell_type": "code",
   "execution_count": 99,
   "id": "1c232041",
   "metadata": {},
   "outputs": [],
   "source": [
    "lst = ['Python', 'is', 'a', 'high', 'level', 'language']\n",
    "new_lst = '-'.join(lst).upper()"
   ]
  },
  {
   "cell_type": "code",
   "execution_count": 100,
   "id": "951d9d8e",
   "metadata": {},
   "outputs": [
    {
     "name": "stdout",
     "output_type": "stream",
     "text": [
      "PYTHON-IS-A-HIGH-LEVEL-LANGUAGE\n"
     ]
    }
   ],
   "source": [
    "print(new_lst)"
   ]
  },
  {
   "cell_type": "markdown",
   "id": "83b98358",
   "metadata": {},
   "source": [
    "# Consider the below list:\n",
    "lst = [10, 20, 30, 40, 50, 60, 70, 80, 90, 100, 110, 120, 130, 140, 150, 160, 170, 180, 190, 200] <br/>\n",
    "Create 4 lists. First list having 10 to 50, the second one having 60 to 100 and third list with 110\n",
    "to 150 and fourth list with the remaining"
   ]
  },
  {
   "cell_type": "code",
   "execution_count": 126,
   "id": "6aed700e",
   "metadata": {},
   "outputs": [
    {
     "name": "stdout",
     "output_type": "stream",
     "text": [
      "[10, 20, 30, 40, 50]\n",
      "[51, 60, 70, 80, 90]\n",
      "[100, 110, 120, 130, 140]\n",
      "[150, 160, 170, 180, 190, 200]\n"
     ]
    }
   ],
   "source": [
    "lst = [10, 20, 30, 40, 50, 60, 70, 80, 90, 100, 110, 120, 130, 140, 150, 160, 170, 180, 190, 200]\n",
    "lst1=[]\n",
    "lst2=[]\n",
    "lst3=[]\n",
    "lst4=[]\n",
    "\n",
    "lst1.extend(lst[:5])\n",
    "lst2.extend(lst[5:10])\n",
    "lst3.extend(lst[10:15])\n",
    "lst4.extend(lst[15:])\n",
    "\n",
    "print(lst1)\n",
    "print(lst2)\n",
    "print(lst3)\n",
    "print(lst4)"
   ]
  },
  {
   "cell_type": "markdown",
   "id": "50ef63c9",
   "metadata": {},
   "source": [
    "# List down all the methods used in list and tuple?"
   ]
  },
  {
   "cell_type": "markdown",
   "id": "2ff27ac4",
   "metadata": {},
   "source": [
    "LIST:<BR/>'append',\n",
    " 'clear',\n",
    " 'copy',\n",
    " 'count',\n",
    " 'extend',\n",
    " 'index',\n",
    " 'insert',\n",
    " 'pop',\n",
    " 'remove',\n",
    " 'reverse',\n",
    " 'sort'"
   ]
  },
  {
   "cell_type": "markdown",
   "id": "fcdc0983",
   "metadata": {},
   "source": [
    "TUPLE:<BR/>\n",
    "'count',\n",
    " 'index'"
   ]
  },
  {
   "cell_type": "code",
   "execution_count": null,
   "id": "62754d68",
   "metadata": {},
   "outputs": [],
   "source": []
  }
 ],
 "metadata": {
  "kernelspec": {
   "display_name": "Python 3 (ipykernel)",
   "language": "python",
   "name": "python3"
  },
  "language_info": {
   "codemirror_mode": {
    "name": "ipython",
    "version": 3
   },
   "file_extension": ".py",
   "mimetype": "text/x-python",
   "name": "python",
   "nbconvert_exporter": "python",
   "pygments_lexer": "ipython3",
   "version": "3.8.10"
  },
  "toc": {
   "base_numbering": 1,
   "nav_menu": {},
   "number_sections": true,
   "sideBar": true,
   "skip_h1_title": false,
   "title_cell": "Table of Contents",
   "title_sidebar": "Contents",
   "toc_cell": false,
   "toc_position": {},
   "toc_section_display": true,
   "toc_window_display": false
  },
  "varInspector": {
   "cols": {
    "lenName": 16,
    "lenType": 16,
    "lenVar": 40
   },
   "kernels_config": {
    "python": {
     "delete_cmd_postfix": "",
     "delete_cmd_prefix": "del ",
     "library": "var_list.py",
     "varRefreshCmd": "print(var_dic_list())"
    },
    "r": {
     "delete_cmd_postfix": ") ",
     "delete_cmd_prefix": "rm(",
     "library": "var_list.r",
     "varRefreshCmd": "cat(var_dic_list()) "
    }
   },
   "types_to_exclude": [
    "module",
    "function",
    "builtin_function_or_method",
    "instance",
    "_Feature"
   ],
   "window_display": false
  }
 },
 "nbformat": 4,
 "nbformat_minor": 5
}
