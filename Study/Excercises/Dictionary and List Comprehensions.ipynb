{
 "cells": [
  {
   "cell_type": "markdown",
   "id": "19aa65d3",
   "metadata": {},
   "source": [
    "# Write a Python script to add a key to a dictionary?"
   ]
  },
  {
   "cell_type": "markdown",
   "id": "9bd2579d",
   "metadata": {},
   "source": [
    "Sample Dictionary : {'Name': 'Dhoni', 'Experience': 20}<br>\n",
    "Expected Result : {'Name': 'Dhoni', 'Experience': 20, 'Game':'Cricket'}"
   ]
  },
  {
   "cell_type": "code",
   "execution_count": 2,
   "id": "7e282366",
   "metadata": {},
   "outputs": [],
   "source": [
    "Sample_Dictionary = {'Name': 'Dhoni', 'Experience': 20}"
   ]
  },
  {
   "cell_type": "code",
   "execution_count": 3,
   "id": "292c9232",
   "metadata": {},
   "outputs": [
    {
     "name": "stdout",
     "output_type": "stream",
     "text": [
      "Enter the key: Game\n",
      "Enter the value: Cricket\n",
      "Updated dictionary is:  {'Name': 'Dhoni', 'Experience': 20, 'Game': 'Cricket'}\n"
     ]
    }
   ],
   "source": [
    "key = input(\"Enter the key: \")\n",
    "value = input(\"Enter the value: \")\n",
    "Sample_Dictionary.update({key:value})\n",
    "print(\"Updated dictionary is: \", Sample_Dictionary)"
   ]
  },
  {
   "cell_type": "markdown",
   "id": "db6a64ee",
   "metadata": {},
   "source": [
    "# Write a Python script to concatenate following dictionaries to create a newdictionary called ‘result’?"
   ]
  },
  {
   "cell_type": "code",
   "execution_count": 4,
   "id": "2bb9a98e",
   "metadata": {},
   "outputs": [],
   "source": [
    "d1={'Name':'Guru', 'Class':'Second'}\n",
    "d2={'Mark1':80, 'Mark2':70}\n",
    "d3={'Mark3':90, 'Mark4':60}"
   ]
  },
  {
   "cell_type": "code",
   "execution_count": 7,
   "id": "253ac032",
   "metadata": {},
   "outputs": [],
   "source": [
    "result =dict(d1,**d2,**d3)"
   ]
  },
  {
   "cell_type": "code",
   "execution_count": 8,
   "id": "2f72a221",
   "metadata": {},
   "outputs": [
    {
     "data": {
      "text/plain": [
       "{'Name': 'Guru',\n",
       " 'Class': 'Second',\n",
       " 'Mark1': 80,\n",
       " 'Mark2': 70,\n",
       " 'Mark3': 90,\n",
       " 'Mark4': 60}"
      ]
     },
     "execution_count": 8,
     "metadata": {},
     "output_type": "execute_result"
    }
   ],
   "source": [
    "result"
   ]
  },
  {
   "cell_type": "markdown",
   "id": "83159651",
   "metadata": {},
   "source": [
    "# How do you check whether a given key is already present in the dictionary or not?"
   ]
  },
  {
   "cell_type": "code",
   "execution_count": 9,
   "id": "6519da0a",
   "metadata": {},
   "outputs": [],
   "source": [
    "d1={'Name':'Guru', 'Class':'Second'}\n",
    "#Check the ‘Name’ is present or not?"
   ]
  },
  {
   "cell_type": "code",
   "execution_count": 11,
   "id": "fcf83822",
   "metadata": {},
   "outputs": [
    {
     "name": "stdout",
     "output_type": "stream",
     "text": [
      "Which key you want to check ? Name\n",
      "Key is present\n"
     ]
    }
   ],
   "source": [
    "key = input(\"Which key you want to check ? \")\n",
    "if d1.get(key) == None:\n",
    "    print('Not present')\n",
    "else:\n",
    "    print('Key is present')"
   ]
  },
  {
   "cell_type": "code",
   "execution_count": 14,
   "id": "9c46e403",
   "metadata": {},
   "outputs": [
    {
     "name": "stdout",
     "output_type": "stream",
     "text": [
      "Which key you want to check ? Name\n",
      "Key is prosent\n"
     ]
    }
   ],
   "source": [
    "k = input(\"Which key you want to check ? \")\n",
    "if k in d1.keys():\n",
    "    print('Key is prosent')\n",
    "else:\n",
    "    print('Not present')"
   ]
  },
  {
   "cell_type": "markdown",
   "id": "7547c062",
   "metadata": {},
   "source": [
    "# Write a program to iterate over dictionaries using for loops? Use the below dictionary:"
   ]
  },
  {
   "cell_type": "code",
   "execution_count": 15,
   "id": "37808d14",
   "metadata": {},
   "outputs": [],
   "source": [
    "player = {'Name': 'Dhoni', 'Experience': 20, 'Game':'Cricket'}\n",
    "# Expected output:\n",
    "# Name-->Dhoni\n",
    "# Experience-->20\n",
    "# Game-->Cricket"
   ]
  },
  {
   "cell_type": "code",
   "execution_count": 18,
   "id": "fa4c4876",
   "metadata": {},
   "outputs": [
    {
     "name": "stdout",
     "output_type": "stream",
     "text": [
      "Name --> Dhoni\n",
      "Experience --> 20\n",
      "Game --> Cricket\n"
     ]
    }
   ],
   "source": [
    "for k,v in player.items():\n",
    "    print(k,'-->',v)"
   ]
  },
  {
   "cell_type": "markdown",
   "id": "40ecdf87",
   "metadata": {},
   "source": [
    "# Write a script to generate and print a dictionary that contains a number (between 1 and n) in the form (number, number*number).<br>\n",
    "When the user provides 5, create a dictionary as below:\n",
    "{1: 1, 2: 4, 3: 9, 4: 16, 5: 25} (expected result)"
   ]
  },
  {
   "cell_type": "code",
   "execution_count": 31,
   "id": "86fec450",
   "metadata": {},
   "outputs": [
    {
     "name": "stdout",
     "output_type": "stream",
     "text": [
      "Enter any number: 5\n",
      "{1: 1, 2: 4, 3: 9, 4: 16, 5: 25}\n"
     ]
    }
   ],
   "source": [
    "num = int(input(\"Enter any number: \"))\n",
    "dic = {i:i*i for i in list(range(1,num+1))}\n",
    "print(dic)"
   ]
  },
  {
   "cell_type": "markdown",
   "id": "54f0888a",
   "metadata": {},
   "source": [
    "# Write a program to merge 2 dictionaries?"
   ]
  },
  {
   "cell_type": "code",
   "execution_count": 43,
   "id": "d455f181",
   "metadata": {},
   "outputs": [],
   "source": [
    "d1 = {'a': 'what', 'b': ' you '}\n",
    "d2 = {'x': 'doing', 'y': ' now?'}"
   ]
  },
  {
   "cell_type": "code",
   "execution_count": 44,
   "id": "b9f9cadf",
   "metadata": {},
   "outputs": [
    {
     "name": "stdout",
     "output_type": "stream",
     "text": [
      "{'a': 'what', 'b': ' you ', 'x': 'doing', 'y': ' now?'}\n"
     ]
    }
   ],
   "source": [
    "result = d1.copy()\n",
    "result.update(d2)\n",
    "print(result)"
   ]
  },
  {
   "cell_type": "code",
   "execution_count": 46,
   "id": "262bc207",
   "metadata": {},
   "outputs": [
    {
     "name": "stdout",
     "output_type": "stream",
     "text": [
      "{'a': 'what', 'b': ' you ', 'x': 'doing', 'y': ' now?'}\n"
     ]
    }
   ],
   "source": [
    "result = {**d1,**d2}\n",
    "print(result)"
   ]
  },
  {
   "cell_type": "markdown",
   "id": "94b1605d",
   "metadata": {},
   "source": [
    "# How do you obtain sum of all the marks in the below dictionary\n",
    "Sample dictionary:\n",
    "marks = {'m1':80, 'm2':79, 'm3':90, 'm4': 98, 'm5':86}\n",
    "\n",
    "Expected output:\n",
    "433 marks"
   ]
  },
  {
   "cell_type": "code",
   "execution_count": 49,
   "id": "1d516900",
   "metadata": {},
   "outputs": [
    {
     "name": "stdout",
     "output_type": "stream",
     "text": [
      "433 mark\n"
     ]
    }
   ],
   "source": [
    "marks = {'m1':80, 'm2':79, 'm3':90, 'm4': 98, 'm5':86}\n",
    "sum_mark = 0\n",
    "for v in marks.values():\n",
    "    sum_mark = sum_mark + v\n",
    "print(sum_mark,\"mark\")"
   ]
  },
  {
   "cell_type": "markdown",
   "id": "c1cc7a92",
   "metadata": {},
   "source": [
    "# How to remove a key from a dictionary?\n",
    "Sample dictionary:\n",
    "marks = {'m1':80, 'm2':79, 'm3':90, 'm4': 98, 'm5':86} # remove the key 'm3'\n",
    "\n",
    "Expected result:\n",
    "marks = {'m1':80, 'm2':79, 'm4': 98, 'm5':86} "
   ]
  },
  {
   "cell_type": "code",
   "execution_count": 50,
   "id": "8daef40e",
   "metadata": {},
   "outputs": [],
   "source": [
    "marks = {'m1':80, 'm2':79, 'm3':90, 'm4': 98, 'm5':86}"
   ]
  },
  {
   "cell_type": "code",
   "execution_count": 52,
   "id": "213f2065",
   "metadata": {},
   "outputs": [
    {
     "data": {
      "text/plain": [
       "90"
      ]
     },
     "execution_count": 52,
     "metadata": {},
     "output_type": "execute_result"
    }
   ],
   "source": [
    "marks.pop('m3')"
   ]
  },
  {
   "cell_type": "code",
   "execution_count": 53,
   "id": "1a70c87b",
   "metadata": {},
   "outputs": [
    {
     "data": {
      "text/plain": [
       "{'m1': 80, 'm2': 79, 'm4': 98, 'm5': 86}"
      ]
     },
     "execution_count": 53,
     "metadata": {},
     "output_type": "execute_result"
    }
   ],
   "source": [
    "marks"
   ]
  },
  {
   "cell_type": "markdown",
   "id": "07811c64",
   "metadata": {},
   "source": [
    "# Demonstate the difference between pop() and popitem() with the below dictionary?\n",
    "marks = {'m1':80, 'm2':79, 'm3':90, 'm4': 98, 'm5':86} "
   ]
  },
  {
   "cell_type": "code",
   "execution_count": 54,
   "id": "31a8d2ee",
   "metadata": {},
   "outputs": [],
   "source": [
    "marks = {'m1':80, 'm2':79, 'm3':90, 'm4': 98, 'm5':86}"
   ]
  },
  {
   "cell_type": "markdown",
   "id": "977b31c8",
   "metadata": {},
   "source": [
    "The main difference between pop() and popitem() is that the pop() element can remove an element with a specific key while in the case of popitem() we will delete the last entered element from the dictionary"
   ]
  },
  {
   "cell_type": "code",
   "execution_count": 55,
   "id": "d73863a9",
   "metadata": {},
   "outputs": [
    {
     "data": {
      "text/plain": [
       "{'m2': 79, 'm3': 90, 'm4': 98, 'm5': 86}"
      ]
     },
     "execution_count": 55,
     "metadata": {},
     "output_type": "execute_result"
    }
   ],
   "source": [
    "marks.pop('m1')\n",
    "marks"
   ]
  },
  {
   "cell_type": "code",
   "execution_count": 56,
   "id": "6fa61de4",
   "metadata": {},
   "outputs": [
    {
     "data": {
      "text/plain": [
       "{'m2': 79, 'm3': 90, 'm4': 98}"
      ]
     },
     "execution_count": 56,
     "metadata": {},
     "output_type": "execute_result"
    }
   ],
   "source": [
    "marks.popitem()\n",
    "marks"
   ]
  },
  {
   "cell_type": "markdown",
   "id": "86e79f57",
   "metadata": {},
   "source": [
    "# How to sort the below dictionary based on its key?\n",
    "player = {'Name': 'Dhoni', 'Experience': 20, 'Game':'Cricket'}\n",
    "\n",
    "Expected output:<br>\n",
    "Experience 20<br>\n",
    "Game Cricket<br>\n",
    "Name Dhoni"
   ]
  },
  {
   "cell_type": "code",
   "execution_count": 57,
   "id": "7b7ab911",
   "metadata": {},
   "outputs": [],
   "source": [
    "player = {'Name': 'Dhoni', 'Experience': 20, 'Game':'Cricket'}"
   ]
  },
  {
   "cell_type": "code",
   "execution_count": 62,
   "id": "c896cc7a",
   "metadata": {},
   "outputs": [
    {
     "name": "stdout",
     "output_type": "stream",
     "text": [
      "Experience 20\n",
      "Game Cricket\n",
      "Name Dhoni\n"
     ]
    }
   ],
   "source": [
    "for k,v in sorted(player.items()):\n",
    "    print(k,v)"
   ]
  },
  {
   "cell_type": "markdown",
   "id": "7c4f7a18",
   "metadata": {},
   "source": [
    "# Write a script to achieve the below:\n",
    "player = {'Name': 'Dhoni', 'Experience': 20, 'Game': 'Cricket'}\n",
    "\n",
    "Expected outcome:<br>\n",
    "Name is Dhoni<br>\n",
    "Experience is 20<br>\n",
    "Game is Cricket"
   ]
  },
  {
   "cell_type": "code",
   "execution_count": 66,
   "id": "96cf2a3a",
   "metadata": {},
   "outputs": [
    {
     "name": "stdout",
     "output_type": "stream",
     "text": [
      "Name is Dhoni\n",
      "Experience is 20\n",
      "Game is Cricket\n"
     ]
    }
   ],
   "source": [
    "player = {'Name': 'Dhoni', 'Experience': 20, 'Game': 'Cricket'}\n",
    "for k,v in player.items():\n",
    "    print(k,'is',v)"
   ]
  },
  {
   "cell_type": "markdown",
   "id": "cdda4265",
   "metadata": {},
   "source": [
    "# How to find minimum and maximum values in the below dictionary?\n",
    "my_dict = {'x':500, 'y':5874, 'z': 560, 'a':600, 'b':680}"
   ]
  },
  {
   "cell_type": "code",
   "execution_count": 67,
   "id": "b48fa574",
   "metadata": {},
   "outputs": [],
   "source": [
    "my_dict = {'x':500, 'y':5874, 'z': 560, 'a':600, 'b':680}"
   ]
  },
  {
   "cell_type": "code",
   "execution_count": 69,
   "id": "eca46ad8",
   "metadata": {},
   "outputs": [
    {
     "data": {
      "text/plain": [
       "5874"
      ]
     },
     "execution_count": 69,
     "metadata": {},
     "output_type": "execute_result"
    }
   ],
   "source": [
    "max(my_dict.values())"
   ]
  },
  {
   "cell_type": "code",
   "execution_count": 70,
   "id": "9958228b",
   "metadata": {},
   "outputs": [
    {
     "data": {
      "text/plain": [
       "500"
      ]
     },
     "execution_count": 70,
     "metadata": {},
     "output_type": "execute_result"
    }
   ],
   "source": [
    "min(my_dict.values())"
   ]
  },
  {
   "cell_type": "code",
   "execution_count": 81,
   "id": "731986c7",
   "metadata": {},
   "outputs": [
    {
     "name": "stdout",
     "output_type": "stream",
     "text": [
      "500\n"
     ]
    }
   ],
   "source": [
    "v = list(my_dict.values())\n",
    "min_v = v[0]\n",
    "for i in v:\n",
    "    if min_v > i:\n",
    "        min_v = i\n",
    "print(min_v)"
   ]
  },
  {
   "cell_type": "code",
   "execution_count": 82,
   "id": "eb5fe029",
   "metadata": {},
   "outputs": [
    {
     "name": "stdout",
     "output_type": "stream",
     "text": [
      "5874\n"
     ]
    }
   ],
   "source": [
    "v = list(my_dict.values())\n",
    "max_v = v[0]\n",
    "for i in v:\n",
    "    if max_v < i:\n",
    "        max_v = i\n",
    "print(max_v)"
   ]
  },
  {
   "cell_type": "markdown",
   "id": "1939cccb",
   "metadata": {},
   "source": [
    "# How to create a dictionary from the below lists?\n",
    "a = ['Name', 'Class', 'Mark']<br>\n",
    "b = None\n",
    "\n",
    "Expected result:<br>\n",
    "{'Name':None, 'Class':None, 'Mark':None}"
   ]
  },
  {
   "cell_type": "code",
   "execution_count": 84,
   "id": "ee07c63f",
   "metadata": {},
   "outputs": [],
   "source": [
    "a = ['Name', 'Class', 'Mark']\n",
    "b = None"
   ]
  },
  {
   "cell_type": "code",
   "execution_count": 96,
   "id": "a23741a5",
   "metadata": {},
   "outputs": [],
   "source": [
    "mydict = dict.fromkeys(a)"
   ]
  },
  {
   "cell_type": "code",
   "execution_count": 97,
   "id": "d6c55728",
   "metadata": {},
   "outputs": [
    {
     "data": {
      "text/plain": [
       "{'Name': None, 'Class': None, 'Mark': None}"
      ]
     },
     "execution_count": 97,
     "metadata": {},
     "output_type": "execute_result"
    }
   ],
   "source": [
    "mydict"
   ]
  },
  {
   "cell_type": "code",
   "execution_count": 109,
   "id": "26a460c7",
   "metadata": {},
   "outputs": [
    {
     "name": "stdout",
     "output_type": "stream",
     "text": [
      "{'Name': None, 'Class': None, 'Mark': None}\n"
     ]
    }
   ],
   "source": [
    "mydic = {}\n",
    "for i in a:\n",
    "    mydic[i]=b\n",
    "print(mydic)"
   ]
  },
  {
   "cell_type": "markdown",
   "id": "09fd0137",
   "metadata": {},
   "source": [
    "# Use list comprehension to obtain a list having squared numbers for 1 to 10?"
   ]
  },
  {
   "cell_type": "code",
   "execution_count": 110,
   "id": "4ba451d6",
   "metadata": {},
   "outputs": [
    {
     "data": {
      "text/plain": [
       "[1, 4, 9, 16, 25, 36, 49, 64, 81, 100]"
      ]
     },
     "execution_count": 110,
     "metadata": {},
     "output_type": "execute_result"
    }
   ],
   "source": [
    "[i*i for i in range(1,11)]"
   ]
  },
  {
   "cell_type": "markdown",
   "id": "669c85f8",
   "metadata": {},
   "source": [
    "# . Use list comprehension to obtain a list having squared numbers for 1 to 15, if the number is divisible by 2?"
   ]
  },
  {
   "cell_type": "code",
   "execution_count": 111,
   "id": "a0559581",
   "metadata": {},
   "outputs": [
    {
     "data": {
      "text/plain": [
       "[4, 16, 36, 64, 100, 144, 196]"
      ]
     },
     "execution_count": 111,
     "metadata": {},
     "output_type": "execute_result"
    }
   ],
   "source": [
    "[i*i for i in range(1,15) if i%2==0]"
   ]
  },
  {
   "cell_type": "code",
   "execution_count": null,
   "id": "96c591c5",
   "metadata": {},
   "outputs": [],
   "source": []
  }
 ],
 "metadata": {
  "kernelspec": {
   "display_name": "Python 3 (ipykernel)",
   "language": "python",
   "name": "python3"
  },
  "language_info": {
   "codemirror_mode": {
    "name": "ipython",
    "version": 3
   },
   "file_extension": ".py",
   "mimetype": "text/x-python",
   "name": "python",
   "nbconvert_exporter": "python",
   "pygments_lexer": "ipython3",
   "version": "3.8.10"
  },
  "toc": {
   "base_numbering": 1,
   "nav_menu": {},
   "number_sections": true,
   "sideBar": true,
   "skip_h1_title": false,
   "title_cell": "Table of Contents",
   "title_sidebar": "Contents",
   "toc_cell": false,
   "toc_position": {},
   "toc_section_display": true,
   "toc_window_display": false
  },
  "varInspector": {
   "cols": {
    "lenName": 16,
    "lenType": 16,
    "lenVar": 40
   },
   "kernels_config": {
    "python": {
     "delete_cmd_postfix": "",
     "delete_cmd_prefix": "del ",
     "library": "var_list.py",
     "varRefreshCmd": "print(var_dic_list())"
    },
    "r": {
     "delete_cmd_postfix": ") ",
     "delete_cmd_prefix": "rm(",
     "library": "var_list.r",
     "varRefreshCmd": "cat(var_dic_list()) "
    }
   },
   "types_to_exclude": [
    "module",
    "function",
    "builtin_function_or_method",
    "instance",
    "_Feature"
   ],
   "window_display": false
  }
 },
 "nbformat": 4,
 "nbformat_minor": 5
}
