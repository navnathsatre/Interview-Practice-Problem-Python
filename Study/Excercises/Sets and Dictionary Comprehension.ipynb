{
 "cells": [
  {
   "cell_type": "markdown",
   "id": "c3857481",
   "metadata": {},
   "source": [
    "# difference between get() and setdefault() in dictionary?"
   ]
  },
  {
   "cell_type": "markdown",
   "id": "ae315e37",
   "metadata": {},
   "source": [
    "The only difference is that setdefault() automatically adds any new key with a default value in the dictionary while get() does not"
   ]
  },
  {
   "cell_type": "markdown",
   "id": "f475f490",
   "metadata": {},
   "source": [
    "get(key[, default])<br>\n",
    "Return the value for key if key is in the dictionary, else default. If default is not given, it defaults to None, so that this method never raises a KeyError.\n",
    "#\n",
    "setdefault(key[, default])<br>\n",
    "If key is in the dictionary, return its value. If not, insert key with a value of default and return default. default defaults to None."
   ]
  },
  {
   "cell_type": "code",
   "execution_count": 2,
   "id": "c8f06430",
   "metadata": {},
   "outputs": [
    {
     "data": {
      "text/plain": [
       "'GOOD'"
      ]
     },
     "execution_count": 2,
     "metadata": {},
     "output_type": "execute_result"
    }
   ],
   "source": [
    "myDict = {'A': 'GOD', 'B':'Is', 'C':'GOOD'} #(1)\n",
    "myDict.setdefault('C')  #(2)"
   ]
  },
  {
   "cell_type": "code",
   "execution_count": 3,
   "id": "547ec637",
   "metadata": {},
   "outputs": [
    {
     "data": {
      "text/plain": [
       "'GOOD'"
      ]
     },
     "execution_count": 3,
     "metadata": {},
     "output_type": "execute_result"
    }
   ],
   "source": [
    "myDict.setdefault('C','GREAT')  #(3)"
   ]
  },
  {
   "cell_type": "code",
   "execution_count": 4,
   "id": "5a876c17",
   "metadata": {},
   "outputs": [
    {
     "data": {
      "text/plain": [
       "'AWESOME'"
      ]
     },
     "execution_count": 4,
     "metadata": {},
     "output_type": "execute_result"
    }
   ],
   "source": [
    "myDict.setdefault('D','AWESOME') #(4)"
   ]
  },
  {
   "cell_type": "code",
   "execution_count": 5,
   "id": "6d572a7d",
   "metadata": {},
   "outputs": [
    {
     "data": {
      "text/plain": [
       "{'A': 'GOD', 'B': 'Is', 'C': 'GOOD', 'D': 'AWESOME'}"
      ]
     },
     "execution_count": 5,
     "metadata": {},
     "output_type": "execute_result"
    }
   ],
   "source": [
    "myDict"
   ]
  },
  {
   "cell_type": "code",
   "execution_count": 6,
   "id": "547dfa85",
   "metadata": {},
   "outputs": [],
   "source": [
    "myDict.setdefault('E')"
   ]
  },
  {
   "cell_type": "code",
   "execution_count": 7,
   "id": "aa78badf",
   "metadata": {},
   "outputs": [
    {
     "data": {
      "text/plain": [
       "{'A': 'GOD', 'B': 'Is', 'C': 'GOOD', 'D': 'AWESOME', 'E': None}"
      ]
     },
     "execution_count": 7,
     "metadata": {},
     "output_type": "execute_result"
    }
   ],
   "source": [
    "myDict"
   ]
  },
  {
   "cell_type": "code",
   "execution_count": 8,
   "id": "71f1bfff",
   "metadata": {},
   "outputs": [
    {
     "data": {
      "text/plain": [
       "1"
      ]
     },
     "execution_count": 8,
     "metadata": {},
     "output_type": "execute_result"
    }
   ],
   "source": [
    "myDict = {'a': 1, 'b': 2, 'c': 3}   #(1)\n",
    "myDict.get('a',0)"
   ]
  },
  {
   "cell_type": "code",
   "execution_count": 9,
   "id": "add73edb",
   "metadata": {},
   "outputs": [
    {
     "data": {
      "text/plain": [
       "0"
      ]
     },
     "execution_count": 9,
     "metadata": {},
     "output_type": "execute_result"
    }
   ],
   "source": [
    "myDict.get('d',0)"
   ]
  },
  {
   "cell_type": "code",
   "execution_count": 10,
   "id": "97f76188",
   "metadata": {},
   "outputs": [
    {
     "data": {
      "text/plain": [
       "{'a': 1, 'b': 2, 'c': 3}"
      ]
     },
     "execution_count": 10,
     "metadata": {},
     "output_type": "execute_result"
    }
   ],
   "source": [
    "myDict"
   ]
  },
  {
   "cell_type": "markdown",
   "id": "4e9a3b59",
   "metadata": {},
   "source": [
    "# How to erase out all elements in a dictionary?"
   ]
  },
  {
   "cell_type": "markdown",
   "id": "1ca06ec5",
   "metadata": {},
   "source": [
    "Remove() and Dictionary. Clear() methods are used to remove elements of the collection. The Remove method removes elements matching with the key passed in the Remove method. The Clear method removes all elements from the dictionary"
   ]
  },
  {
   "cell_type": "code",
   "execution_count": 12,
   "id": "fe54e764",
   "metadata": {},
   "outputs": [
    {
     "data": {
      "text/plain": [
       "{'a': 1, 'b': 2, 'c': 3}"
      ]
     },
     "execution_count": 12,
     "metadata": {},
     "output_type": "execute_result"
    }
   ],
   "source": [
    "myDict"
   ]
  },
  {
   "cell_type": "code",
   "execution_count": 13,
   "id": "6279bcbc",
   "metadata": {},
   "outputs": [],
   "source": [
    "myDict.clear()"
   ]
  },
  {
   "cell_type": "code",
   "execution_count": 14,
   "id": "0dd78cb0",
   "metadata": {},
   "outputs": [
    {
     "data": {
      "text/plain": [
       "{}"
      ]
     },
     "execution_count": 14,
     "metadata": {},
     "output_type": "execute_result"
    }
   ],
   "source": [
    "myDict"
   ]
  },
  {
   "cell_type": "markdown",
   "id": "9355ec2d",
   "metadata": {},
   "source": [
    "# How to create a set? "
   ]
  },
  {
   "cell_type": "markdown",
   "id": "cd7c746e",
   "metadata": {},
   "source": [
    "A set is created by placing all the items (elements) inside curly braces {} , separated by comma, or by using the built-in set() function. It can have any number of items and they may be of different types (integer, float, tuple, string etc.)."
   ]
  },
  {
   "cell_type": "code",
   "execution_count": 15,
   "id": "9fedbd6a",
   "metadata": {},
   "outputs": [
    {
     "name": "stdout",
     "output_type": "stream",
     "text": [
      "<class 'set'>\n"
     ]
    }
   ],
   "source": [
    "myset1 = {1,2.3,None,True,(1,2,3)}\n",
    "print(type(myset1))"
   ]
  },
  {
   "cell_type": "code",
   "execution_count": 17,
   "id": "fd72a1b1",
   "metadata": {},
   "outputs": [
    {
     "name": "stdout",
     "output_type": "stream",
     "text": [
      "<class 'set'>\n"
     ]
    }
   ],
   "source": [
    "myset2 = set([10,20,30])\n",
    "print(type(myset2))"
   ]
  },
  {
   "cell_type": "markdown",
   "id": "b6ae52f4",
   "metadata": {},
   "source": [
    "# How do you find count of elements in a set?"
   ]
  },
  {
   "cell_type": "markdown",
   "id": "1f992c65",
   "metadata": {},
   "source": [
    "The most straightforward way to get the number of elements in a list is to use the Python built-in function len() . As the name function suggests, len() returns the length of the list, regardless of the types of elements in it."
   ]
  },
  {
   "cell_type": "code",
   "execution_count": 20,
   "id": "f194ced5",
   "metadata": {},
   "outputs": [],
   "source": [
    "set1 = {1,2,3,4,5,6,7}"
   ]
  },
  {
   "cell_type": "code",
   "execution_count": 21,
   "id": "f263b2a1",
   "metadata": {},
   "outputs": [
    {
     "name": "stdout",
     "output_type": "stream",
     "text": [
      "7\n"
     ]
    }
   ],
   "source": [
    "print(len(set1))"
   ]
  },
  {
   "cell_type": "markdown",
   "id": "272354a1",
   "metadata": {},
   "source": [
    "# Find the maximum and minimum values in a set?"
   ]
  },
  {
   "cell_type": "code",
   "execution_count": 25,
   "id": "6de47acf",
   "metadata": {},
   "outputs": [
    {
     "data": {
      "text/plain": [
       "{1, 3, 8, 10, 16, 24, 25, 55, 65}"
      ]
     },
     "execution_count": 25,
     "metadata": {},
     "output_type": "execute_result"
    }
   ],
   "source": [
    "myset = set([8, 16, 24, 1, 25, 3, 10, 65, 55])\n",
    "myset"
   ]
  },
  {
   "cell_type": "code",
   "execution_count": 26,
   "id": "94e0f15b",
   "metadata": {},
   "outputs": [
    {
     "data": {
      "text/plain": [
       "65"
      ]
     },
     "execution_count": 26,
     "metadata": {},
     "output_type": "execute_result"
    }
   ],
   "source": [
    "max(myset)"
   ]
  },
  {
   "cell_type": "code",
   "execution_count": 27,
   "id": "72df321d",
   "metadata": {},
   "outputs": [
    {
     "data": {
      "text/plain": [
       "1"
      ]
     },
     "execution_count": 27,
     "metadata": {},
     "output_type": "execute_result"
    }
   ],
   "source": [
    "min(myset)"
   ]
  },
  {
   "cell_type": "markdown",
   "id": "62102491",
   "metadata": {},
   "source": [
    "# Difference between remove() and discard(). Explain with an example set?"
   ]
  },
  {
   "cell_type": "markdown",
   "id": "c2f1ea02",
   "metadata": {},
   "source": [
    "The discard() method removes the specified item from the set. This method is different from the remove() method, because the **remove() method will raise an error** if the specified item does not exist, and the discard() method will not."
   ]
  },
  {
   "cell_type": "code",
   "execution_count": 29,
   "id": "82af579e",
   "metadata": {},
   "outputs": [
    {
     "data": {
      "text/plain": [
       "{1, 3, 8, 10, 16, 24, 25, 55, 65}"
      ]
     },
     "execution_count": 29,
     "metadata": {},
     "output_type": "execute_result"
    }
   ],
   "source": [
    "myset"
   ]
  },
  {
   "cell_type": "code",
   "execution_count": 30,
   "id": "79a23d3d",
   "metadata": {},
   "outputs": [],
   "source": [
    "myset.discard(2)"
   ]
  },
  {
   "cell_type": "code",
   "execution_count": 31,
   "id": "a783ab93",
   "metadata": {},
   "outputs": [
    {
     "data": {
      "text/plain": [
       "{1, 3, 8, 10, 16, 24, 25, 55, 65}"
      ]
     },
     "execution_count": 31,
     "metadata": {},
     "output_type": "execute_result"
    }
   ],
   "source": [
    "myset"
   ]
  },
  {
   "cell_type": "code",
   "execution_count": 32,
   "id": "45d04396",
   "metadata": {},
   "outputs": [
    {
     "ename": "KeyError",
     "evalue": "2",
     "output_type": "error",
     "traceback": [
      "\u001b[0;31m---------------------------------------------------------------------------\u001b[0m",
      "\u001b[0;31mKeyError\u001b[0m                                  Traceback (most recent call last)",
      "Input \u001b[0;32mIn [32]\u001b[0m, in \u001b[0;36m<cell line: 1>\u001b[0;34m()\u001b[0m\n\u001b[0;32m----> 1\u001b[0m \u001b[43mmyset\u001b[49m\u001b[38;5;241;43m.\u001b[39;49m\u001b[43mremove\u001b[49m\u001b[43m(\u001b[49m\u001b[38;5;241;43m2\u001b[39;49m\u001b[43m)\u001b[49m\n",
      "\u001b[0;31mKeyError\u001b[0m: 2"
     ]
    }
   ],
   "source": [
    "myset.remove(2) #error if ele not"
   ]
  },
  {
   "cell_type": "markdown",
   "id": "fb47c19c",
   "metadata": {},
   "source": [
    "# If I want to delete the first element of the set, how do you achieve it?"
   ]
  },
  {
   "cell_type": "markdown",
   "id": "21287808",
   "metadata": {},
   "source": [
    "The pop() is an inbuilt method in Python that is used to pop out or remove the elements one by one from the set. The element that is the smallest in the set is removed first followed by removing elements in increasing order."
   ]
  },
  {
   "cell_type": "code",
   "execution_count": 33,
   "id": "507c0de2",
   "metadata": {},
   "outputs": [
    {
     "data": {
      "text/plain": [
       "{1, 3, 8, 10, 16, 24, 25, 55, 65}"
      ]
     },
     "execution_count": 33,
     "metadata": {},
     "output_type": "execute_result"
    }
   ],
   "source": [
    "myset"
   ]
  },
  {
   "cell_type": "code",
   "execution_count": 38,
   "id": "11acbb87",
   "metadata": {},
   "outputs": [
    {
     "data": {
      "text/plain": [
       "1"
      ]
     },
     "execution_count": 38,
     "metadata": {},
     "output_type": "execute_result"
    }
   ],
   "source": [
    "myset.pop()"
   ]
  },
  {
   "cell_type": "code",
   "execution_count": 39,
   "id": "c08e205a",
   "metadata": {},
   "outputs": [
    {
     "data": {
      "text/plain": [
       "{3, 8, 10, 16, 24, 25, 55, 65}"
      ]
     },
     "execution_count": 39,
     "metadata": {},
     "output_type": "execute_result"
    }
   ],
   "source": [
    "myset"
   ]
  },
  {
   "cell_type": "markdown",
   "id": "e0c0d922",
   "metadata": {},
   "source": [
    "# How do you check all elements of a set (a = {1, 3, 5}) is present in another set (b = {1, 2, 3, 4, 5})"
   ]
  },
  {
   "cell_type": "markdown",
   "id": "609bf157",
   "metadata": {},
   "source": [
    "The issubset() method returns True if all elements of a set are present in another set (passed as an argument). If not, it returns False. Set A is said to be the subset of set B if all elements of A are in B . Here, set A is a subset of B "
   ]
  },
  {
   "cell_type": "code",
   "execution_count": 40,
   "id": "be298892",
   "metadata": {},
   "outputs": [
    {
     "data": {
      "text/plain": [
       "True"
      ]
     },
     "execution_count": 40,
     "metadata": {},
     "output_type": "execute_result"
    }
   ],
   "source": [
    "a = {1, 3, 5}\n",
    "b = {1, 2, 3, 4, 5}\n",
    "a.issubset(b)"
   ]
  },
  {
   "cell_type": "markdown",
   "id": "e1de58fc",
   "metadata": {},
   "source": [
    "# How to add a single element to a set? "
   ]
  },
  {
   "cell_type": "markdown",
   "id": "2a11ef56",
   "metadata": {},
   "source": [
    "The set add() method adds a given element to a set if the element is not present in the set. Syntax: set. add(elem) The add() method doesn't add an element to the set if it's already present in it otherwise it will get added to the set"
   ]
  },
  {
   "cell_type": "code",
   "execution_count": 41,
   "id": "27b73c0d",
   "metadata": {},
   "outputs": [
    {
     "data": {
      "text/plain": [
       "{3, 8, 10, 16, 24, 25, 55, 65}"
      ]
     },
     "execution_count": 41,
     "metadata": {},
     "output_type": "execute_result"
    }
   ],
   "source": [
    "myset"
   ]
  },
  {
   "cell_type": "code",
   "execution_count": 42,
   "id": "13b9b0d7",
   "metadata": {},
   "outputs": [],
   "source": [
    "myset.add(2)"
   ]
  },
  {
   "cell_type": "code",
   "execution_count": 43,
   "id": "409b6d99",
   "metadata": {},
   "outputs": [
    {
     "data": {
      "text/plain": [
       "{2, 3, 8, 10, 16, 24, 25, 55, 65}"
      ]
     },
     "execution_count": 43,
     "metadata": {},
     "output_type": "execute_result"
    }
   ],
   "source": [
    "myset"
   ]
  },
  {
   "cell_type": "markdown",
   "id": "dc4f394e",
   "metadata": {},
   "source": [
    "# How to include multiple elements in a single go to a set?"
   ]
  },
  {
   "cell_type": "code",
   "execution_count": 44,
   "id": "e2f00768",
   "metadata": {},
   "outputs": [
    {
     "data": {
      "text/plain": [
       "{2, 3, 8, 10, 16, 24, 25, 55, 65}"
      ]
     },
     "execution_count": 44,
     "metadata": {},
     "output_type": "execute_result"
    }
   ],
   "source": [
    "myset"
   ]
  },
  {
   "cell_type": "code",
   "execution_count": 45,
   "id": "ab899097",
   "metadata": {},
   "outputs": [],
   "source": [
    "myset.update([1.1,1.2,1.3])"
   ]
  },
  {
   "cell_type": "code",
   "execution_count": 46,
   "id": "383b6153",
   "metadata": {},
   "outputs": [
    {
     "data": {
      "text/plain": [
       "{1.1, 1.2, 1.3, 2, 3, 8, 10, 16, 24, 25, 55, 65}"
      ]
     },
     "execution_count": 46,
     "metadata": {},
     "output_type": "execute_result"
    }
   ],
   "source": [
    "myset"
   ]
  },
  {
   "cell_type": "markdown",
   "id": "fb7688b1",
   "metadata": {},
   "source": [
    "#  By using dictionary comprehension, create a dictionary for even only numbers (for a range (1,51) with 'number' as key and also 'number' as value?"
   ]
  },
  {
   "cell_type": "code",
   "execution_count": 54,
   "id": "a7111312",
   "metadata": {},
   "outputs": [
    {
     "name": "stdout",
     "output_type": "stream",
     "text": [
      "{1: 2, 3: 4, 5: 6, 7: 8, 9: 10, 11: 12, 13: 14, 15: 16, 17: 18, 19: 20, 21: 22, 23: 24, 25: 26, 27: 28, 29: 30, 31: 32, 33: 34, 35: 36, 37: 38, 39: 40, 41: 42, 43: 44, 45: 46, 47: 48, 49: 50} "
     ]
    }
   ],
   "source": [
    "print({k:v for k, v in enumerate(range(1,51)) if v%2==0},end=' ')"
   ]
  },
  {
   "cell_type": "code",
   "execution_count": 55,
   "id": "6ab70b89",
   "metadata": {},
   "outputs": [
    {
     "name": "stdout",
     "output_type": "stream",
     "text": [
      "{1: 2, 2: 4, 3: 6, 4: 8, 5: 10, 6: 12, 7: 14, 8: 16, 9: 18, 10: 20, 11: 22, 12: 24, 13: 26, 14: 28, 15: 30, 16: 32, 17: 34, 18: 36, 19: 38, 20: 40, 21: 42, 22: 44, 23: 46, 24: 48, 25: 50, 26: 52, 27: 54, 28: 56, 29: 58, 30: 60, 31: 62, 32: 64, 33: 66, 34: 68, 35: 70, 36: 72, 37: 74, 38: 76, 39: 78, 40: 80, 41: 82, 42: 84, 43: 86, 44: 88, 45: 90, 46: 92, 47: 94, 48: 96, 49: 98, 50: 100} "
     ]
    }
   ],
   "source": [
    "print({x: 2*x for x in range(1, 51)}, end=' ')"
   ]
  },
  {
   "cell_type": "markdown",
   "id": "498eff00",
   "metadata": {},
   "source": [
    "# Create a script to create a union of sets?"
   ]
  },
  {
   "cell_type": "code",
   "execution_count": 57,
   "id": "3ffae7cc",
   "metadata": {},
   "outputs": [],
   "source": [
    "set1 = {1,2,3,4,5,6}\n",
    "set2 = {3,4,5,6,7,8}\n",
    "def union_of_set(set1,set2):\n",
    "    union = set1.union(set2)\n",
    "    return union"
   ]
  },
  {
   "cell_type": "code",
   "execution_count": 58,
   "id": "728c210a",
   "metadata": {},
   "outputs": [
    {
     "data": {
      "text/plain": [
       "{1, 2, 3, 4, 5, 6, 7, 8}"
      ]
     },
     "execution_count": 58,
     "metadata": {},
     "output_type": "execute_result"
    }
   ],
   "source": [
    "union_of_set(set1,set2)"
   ]
  },
  {
   "cell_type": "markdown",
   "id": "6d092410",
   "metadata": {},
   "source": [
    "# How do you iterate over a set with enumerate()?"
   ]
  },
  {
   "cell_type": "code",
   "execution_count": 61,
   "id": "df9a8de5",
   "metadata": {},
   "outputs": [
    {
     "data": {
      "text/plain": [
       "{'A', 'H', 'N', 'T', 'V'}"
      ]
     },
     "execution_count": 61,
     "metadata": {},
     "output_type": "execute_result"
    }
   ],
   "source": [
    "set_ = set(\"NAVNATH\")\n",
    "set_"
   ]
  },
  {
   "cell_type": "code",
   "execution_count": 63,
   "id": "33b0aea6",
   "metadata": {},
   "outputs": [
    {
     "name": "stdout",
     "output_type": "stream",
     "text": [
      "1 H\n",
      "2 V\n",
      "3 T\n",
      "4 A\n",
      "5 N\n"
     ]
    }
   ],
   "source": [
    "for id, value in enumerate(set_, start=1):\n",
    "    print(id, value)"
   ]
  },
  {
   "cell_type": "markdown",
   "id": "7a4e9c0a",
   "metadata": {},
   "source": [
    "# How to clear a set?"
   ]
  },
  {
   "cell_type": "markdown",
   "id": "1df5edd0",
   "metadata": {},
   "source": [
    "Set. clear() method is used to remove all the elements from a Set. Using the clear() method only clears all the element from the set and not deletes the set. In other words, we can say that the clear() method is used to only empty an existing Set."
   ]
  },
  {
   "cell_type": "code",
   "execution_count": 64,
   "id": "97025ef4",
   "metadata": {},
   "outputs": [
    {
     "data": {
      "text/plain": [
       "{1.1, 1.2, 1.3, 2, 3, 8, 10, 16, 24, 25, 55, 65}"
      ]
     },
     "execution_count": 64,
     "metadata": {},
     "output_type": "execute_result"
    }
   ],
   "source": [
    "myset"
   ]
  },
  {
   "cell_type": "code",
   "execution_count": 65,
   "id": "e04a03cc",
   "metadata": {},
   "outputs": [],
   "source": [
    "myset.clear()"
   ]
  },
  {
   "cell_type": "code",
   "execution_count": 66,
   "id": "617a06c6",
   "metadata": {},
   "outputs": [
    {
     "data": {
      "text/plain": [
       "set()"
      ]
     },
     "execution_count": 66,
     "metadata": {},
     "output_type": "execute_result"
    }
   ],
   "source": [
    "myset"
   ]
  },
  {
   "cell_type": "markdown",
   "id": "45770580",
   "metadata": {},
   "source": [
    "# Write a program to check if a given value is present in a set or not?"
   ]
  },
  {
   "cell_type": "code",
   "execution_count": 72,
   "id": "9bd416c8",
   "metadata": {},
   "outputs": [
    {
     "name": "stdout",
     "output_type": "stream",
     "text": [
      "Which value you want to check: 5\n",
      "Not in set\n"
     ]
    }
   ],
   "source": [
    "myset = {1.1, 1.2, 1.3, 2, 3, 8, 10, 16, 24, 25, 55, 65}\n",
    "value = float(input(\"Which value you want to check: \"))\n",
    "def check_value_in_set(value):\n",
    "    if value in myset:\n",
    "        print(\"Yes {} in set\".format(value))\n",
    "    else:\n",
    "        print(\"Not in set\")\n",
    "check_value_in_set(value)\n"
   ]
  },
  {
   "cell_type": "code",
   "execution_count": null,
   "id": "fd465b19",
   "metadata": {},
   "outputs": [],
   "source": []
  }
 ],
 "metadata": {
  "kernelspec": {
   "display_name": "Python 3 (ipykernel)",
   "language": "python",
   "name": "python3"
  },
  "language_info": {
   "codemirror_mode": {
    "name": "ipython",
    "version": 3
   },
   "file_extension": ".py",
   "mimetype": "text/x-python",
   "name": "python",
   "nbconvert_exporter": "python",
   "pygments_lexer": "ipython3",
   "version": "3.8.10"
  },
  "toc": {
   "base_numbering": 1,
   "nav_menu": {},
   "number_sections": true,
   "sideBar": true,
   "skip_h1_title": false,
   "title_cell": "Table of Contents",
   "title_sidebar": "Contents",
   "toc_cell": false,
   "toc_position": {},
   "toc_section_display": true,
   "toc_window_display": false
  },
  "varInspector": {
   "cols": {
    "lenName": 16,
    "lenType": 16,
    "lenVar": 40
   },
   "kernels_config": {
    "python": {
     "delete_cmd_postfix": "",
     "delete_cmd_prefix": "del ",
     "library": "var_list.py",
     "varRefreshCmd": "print(var_dic_list())"
    },
    "r": {
     "delete_cmd_postfix": ") ",
     "delete_cmd_prefix": "rm(",
     "library": "var_list.r",
     "varRefreshCmd": "cat(var_dic_list()) "
    }
   },
   "types_to_exclude": [
    "module",
    "function",
    "builtin_function_or_method",
    "instance",
    "_Feature"
   ],
   "window_display": false
  }
 },
 "nbformat": 4,
 "nbformat_minor": 5
}
