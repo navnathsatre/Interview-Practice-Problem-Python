{
 "cells": [
  {
   "cell_type": "markdown",
   "id": "56838c1b",
   "metadata": {},
   "source": [
    "# Functions"
   ]
  },
  {
   "cell_type": "code",
   "execution_count": null,
   "id": "e87dbf3a",
   "metadata": {},
   "outputs": [],
   "source": [
    "# 1. Modularity\n",
    "# 2. Readability\n",
    "# 3. Redundancy\n"
   ]
  },
  {
   "cell_type": "code",
   "execution_count": 1,
   "id": "8503dae3",
   "metadata": {},
   "outputs": [],
   "source": [
    "def add_nums(x,y):\n",
    "    res = x + y\n",
    "    return res"
   ]
  },
  {
   "cell_type": "code",
   "execution_count": 2,
   "id": "62c1f8f6",
   "metadata": {},
   "outputs": [
    {
     "data": {
      "text/plain": [
       "40"
      ]
     },
     "execution_count": 2,
     "metadata": {},
     "output_type": "execute_result"
    }
   ],
   "source": [
    "add_nums(10,30)"
   ]
  },
  {
   "cell_type": "code",
   "execution_count": 8,
   "id": "1490ab6d",
   "metadata": {},
   "outputs": [],
   "source": [
    "def add_nums(x,y=0):  # default value\n",
    "    res = x+y\n",
    "    return res"
   ]
  },
  {
   "cell_type": "code",
   "execution_count": 9,
   "id": "215c493c",
   "metadata": {},
   "outputs": [
    {
     "data": {
      "text/plain": [
       "14"
      ]
     },
     "execution_count": 9,
     "metadata": {},
     "output_type": "execute_result"
    }
   ],
   "source": [
    "add_nums(5,9)"
   ]
  },
  {
   "cell_type": "code",
   "execution_count": 10,
   "id": "deb5ba10",
   "metadata": {},
   "outputs": [
    {
     "data": {
      "text/plain": [
       "5"
      ]
     },
     "execution_count": 10,
     "metadata": {},
     "output_type": "execute_result"
    }
   ],
   "source": [
    "add_nums(5)"
   ]
  },
  {
   "cell_type": "code",
   "execution_count": 14,
   "id": "db91041e",
   "metadata": {},
   "outputs": [],
   "source": [
    "def add_nums(x,y,*z):\n",
    "    print(\"type of x:{} and value is: {}\".format(type(x),x))\n",
    "    print(\"type of y:{} and value is: {}\".format(type(y),y))\n",
    "    print(\"type of z:{} and value is: {}\".format(type(z),z))"
   ]
  },
  {
   "cell_type": "code",
   "execution_count": 15,
   "id": "e9453470",
   "metadata": {},
   "outputs": [
    {
     "name": "stdout",
     "output_type": "stream",
     "text": [
      "type of x:<class 'int'> and value is: 10\n",
      "type of y:<class 'int'> and value is: 20\n",
      "type of z:<class 'tuple'> and value is: (30, 40, 50)\n"
     ]
    }
   ],
   "source": [
    "add_nums(10,20,30,40,50)"
   ]
  },
  {
   "cell_type": "code",
   "execution_count": 16,
   "id": "111c2ca3",
   "metadata": {},
   "outputs": [],
   "source": [
    "def add_nums(x,y,*z):\n",
    "    res = x+y+sum(z)\n",
    "    return res"
   ]
  },
  {
   "cell_type": "code",
   "execution_count": 17,
   "id": "28d6a250",
   "metadata": {},
   "outputs": [
    {
     "data": {
      "text/plain": [
       "210"
      ]
     },
     "execution_count": 17,
     "metadata": {},
     "output_type": "execute_result"
    }
   ],
   "source": [
    "add_nums(10,20,30,40,50,60)"
   ]
  },
  {
   "cell_type": "code",
   "execution_count": 18,
   "id": "2be17335",
   "metadata": {},
   "outputs": [
    {
     "data": {
      "text/plain": [
       "60"
      ]
     },
     "execution_count": 18,
     "metadata": {},
     "output_type": "execute_result"
    }
   ],
   "source": [
    "add_nums(10,20,30)"
   ]
  },
  {
   "cell_type": "code",
   "execution_count": 19,
   "id": "1de2927d",
   "metadata": {},
   "outputs": [
    {
     "data": {
      "text/plain": [
       "30"
      ]
     },
     "execution_count": 19,
     "metadata": {},
     "output_type": "execute_result"
    }
   ],
   "source": [
    "add_nums(10,20)"
   ]
  },
  {
   "cell_type": "code",
   "execution_count": 23,
   "id": "a9fe542a",
   "metadata": {},
   "outputs": [],
   "source": [
    "def add_nums(x,y=0,*z):\n",
    "    res = x+y+sum(z)\n",
    "    return res"
   ]
  },
  {
   "cell_type": "code",
   "execution_count": 24,
   "id": "a1831a2d",
   "metadata": {},
   "outputs": [
    {
     "data": {
      "text/plain": [
       "10"
      ]
     },
     "execution_count": 24,
     "metadata": {},
     "output_type": "execute_result"
    }
   ],
   "source": [
    "add_nums(10)"
   ]
  },
  {
   "cell_type": "code",
   "execution_count": 30,
   "id": "4b62e627",
   "metadata": {},
   "outputs": [],
   "source": [
    "def add_nums(x,y):\n",
    "    '''add_nums function take 2 numbers an input and perform sum of them'''\n",
    "    res = x+y\n",
    "    return res"
   ]
  },
  {
   "cell_type": "code",
   "execution_count": 31,
   "id": "d05a96a2",
   "metadata": {},
   "outputs": [
    {
     "data": {
      "text/plain": [
       "'add_nums function take 2 numbers an input and perform sum of them'"
      ]
     },
     "execution_count": 31,
     "metadata": {},
     "output_type": "execute_result"
    }
   ],
   "source": [
    "add_nums.__doc__"
   ]
  },
  {
   "cell_type": "code",
   "execution_count": 32,
   "id": "c42d9ef6",
   "metadata": {},
   "outputs": [
    {
     "data": {
      "text/plain": [
       "6"
      ]
     },
     "execution_count": 32,
     "metadata": {},
     "output_type": "execute_result"
    }
   ],
   "source": [
    "add_nums(2,4)"
   ]
  },
  {
   "cell_type": "code",
   "execution_count": 44,
   "id": "fc400ecd",
   "metadata": {},
   "outputs": [],
   "source": [
    "def myfunc(x,y=0,*z,**k):  # arg and kwarg\n",
    "    print(\"x:{},  y:{},  z:{},  k:{}\".format(x,y,z,k))"
   ]
  },
  {
   "cell_type": "code",
   "execution_count": 45,
   "id": "f05b7c8a",
   "metadata": {},
   "outputs": [
    {
     "name": "stdout",
     "output_type": "stream",
     "text": [
      "x:10,  y:20,  z:(30, 40, 50),  k:{'name': 'Navnath Satre', 'city': 'Pune', 'tech': 'python'}\n"
     ]
    }
   ],
   "source": [
    "myfunc(10,20,30,40,50,name='Navnath Satre',city='Pune',tech='python')"
   ]
  },
  {
   "cell_type": "code",
   "execution_count": 46,
   "id": "63bf57cd",
   "metadata": {},
   "outputs": [],
   "source": [
    "def course_info(**x):\n",
    "    for k in x.keys():\n",
    "        print(k + \" ==> \" + str(x[k]))"
   ]
  },
  {
   "cell_type": "code",
   "execution_count": 47,
   "id": "b6b51712",
   "metadata": {},
   "outputs": [
    {
     "name": "stdout",
     "output_type": "stream",
     "text": [
      "mode ==> Online\n",
      "tech ==> Python\n",
      "duration ==> 90 days\n",
      "current_topic ==> Functions\n"
     ]
    }
   ],
   "source": [
    "course_info(mode='Online',tech='Python',duration='90 days', current_topic='Functions')"
   ]
  },
  {
   "cell_type": "code",
   "execution_count": null,
   "id": "93c21c75",
   "metadata": {},
   "outputs": [],
   "source": [
    "# why do we need to go for a function\n",
    "# how to vreate a function\n",
    "# different parameters used in function: mandatory, optional, *args, **kwargs\n",
    "#function may or may not have a return statement\n",
    "#documentory strung"
   ]
  },
  {
   "cell_type": "code",
   "execution_count": null,
   "id": "ff9b568f",
   "metadata": {},
   "outputs": [],
   "source": [
    "# SCOPE of the Variable in Fuction(Local, global)"
   ]
  },
  {
   "cell_type": "code",
   "execution_count": 6,
   "id": "c29c21d3",
   "metadata": {},
   "outputs": [
    {
     "name": "stdout",
     "output_type": "stream",
     "text": [
      "Session From:  Hyderabad\n"
     ]
    }
   ],
   "source": [
    "city = 'Hyderabad' # global variable\n",
    "def scope_ex(): \n",
    "    city = \"Pune\"  # local variable\n",
    "    print(\"Hometown: \",city)\n",
    "print(\"Session From: \", city)"
   ]
  },
  {
   "cell_type": "code",
   "execution_count": 7,
   "id": "792159f8",
   "metadata": {},
   "outputs": [
    {
     "name": "stdout",
     "output_type": "stream",
     "text": [
      "Hometown:  Pune\n"
     ]
    }
   ],
   "source": [
    "scope_ex()"
   ]
  },
  {
   "cell_type": "code",
   "execution_count": 8,
   "id": "a21f8761",
   "metadata": {},
   "outputs": [
    {
     "name": "stdout",
     "output_type": "stream",
     "text": [
      "Age before the function call:  37\n",
      "Age inside the function:  100\n",
      "Age after the function call:  37\n"
     ]
    }
   ],
   "source": [
    "age = 37\n",
    "def callme():\n",
    "    age = 100\n",
    "    print(\"Age inside the function: \", age)\n",
    "    \n",
    "print(\"Age before the function call: \",age)\n",
    "callme()\n",
    "print(\"Age after the function call: \",age)"
   ]
  },
  {
   "cell_type": "code",
   "execution_count": 9,
   "id": "e603500c",
   "metadata": {},
   "outputs": [
    {
     "name": "stdout",
     "output_type": "stream",
     "text": [
      "Age before the function call:  37\n",
      "Age inside the function:  100\n",
      "Age after the function call:  100\n"
     ]
    }
   ],
   "source": [
    "age = 37\n",
    "def callme():\n",
    "    global age\n",
    "    age = 100\n",
    "    print(\"Age inside the function: \", age)\n",
    "    \n",
    "print(\"Age before the function call: \",age)\n",
    "callme()\n",
    "print(\"Age after the function call: \",age)"
   ]
  },
  {
   "cell_type": "code",
   "execution_count": null,
   "id": "80027e40",
   "metadata": {},
   "outputs": [],
   "source": []
  }
 ],
 "metadata": {
  "kernelspec": {
   "display_name": "Python 3 (ipykernel)",
   "language": "python",
   "name": "python3"
  },
  "language_info": {
   "codemirror_mode": {
    "name": "ipython",
    "version": 3
   },
   "file_extension": ".py",
   "mimetype": "text/x-python",
   "name": "python",
   "nbconvert_exporter": "python",
   "pygments_lexer": "ipython3",
   "version": "3.8.10"
  },
  "toc": {
   "base_numbering": 1,
   "nav_menu": {},
   "number_sections": true,
   "sideBar": true,
   "skip_h1_title": false,
   "title_cell": "Table of Contents",
   "title_sidebar": "Contents",
   "toc_cell": false,
   "toc_position": {},
   "toc_section_display": true,
   "toc_window_display": false
  },
  "varInspector": {
   "cols": {
    "lenName": 16,
    "lenType": 16,
    "lenVar": 40
   },
   "kernels_config": {
    "python": {
     "delete_cmd_postfix": "",
     "delete_cmd_prefix": "del ",
     "library": "var_list.py",
     "varRefreshCmd": "print(var_dic_list())"
    },
    "r": {
     "delete_cmd_postfix": ") ",
     "delete_cmd_prefix": "rm(",
     "library": "var_list.r",
     "varRefreshCmd": "cat(var_dic_list()) "
    }
   },
   "types_to_exclude": [
    "module",
    "function",
    "builtin_function_or_method",
    "instance",
    "_Feature"
   ],
   "window_display": false
  }
 },
 "nbformat": 4,
 "nbformat_minor": 5
}
