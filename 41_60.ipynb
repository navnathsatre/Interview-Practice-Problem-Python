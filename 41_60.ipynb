{
 "cells": [
  {
   "cell_type": "markdown",
   "id": "b61da001",
   "metadata": {},
   "source": [
    "## 41. Write a program to print the following pattern"
   ]
  },
  {
   "cell_type": "code",
   "execution_count": null,
   "id": "ea2f5082",
   "metadata": {},
   "outputs": [],
   "source": [
    "                    '''\n",
    "  * * * * * * * * * \n",
    "    * * * * * * * \n",
    "      * * * * * \n",
    "        * * * \n",
    "          * \n",
    "                      '''"
   ]
  },
  {
   "cell_type": "code",
   "execution_count": 142,
   "id": "abcdcb3d",
   "metadata": {},
   "outputs": [
    {
     "name": "stdout",
     "output_type": "stream",
     "text": [
      "  * * * * * * * * * \n",
      "    * * * * * * * \n",
      "      * * * * * \n",
      "        * * * \n",
      "          * \n"
     ]
    }
   ],
   "source": [
    "row = 5\n",
    "for i in range(row):\n",
    "    for j in range(i+1):\n",
    "        print(\" \", end=' ')\n",
    "    for k in range(i,row):\n",
    "        print(\"*\",end=' ')\n",
    "    for l in range(i,row-1):\n",
    "        print(\"*\",end=' ')\n",
    "    print()"
   ]
  },
  {
   "cell_type": "code",
   "execution_count": null,
   "id": "6770a602",
   "metadata": {},
   "outputs": [],
   "source": [
    "                    '''\n",
    "          * \n",
    "        * * * \n",
    "      * * * * * \n",
    "    * * * * * * * \n",
    "  * * * * * * * * * \n",
    "    * * * * * * * \n",
    "      * * * * * \n",
    "        * * * \n",
    "          * \n",
    "                      '''"
   ]
  },
  {
   "cell_type": "code",
   "execution_count": 154,
   "id": "332318dc",
   "metadata": {},
   "outputs": [
    {
     "name": "stdout",
     "output_type": "stream",
     "text": [
      "          * \n",
      "        * * * \n",
      "      * * * * * \n",
      "    * * * * * * * \n",
      "  * * * * * * * * * \n",
      "    * * * * * * * \n",
      "      * * * * * \n",
      "        * * * \n",
      "          * \n"
     ]
    }
   ],
   "source": [
    "row = 5\n",
    "for i in range(row-1):\n",
    "    for j in range(i,row):\n",
    "        print(\" \",end=' ')\n",
    "    for k in range(i+1):\n",
    "        print(\"*\",end=' ')\n",
    "    for l in range(i):\n",
    "        print(\"*\",end=' ')\n",
    "    print()\n",
    "for i in range(row):\n",
    "    for j in range(i+1):\n",
    "        print(\" \",end=' ')\n",
    "    for k in range(i,row):\n",
    "        print(\"*\",end=' ')\n",
    "    for j in range(i,row-1):\n",
    "        print(\"*\",end=' ')\n",
    "    print()"
   ]
  },
  {
   "cell_type": "code",
   "execution_count": null,
   "id": "7be14aed",
   "metadata": {},
   "outputs": [],
   "source": [
    "            '''\n",
    "* \n",
    "* * \n",
    "* * * \n",
    "* * * * \n",
    "* * * * * \n",
    "* * * * \n",
    "* * * \n",
    "* * \n",
    "* \n",
    "            '''"
   ]
  },
  {
   "cell_type": "code",
   "execution_count": 161,
   "id": "05525930",
   "metadata": {},
   "outputs": [
    {
     "name": "stdout",
     "output_type": "stream",
     "text": [
      "* \n",
      "* * \n",
      "* * * \n",
      "* * * * \n",
      "* * * * * \n",
      "* * * * \n",
      "* * * \n",
      "* * \n",
      "* \n",
      "\n"
     ]
    }
   ],
   "source": [
    "row = 5\n",
    "for i in range(row):\n",
    "    for j in range(i+1):\n",
    "        print(\"*\",end=' ')\n",
    "    print()\n",
    "for i in range(row):\n",
    "    for j in range(i,row-1):\n",
    "        print(\"*\",end=' ')\n",
    "    print()"
   ]
  },
  {
   "cell_type": "markdown",
   "id": "61fa5827",
   "metadata": {},
   "source": [
    "## 42. Write a program to print the following pattern"
   ]
  },
  {
   "cell_type": "code",
   "execution_count": null,
   "id": "d49580d7",
   "metadata": {},
   "outputs": [],
   "source": [
    "                    '''\n",
    "1\n",
    "1 2 1\n",
    "1 2 3 2 1\n",
    "1 2 3 4 3 2 1\n",
    "1 2 3 4 5 4 3 2 1\n",
    "                    '''"
   ]
  },
  {
   "cell_type": "code",
   "execution_count": 240,
   "id": "f1a83e9c",
   "metadata": {},
   "outputs": [
    {
     "name": "stdout",
     "output_type": "stream",
     "text": [
      "1 \n",
      "1 2 1 \n",
      "1 2 3 2 1 \n",
      "1 2 3 4 3 2 1 \n",
      "1 2 3 4 5 4 3 2 1 \n"
     ]
    }
   ],
   "source": [
    "row = 5\n",
    "for i in range(row):\n",
    "    for j in range(i+1):\n",
    "        print(j+1,end=' ')\n",
    "    for k in range(j,0,-1):\n",
    "        print(k,end=' ')\n",
    "    print()"
   ]
  },
  {
   "cell_type": "markdown",
   "id": "104da915",
   "metadata": {},
   "source": [
    "## 43. Write a program to print the following pattern"
   ]
  },
  {
   "cell_type": "code",
   "execution_count": null,
   "id": "834cfbbe",
   "metadata": {},
   "outputs": [],
   "source": [
    "            '''\n",
    "1\n",
    "2 3\n",
    "4 5 6\n",
    "7 8 9 10\n",
    "            '''"
   ]
  },
  {
   "cell_type": "code",
   "execution_count": 263,
   "id": "68060c83",
   "metadata": {},
   "outputs": [
    {
     "name": "stdout",
     "output_type": "stream",
     "text": [
      "1 \n",
      "2 3 \n",
      "4 5 6 \n",
      "7 8 9 10 \n"
     ]
    }
   ],
   "source": [
    "row = 4\n",
    "num = 1\n",
    "for i in range(row):\n",
    "    for j in range(0,i+1):\n",
    "        print(num,end=' ')\n",
    "        num += 1\n",
    "    print()"
   ]
  },
  {
   "cell_type": "markdown",
   "id": "70ebd4f4",
   "metadata": {},
   "source": [
    "## 44. Write a program to calculate the sum of the following series till the nth term 1/1! + 2/2! + 3/3! + 4/4! +…….+ n/n! here n will be provided by the user"
   ]
  },
  {
   "cell_type": "code",
   "execution_count": 278,
   "id": "a4087f67",
   "metadata": {},
   "outputs": [
    {
     "name": "stdout",
     "output_type": "stream",
     "text": [
      "Enter the value of n: 5\n",
      "Your result is:  2.71\n"
     ]
    }
   ],
   "source": [
    "n = int(input(\"Enter the value of n: \"))\n",
    "fact = 1\n",
    "result = 0\n",
    "for i in range(1,n+1):\n",
    "    fact = fact * i\n",
    "    result = result + (i/fact)\n",
    "print(\"Your result is: \",round(result,2))"
   ]
  },
  {
   "cell_type": "markdown",
   "id": "d7be2fae",
   "metadata": {},
   "source": [
    "## 45. Write a Python Program to Find the Sum of the Series till the nth term:  1 + x^2/2 + x^3/3 + … x^n/n here n will be provided by the user"
   ]
  },
  {
   "cell_type": "code",
   "execution_count": 282,
   "id": "ebf37762",
   "metadata": {},
   "outputs": [
    {
     "name": "stdout",
     "output_type": "stream",
     "text": [
      "Enter the value for n: 5\n",
      "Enter the value for x: 4\n",
      "Your result is:  299.13\n"
     ]
    }
   ],
   "source": [
    "n = int(input(\"Enter the value for n: \"))\n",
    "x = int(input(\"Enter the value for x: \"))\n",
    "result = 1\n",
    "for i in range(2,n+1):\n",
    "    result = result + (x**i)/i\n",
    "print(\"Your result is: \",round(result,2))"
   ]
  },
  {
   "cell_type": "markdown",
   "id": "6bc261d3",
   "metadata": {},
   "source": [
    "## 46. The natural logarithm can be approximated by the following series.\n",
    "If x is input through the keyboard, write a program to calculate the sum of the first seven terms of this series."
   ]
  },
  {
   "cell_type": "markdown",
   "id": "1025be3c",
   "metadata": {},
   "source": [
    "(x-1/x)**1 + 1/2(x-1/x)**2 + 1/2(x-1/x)**2 + ... + 1/2(x-1/x)**7"
   ]
  },
  {
   "cell_type": "code",
   "execution_count": 290,
   "id": "a21d92da",
   "metadata": {},
   "outputs": [
    {
     "name": "stdout",
     "output_type": "stream",
     "text": [
      "Enter the value for x: 4\n",
      "7111.485443115234\n"
     ]
    }
   ],
   "source": [
    "x = int(input(\"Enter the value for x: \"))\n",
    "s = (x-1/x)\n",
    "for i in range(2,8):\n",
    "    s = s + (1/2*(x-1/x)**i)\n",
    "print(s)"
   ]
  },
  {
   "cell_type": "markdown",
   "id": "dfb92a89",
   "metadata": {},
   "source": [
    "## 47. Write a program that keeps on accepting a number from the user until the user enters Zero. Display the sum and average of all the numbers."
   ]
  },
  {
   "cell_type": "code",
   "execution_count": 295,
   "id": "47e7a433",
   "metadata": {},
   "outputs": [
    {
     "name": "stdout",
     "output_type": "stream",
     "text": [
      "Enter the Number: 1\n",
      "Enter Anather number: 2\n",
      "Enter Anather number: 3\n",
      "Enter Anather number: 4\n",
      "Enter Anather number: 5\n",
      "Enter Anather number: 6\n",
      "Enter Anather number: 7\n",
      "Enter Anather number: 8\n",
      "Enter Anather number: 9\n",
      "Enter Anather number: 0\n",
      "Thanks\n",
      "Sum is  45\n",
      "Average is:  5.0\n"
     ]
    }
   ],
   "source": [
    "num = int(input(\"Enter the Number: \"))\n",
    "add = 0\n",
    "avg = 0\n",
    "count = 0\n",
    "while True:\n",
    "    if num != 0:\n",
    "        add = add + num\n",
    "        count = count + 1\n",
    "        avg = add/count\n",
    "        num = int(input(\"Enter Anather number: \"))\n",
    "    else:\n",
    "        print(\"Thanks\")\n",
    "        break\n",
    "print(\"Sum is \", add)\n",
    "print(\"Average is: \", avg)"
   ]
  },
  {
   "cell_type": "markdown",
   "id": "9b5b86b2",
   "metadata": {},
   "source": [
    "## 48. Write a program that accepts 2 numbers from the user a numerator and a denominator and then simplifies it\n",
    "Eg if the num = 5, den = 15 the answer should be ⅓\n",
    "Eg if the num = 6, den = 9 the answer should be ⅔\n"
   ]
  },
  {
   "cell_type": "code",
   "execution_count": 305,
   "id": "788e5cda",
   "metadata": {},
   "outputs": [
    {
     "name": "stdout",
     "output_type": "stream",
     "text": [
      "Enter the value for Numerator: 6\n",
      "Enter the value for Denominator: 9\n",
      "Final result is:  2 / 3\n"
     ]
    }
   ],
   "source": [
    "num = int(input(\"Enter the value for Numerator: \"))\n",
    "den = int(input(\"Enter the value for Denominator: \"))\n",
    "def calculate_hcf(x,y):\n",
    "    if x > y:\n",
    "        smaller = y\n",
    "    else:\n",
    "        smaller = x\n",
    "    for i in range(1, smaller+1):\n",
    "        if ((x % i == 0) and (y % i == 0)):\n",
    "            hcf = i\n",
    "    return hcf\n",
    "\n",
    "a = num/calculate_hcf(num,den)\n",
    "b = den/calculate_hcf(num,den)\n",
    "print(\"Final result is: \",int(a),'/',int(b))"
   ]
  },
  {
   "cell_type": "markdown",
   "id": "955735da",
   "metadata": {},
   "source": [
    "## 49. Find the length of a given string without using the len() function."
   ]
  },
  {
   "cell_type": "code",
   "execution_count": 312,
   "id": "9dcc43e0",
   "metadata": {},
   "outputs": [
    {
     "name": "stdout",
     "output_type": "stream",
     "text": [
      "Enter any string: satre navnath\n",
      "Length of your string is:  13\n"
     ]
    }
   ],
   "source": [
    "string = str(input(\"Enter any string: \"))\n",
    "count = 0\n",
    "for i in string:\n",
    "    count = count + 1\n",
    "print(\"Length of your string is: \",count)"
   ]
  },
  {
   "cell_type": "markdown",
   "id": "5b19fcd4",
   "metadata": {},
   "source": [
    "## 50. Extract username from a given email. \n",
    "Eg if the email is nitish24singh@gmail.com then the username should be nitish24singh"
   ]
  },
  {
   "cell_type": "code",
   "execution_count": 317,
   "id": "0ca2607b",
   "metadata": {},
   "outputs": [
    {
     "name": "stdout",
     "output_type": "stream",
     "text": [
      "Enter your Email ID: nitish24singh@gmail.com\n",
      "['nitish24singh']\n"
     ]
    }
   ],
   "source": [
    "import re\n",
    "email = input(\"Enter your Email ID: \")\n",
    "pattern = r'(.+)@.'\n",
    "user_name = re.findall(pattern, email)\n",
    "print(user_name)"
   ]
  },
  {
   "cell_type": "markdown",
   "id": "2688396d",
   "metadata": {},
   "source": [
    "## 51. Count the frequency of a particular character in a provided string. Eg 'hello how are you' is the string, the frequency of h in this string is 2."
   ]
  },
  {
   "cell_type": "code",
   "execution_count": 322,
   "id": "47299130",
   "metadata": {},
   "outputs": [
    {
     "name": "stdout",
     "output_type": "stream",
     "text": [
      "Enter any string: hello how are you\n",
      "Enter the charactor: h\n",
      "Your count of 'h' is: 2\n"
     ]
    }
   ],
   "source": [
    "string = input(\"Enter any string: \")\n",
    "char = input(\"Enter the charactor: \")\n",
    "count = 0\n",
    "for i in string:\n",
    "    if i in char:\n",
    "        count = count + 1\n",
    "print(\"Your count of '{}' is: {}\".format(char,count))"
   ]
  },
  {
   "cell_type": "markdown",
   "id": "98bd2fd1",
   "metadata": {},
   "source": [
    "## 52. Find the index position of a particular character in another string. "
   ]
  },
  {
   "cell_type": "code",
   "execution_count": 5,
   "id": "89f5cc22",
   "metadata": {},
   "outputs": [
    {
     "name": "stdout",
     "output_type": "stream",
     "text": [
      "Enter your string: hi hello how are you ?\n",
      "Enter charactor: o\n",
      "Index position of 'o' is: 7\n"
     ]
    }
   ],
   "source": [
    "mystr = input(\"Enter your string: \")\n",
    "char = input(\"Enter charactor: \")\n",
    "print(\"Index position of '{}' is: {}\".format(char,mystr.index(char)))"
   ]
  },
  {
   "cell_type": "markdown",
   "id": "da4a0f38",
   "metadata": {},
   "source": [
    "## 53. Count the number of vowels in a string provided by the user."
   ]
  },
  {
   "cell_type": "code",
   "execution_count": 11,
   "id": "42e4ff06",
   "metadata": {},
   "outputs": [
    {
     "name": "stdout",
     "output_type": "stream",
     "text": [
      "Enter your string: Hello Navnath Satre Here\n",
      "Total no. of vowels are:  8\n"
     ]
    }
   ],
   "source": [
    "mystr = input(\"Enter your string: \")\n",
    "vowels = 'aeiou'\n",
    "count = 0\n",
    "for i in mystr.casefold():\n",
    "    if i in vowels:\n",
    "        count = count + 1\n",
    "print(\"Total no. of vowels are: \",count)"
   ]
  },
  {
   "cell_type": "markdown",
   "id": "79039134",
   "metadata": {},
   "source": [
    "## 54. Write a program which can remove a particular character from a string. "
   ]
  },
  {
   "cell_type": "code",
   "execution_count": 13,
   "id": "d01818c6",
   "metadata": {},
   "outputs": [
    {
     "name": "stdout",
     "output_type": "stream",
     "text": [
      "Enter your string: navnath\n",
      "Enter charactor which you want to remove: n\n"
     ]
    },
    {
     "data": {
      "text/plain": [
       "'avath'"
      ]
     },
     "execution_count": 13,
     "metadata": {},
     "output_type": "execute_result"
    }
   ],
   "source": [
    "mystr = input(\"Enter your string: \")\n",
    "char = input(\"Enter charactor which you want to remove: \")\n",
    "mystr.replace(char,'')"
   ]
  },
  {
   "cell_type": "code",
   "execution_count": 17,
   "id": "7d31cd2a",
   "metadata": {},
   "outputs": [
    {
     "name": "stdout",
     "output_type": "stream",
     "text": [
      "Enter your string: navnath\n",
      "Enter position(from left) which you want to remove: 3\n",
      "nanath\n"
     ]
    }
   ],
   "source": [
    "mystr = input(\"Enter your string: \")\n",
    "char = int(input(\"Enter position(from left) which you want to remove: \"))\n",
    "a = mystr[0:char-1]\n",
    "b = mystr[char:]\n",
    "print(a+b)"
   ]
  },
  {
   "cell_type": "markdown",
   "id": "1b99eec9",
   "metadata": {},
   "source": [
    "## 55. Write a program that can check whether a given string is palindrome or not."
   ]
  },
  {
   "cell_type": "code",
   "execution_count": 20,
   "id": "34c2d17f",
   "metadata": {},
   "outputs": [
    {
     "name": "stdout",
     "output_type": "stream",
     "text": [
      "Enter your syring: malayalam\n",
      "Palindrom\n"
     ]
    }
   ],
   "source": [
    "str1 = input(\"Enter your syring: \")\n",
    "if str1 == str1[::-1]:\n",
    "    print(\"Palindrom\")\n",
    "else:\n",
    "    print(\"Not Palindrom\")"
   ]
  },
  {
   "cell_type": "code",
   "execution_count": 25,
   "id": "69cd341e",
   "metadata": {},
   "outputs": [
    {
     "name": "stdout",
     "output_type": "stream",
     "text": [
      "Enter your syring: navnath\n",
      "Not Palindrom\n"
     ]
    }
   ],
   "source": [
    "str1 = input(\"Enter your syring: \")\n",
    "rev = ''.join(reversed(str1))\n",
    "if str1 == rev:\n",
    "    print(\"Palindrom\")\n",
    "else:\n",
    "    print(\"Not Palindrom\")"
   ]
  },
  {
   "cell_type": "code",
   "execution_count": 30,
   "id": "c995e88a",
   "metadata": {},
   "outputs": [
    {
     "name": "stdout",
     "output_type": "stream",
     "text": [
      "Enter your syring: malayalam\n",
      "Palindrom\n"
     ]
    }
   ],
   "source": [
    "str1 = input(\"Enter your syring: \")\n",
    "w = ''\n",
    "for i in str1:\n",
    "    w = i + w # malayalam\n",
    "if w == str1:\n",
    "    print(\"Palindrom\")\n",
    "else:\n",
    "    print(\"Not Palindrom\")"
   ]
  },
  {
   "cell_type": "code",
   "execution_count": 33,
   "id": "dc555333",
   "metadata": {},
   "outputs": [
    {
     "name": "stdout",
     "output_type": "stream",
     "text": [
      "Enter your syring: maam\n",
      "Palindrom\n"
     ]
    }
   ],
   "source": [
    "str1 = input(\"Enter your syring: \")\n",
    "rev = ''\n",
    "for i in range(len(str1)-1,-1,-1):\n",
    "    rev = rev + str1[i]\n",
    "if str1 == rev:\n",
    "    print(\"Palindrom\")\n",
    "else:\n",
    "    print(\"Not Palindrom\")"
   ]
  },
  {
   "cell_type": "markdown",
   "id": "24503a31",
   "metadata": {},
   "source": [
    "## 56. Write a python program to remove all the duplicates from a list"
   ]
  },
  {
   "cell_type": "code",
   "execution_count": 37,
   "id": "6707cdb0",
   "metadata": {},
   "outputs": [
    {
     "name": "stdout",
     "output_type": "stream",
     "text": [
      "before length:  16\n",
      "[0, 1, 2, 3, 4, 5, 6, 7, 8, 9, 81, 18]\n",
      "after length:  12\n"
     ]
    }
   ],
   "source": [
    "# using set()\n",
    "lst = [1,2,3,4,0,5,6,7,7,9,81,8,18,8,2,4]\n",
    "print(\"before length: \",len(lst))\n",
    "print(list(set(lst)))\n",
    "print(\"after length: \",len(list(set(lst))))"
   ]
  },
  {
   "cell_type": "code",
   "execution_count": 38,
   "id": "c81d9827",
   "metadata": {},
   "outputs": [
    {
     "name": "stdout",
     "output_type": "stream",
     "text": [
      "[1, 2, 3, 4, 0, 5, 6, 7, 9, 81, 8, 18]\n"
     ]
    }
   ],
   "source": [
    "# using new list\n",
    "lst = [1,2,3,4,0,5,6,7,7,9,81,8,18,8,2,4]\n",
    "new_lst = []\n",
    "for i in lst:\n",
    "    if i not in new_lst:\n",
    "        new_lst.append(i)\n",
    "print(new_lst)"
   ]
  },
  {
   "cell_type": "code",
   "execution_count": 44,
   "id": "276824e0",
   "metadata": {},
   "outputs": [
    {
     "name": "stdout",
     "output_type": "stream",
     "text": [
      "[1, 2, 3, 4, 0, 5, 6, 7, 9, 81, 8, 18]\n"
     ]
    }
   ],
   "source": [
    "# using list comprehension\n",
    "lst = [1,2,3,4,0,5,6,7,7,9,81,8,18,8,2,4]\n",
    "new_lst = []\n",
    "[new_lst.append(i) for i in lst if i not in new_lst]\n",
    "print(str(new_lst))"
   ]
  },
  {
   "cell_type": "markdown",
   "id": "a0959c30",
   "metadata": {},
   "source": [
    "## 57. Write a python program to convert a string to title case without using the title()"
   ]
  },
  {
   "cell_type": "code",
   "execution_count": 48,
   "id": "9e33118f",
   "metadata": {},
   "outputs": [
    {
     "name": "stdout",
     "output_type": "stream",
     "text": [
      "Enter your syring: nAVNATH sATRE\n",
      "Navnath Satre \n"
     ]
    }
   ],
   "source": [
    "str1 = input(\"Enter your syring: \")\n",
    "x = str1.split()\n",
    "# print(x)\n",
    "r=''\n",
    "for i in x:\n",
    "    r = r + i[0].upper() + i[1:].lower() +' '\n",
    "print(r)"
   ]
  },
  {
   "cell_type": "markdown",
   "id": "50e4d32a",
   "metadata": {},
   "source": [
    "## 58. Write a python program to find the max item from a list without using the max function"
   ]
  },
  {
   "cell_type": "code",
   "execution_count": 49,
   "id": "21dbaae2",
   "metadata": {},
   "outputs": [
    {
     "name": "stdout",
     "output_type": "stream",
     "text": [
      "Maximum is:  9\n"
     ]
    }
   ],
   "source": [
    "lst = [8,9,2,4,1,6,4,7,1]\n",
    "Max = lst[0]\n",
    "for i in lst:\n",
    "    if i > Max:\n",
    "        Max = i\n",
    "print(\"Maximum is: \",Max)"
   ]
  },
  {
   "cell_type": "code",
   "execution_count": 51,
   "id": "e45905bb",
   "metadata": {},
   "outputs": [
    {
     "name": "stdout",
     "output_type": "stream",
     "text": [
      "Maximum is:  9\n"
     ]
    }
   ],
   "source": [
    "lst = [8,9,2,4,1,6,4,7,1]\n",
    "print(\"Maximum is: \",sorted(lst)[-1])"
   ]
  },
  {
   "cell_type": "markdown",
   "id": "1c37d879",
   "metadata": {},
   "source": [
    "## 59. Write a python program to reverse a list"
   ]
  },
  {
   "cell_type": "code",
   "execution_count": 1,
   "id": "fa916aa8",
   "metadata": {},
   "outputs": [
    {
     "name": "stdout",
     "output_type": "stream",
     "text": [
      "[10, 9, 8, 7, 6, 5, 4, 3, 2, 1]\n"
     ]
    }
   ],
   "source": [
    "lst = [1,2,3,4,5,6,7,8,9,10]\n",
    "print(lst[::-1])"
   ]
  },
  {
   "cell_type": "code",
   "execution_count": 3,
   "id": "ae0ae6cc",
   "metadata": {},
   "outputs": [
    {
     "name": "stdout",
     "output_type": "stream",
     "text": [
      "[10, 9, 8, 7, 6, 5, 4, 3, 2, 1]\n"
     ]
    }
   ],
   "source": [
    "lst = [1,2,3,4,5,6,7,8,9,10]\n",
    "rev = []\n",
    "for i in range(len(lst)-1,-1,-1):\n",
    "    rev.append(lst[i])\n",
    "print(rev)"
   ]
  },
  {
   "cell_type": "markdown",
   "id": "8019f8b8",
   "metadata": {},
   "source": [
    "## 60. Write a python program to search a given number from a list"
   ]
  },
  {
   "cell_type": "code",
   "execution_count": 8,
   "id": "07f23586",
   "metadata": {},
   "outputs": [
    {
     "name": "stdout",
     "output_type": "stream",
     "text": [
      "Enter your number to search:15\n",
      "False\n"
     ]
    }
   ],
   "source": [
    "lst = [1,2,3,4,5,6,7,8,9,10]\n",
    "num = int(input(\"Enter your number to search:\"))\n",
    "for i in lst:\n",
    "    if i == num:\n",
    "        print(\"True\")\n",
    "        break\n",
    "else:\n",
    "    print(\"False\")"
   ]
  }
 ],
 "metadata": {
  "kernelspec": {
   "display_name": "Python 3 (ipykernel)",
   "language": "python",
   "name": "python3"
  },
  "language_info": {
   "codemirror_mode": {
    "name": "ipython",
    "version": 3
   },
   "file_extension": ".py",
   "mimetype": "text/x-python",
   "name": "python",
   "nbconvert_exporter": "python",
   "pygments_lexer": "ipython3",
   "version": "3.8.10"
  },
  "toc": {
   "base_numbering": 1,
   "nav_menu": {},
   "number_sections": true,
   "sideBar": true,
   "skip_h1_title": false,
   "title_cell": "Table of Contents",
   "title_sidebar": "Contents",
   "toc_cell": false,
   "toc_position": {
    "height": "calc(100% - 180px)",
    "left": "10px",
    "top": "150px",
    "width": "165px"
   },
   "toc_section_display": true,
   "toc_window_display": true
  },
  "varInspector": {
   "cols": {
    "lenName": 16,
    "lenType": 16,
    "lenVar": 40
   },
   "kernels_config": {
    "python": {
     "delete_cmd_postfix": "",
     "delete_cmd_prefix": "del ",
     "library": "var_list.py",
     "varRefreshCmd": "print(var_dic_list())"
    },
    "r": {
     "delete_cmd_postfix": ") ",
     "delete_cmd_prefix": "rm(",
     "library": "var_list.r",
     "varRefreshCmd": "cat(var_dic_list()) "
    }
   },
   "types_to_exclude": [
    "module",
    "function",
    "builtin_function_or_method",
    "instance",
    "_Feature"
   ],
   "window_display": false
  }
 },
 "nbformat": 4,
 "nbformat_minor": 5
}
