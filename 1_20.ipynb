{
 "cells": [
  {
   "cell_type": "markdown",
   "id": "e8a41d4c",
   "metadata": {},
   "source": [
    "## 1. User will input (3ages).Find the oldest one"
   ]
  },
  {
   "cell_type": "code",
   "execution_count": 2,
   "id": "5569ad3e",
   "metadata": {},
   "outputs": [
    {
     "name": "stdout",
     "output_type": "stream",
     "text": [
      "Enter the age for person A: 10\n",
      "Enter the age for person B: 20\n",
      "Enter the age for person C: 5\n",
      "Person B is older\n"
     ]
    }
   ],
   "source": [
    "A = int(input('Enter the age for person A: '))\n",
    "B = int(input('Enter the age for person B: '))\n",
    "C = int(input('Enter the age for person C: '))\n",
    "if A > B:\n",
    "    if A > C:\n",
    "        print('Person A is older')\n",
    "    else:\n",
    "        print('Person C is older')\n",
    "else:\n",
    "    print('Person B is older')"
   ]
  },
  {
   "cell_type": "markdown",
   "id": "99bc129c",
   "metadata": {},
   "source": [
    "## 2.Write a program that will convert celsius value to fahrenheit"
   ]
  },
  {
   "cell_type": "code",
   "execution_count": 3,
   "id": "1420b1d3",
   "metadata": {},
   "outputs": [
    {
     "name": "stdout",
     "output_type": "stream",
     "text": [
      "Enter the value In Celsius : 38\n",
      "Value in Fahrenheit : 100.4\n"
     ]
    }
   ],
   "source": [
    "C = float(input(\"Enter the value In Celsius : \"))\n",
    "F = C*1.8+32   # F = C(9/5) + 32\n",
    "print(\"Value in Fahrenheit : {}\".format(F))"
   ]
  },
  {
   "cell_type": "markdown",
   "id": "770d6a89",
   "metadata": {},
   "source": [
    "## 3. User will input (2numbers).Write a program to swap the numbers"
   ]
  },
  {
   "cell_type": "code",
   "execution_count": 4,
   "id": "fcabec66",
   "metadata": {},
   "outputs": [
    {
     "name": "stdout",
     "output_type": "stream",
     "text": [
      "enter no. : 4\n",
      "enter no. : 6\n",
      "no1 :  6\n",
      "no2 :  4\n"
     ]
    }
   ],
   "source": [
    "no1 = int(input(\"enter no. : \"))\n",
    "no2 = int(input(\"enter no. : \"))\n",
    "temp = no1\n",
    "no1 = no2\n",
    "no2 = temp\n",
    "print(\"no1 : \",no1)\n",
    "print(\"no2 : \",no2)"
   ]
  },
  {
   "cell_type": "markdown",
   "id": "19bc8a81",
   "metadata": {},
   "source": [
    "## 4 Write a program that will give you the sum of 3 digits"
   ]
  },
  {
   "cell_type": "code",
   "execution_count": 9,
   "id": "15fe5609",
   "metadata": {},
   "outputs": [
    {
     "name": "stdout",
     "output_type": "stream",
     "text": [
      "Enter three digit number: 231\n",
      "Sum of 3 ditits : 6\n"
     ]
    }
   ],
   "source": [
    "num = int(input(\"Enter three digit number: \"))\n",
    "a = num % 10      # 123 % 10 = 3\n",
    "num = num // 10   # 123 // 10 = 12\n",
    "b = num % 10      # 12 % 10 = 2\n",
    "c = num //10      # 12 // 10 = 1\n",
    "sum_ = a+b+c\n",
    "print(\"Sum of 3 digits :\",sum_)"
   ]
  },
  {
   "cell_type": "markdown",
   "id": "c61175a5",
   "metadata": {},
   "source": [
    "## 5. Write a program that will reverse a four digit number.Also it checks whether the reverse is true."
   ]
  },
  {
   "cell_type": "code",
   "execution_count": 11,
   "id": "0bb2a836",
   "metadata": {},
   "outputs": [
    {
     "name": "stdout",
     "output_type": "stream",
     "text": [
      "1881\n",
      "Original no.:  1881\n",
      "Reverse no. : 1881\n",
      "Yes\n"
     ]
    }
   ],
   "source": [
    "user_input = int(input())\n",
    "num = user_input\n",
    "a = num % 10 \n",
    "num = num // 10\n",
    "b = num % 10\n",
    "num = num //10\n",
    "c = num % 10\n",
    "d = num // 10\n",
    "\n",
    "rev = 1000*a + 100*b + 10*c + d\n",
    "print(\"Original no.: \",user_input)\n",
    "print(\"Reverse no. :\",rev)\n",
    "if user_input == rev:\n",
    "    print(\"Yes\")\n",
    "else:\n",
    "    print(\"No\")"
   ]
  },
  {
   "cell_type": "markdown",
   "id": "a742b0a6",
   "metadata": {},
   "source": [
    "## 6. Write a program that will tell whether the number entered by the user is odd or even."
   ]
  },
  {
   "cell_type": "code",
   "execution_count": 13,
   "id": "ef33f8a4",
   "metadata": {},
   "outputs": [
    {
     "name": "stdout",
     "output_type": "stream",
     "text": [
      "Enter any number: 9097\n",
      "Given number is ODD\n"
     ]
    }
   ],
   "source": [
    "num = int(input(\"Enter any number: \"))\n",
    "if num % 2 == 0:\n",
    "    print(\"Given number is EVEN\")\n",
    "else:\n",
    "    print(\"Given number is ODD\")"
   ]
  },
  {
   "cell_type": "markdown",
   "id": "53bd69c6",
   "metadata": {},
   "source": [
    "## 7. Write a program that will tell whether the given year is a leap year or not."
   ]
  },
  {
   "cell_type": "code",
   "execution_count": 16,
   "id": "51e0530c",
   "metadata": {},
   "outputs": [
    {
     "name": "stdout",
     "output_type": "stream",
     "text": [
      "enter year: 2024\n",
      "Yehhheeee.... !!!, leap year\n"
     ]
    }
   ],
   "source": [
    "year = int(input(\"enter year: \"))\n",
    "if year % 400 == 0 or year % 100 != 0 and year % 4 == 0: \n",
    "    print(\"Yehhheeee.... !!!, leap year\")\n",
    "else:\n",
    "    print(\"Ohhh.. Not leap year\")"
   ]
  },
  {
   "cell_type": "markdown",
   "id": "1b471ce0",
   "metadata": {},
   "source": [
    "## 8. Write a program to find the euclidean distance between two coordinates."
   ]
  },
  {
   "cell_type": "code",
   "execution_count": 17,
   "id": "72a3657c",
   "metadata": {},
   "outputs": [
    {
     "name": "stdout",
     "output_type": "stream",
     "text": [
      "2\n",
      "3\n",
      "4\n",
      "5\n",
      "Euclidean Distence:  1.4142135623730951\n"
     ]
    }
   ],
   "source": [
    "import numpy as np\n",
    "x1 = float(input())\n",
    "x2 = float(input())\n",
    "y1 = float(input())\n",
    "y2 = float(input())\n",
    "d = np.sqrt(np.power(x2-x1,2)+np.power(y2-y1,2))\n",
    "print(\"Euclidean Distence: \",d)"
   ]
  },
  {
   "cell_type": "markdown",
   "id": "a3a42a1e",
   "metadata": {},
   "source": [
    "## 9. Write a program that take a user input of three angles and will find out whether it can form a triangle or not."
   ]
  },
  {
   "cell_type": "code",
   "execution_count": 19,
   "id": "92ef3f05",
   "metadata": {
    "scrolled": true
   },
   "outputs": [
    {
     "name": "stdout",
     "output_type": "stream",
     "text": [
      "enter angle a: 45\n",
      "enter angle b: 45\n",
      "enter angle c: 90\n",
      "Yes.. It can be Triangle\n"
     ]
    }
   ],
   "source": [
    "a = int(input(\"enter angle a: \"))\n",
    "b = int(input(\"enter angle b: \"))\n",
    "c = int(input(\"enter angle c: \"))\n",
    "if a+b+c == 180 and a!=0 and b!=0 and c!=0:\n",
    "    print(\"Yes.. It can be Triangle\")\n",
    "else:\n",
    "    print(\"Sorry, This is not a Triangle\")"
   ]
  },
  {
   "cell_type": "markdown",
   "id": "16206a6b",
   "metadata": {},
   "source": [
    "## 10. Write a program that will take user input of cost price and selling price Determines whether its a loss or a profit"
   ]
  },
  {
   "cell_type": "code",
   "execution_count": 20,
   "id": "91310e6f",
   "metadata": {},
   "outputs": [
    {
     "name": "stdout",
     "output_type": "stream",
     "text": [
      "Cost Price: 432\n",
      "Selling Price: 32432\n",
      "Profit:  32000.0\n"
     ]
    }
   ],
   "source": [
    "CP = float(input(\"Cost Price: \"))\n",
    "SP = float(input(\"Selling Price: \"))\n",
    "if CP < SP :\n",
    "    amount = SP - CP\n",
    "    print(\"Profit: \",amount)\n",
    "else:\n",
    "    amount = CP - SP\n",
    "    print(\"Loss: \",amount)"
   ]
  },
  {
   "cell_type": "markdown",
   "id": "6e03e324",
   "metadata": {},
   "source": [
    "## 11. Write a program to find the simple interest when the value of principle,rate of interest and time period is given."
   ]
  },
  {
   "cell_type": "code",
   "execution_count": 26,
   "id": "5e5227c3",
   "metadata": {},
   "outputs": [
    {
     "name": "stdout",
     "output_type": "stream",
     "text": [
      "Enter principle value: 40000\n",
      "Enter rate of  interest: 8.5\n",
      "Enter time period: 1.5\n",
      "~~~~~~~~~~~~~~~Simple interest is ~~~~~~~~~~~~~~~~ 5100.0\n",
      "~~~~~~~~~~~~~~~~~Your Amount is ~~~~~~~~~~~~~~~~~~ 45100.0\n"
     ]
    }
   ],
   "source": [
    "Principle_value = float(input(\"Enter principle value: \"))\n",
    "Rate_of_interest = float(input(\"Enter rate of  interest: \"))\n",
    "Time_period = float(input(\"Enter time period: \"))\n",
    "\n",
    "Simple_interest = (Principle_value * Rate_of_interest * Time_period)/100\n",
    "\n",
    "print(\"Simple interest is \".center(50,'~'),Simple_interest)\n",
    "Amount = Principle_value + Simple_interest\n",
    "print(\"Your Amount is \".center(50,'~'), Amount)"
   ]
  },
  {
   "cell_type": "markdown",
   "id": "34354dfd",
   "metadata": {},
   "source": [
    "## 12.Write a program to find the volume of the cylinder. Also find the cost when the cost of 1litre milk is 40Rs."
   ]
  },
  {
   "cell_type": "code",
   "execution_count": 29,
   "id": "68497b54",
   "metadata": {},
   "outputs": [
    {
     "name": "stdout",
     "output_type": "stream",
     "text": [
      "Enter radius: 2\n",
      "Enter height: 10\n",
      "~~~~~~~~~~~~~~~~~~~~~~~~~~~~~Volum of cylinder is  125.66\n",
      "~~~~~~~~~~~~~~~~~~~~~~~~~~~~~~~~~~Cost of milk is  5.03\n"
     ]
    }
   ],
   "source": [
    "radius = float(input(\"Enter radius: \"))\n",
    "height = float(input(\"Enter height: \"))\n",
    "volum = np.pi * np.square(radius) * height\n",
    "print(\"Volum of cylinder is \".rjust(50,'~'),np.round(volum,2))\n",
    "cost = (volum * 40)/1000\n",
    "print(\"Cost of milk is \".rjust(50,'~'), np.round(cost,2))"
   ]
  },
  {
   "cell_type": "markdown",
   "id": "cf6d4712",
   "metadata": {},
   "source": [
    "## 13. Write  a program that will tell whether the given number is divisible by 3 & 6"
   ]
  },
  {
   "cell_type": "code",
   "execution_count": 31,
   "id": "63f541e6",
   "metadata": {},
   "outputs": [
    {
     "name": "stdout",
     "output_type": "stream",
     "text": [
      "Enter the number: 12\n",
      "Yes, Your number is divisible by 3 and 6\n"
     ]
    }
   ],
   "source": [
    "num = int(input(\"Enter the number: \"))\n",
    "if num % 6 == 0 and num % 3 == 0:\n",
    "    print(\"Yes, Your number is divisible by 3 and 6\")\n",
    "else:\n",
    "    print(\"Ohhh.. your number is not divisible by 3 & 6\")"
   ]
  },
  {
   "cell_type": "markdown",
   "id": "65a0621c",
   "metadata": {},
   "source": [
    "## 14. Write a program that will determine weather when the value of temperature and humidity is provided by the user.\n",
    "|TEMPERATURE(C)|HUMIDITY(%)|WEATHER|\n",
    "|---|---|---|\n",
    "|>= 30|>=90|Hot and Humid|\n",
    "|>= 30|< 90|Hot|\n",
    "|<30|>= 90|Cool and Humid|\n",
    "|<30|<90|Cool|"
   ]
  },
  {
   "cell_type": "code",
   "execution_count": 32,
   "id": "af0e1764",
   "metadata": {},
   "outputs": [
    {
     "name": "stdout",
     "output_type": "stream",
     "text": [
      "35\n",
      "90\n",
      "Hot and Humid\n"
     ]
    }
   ],
   "source": [
    "T = float(input())\n",
    "H = float(input())\n",
    "if T >= 30 and H >= 90:\n",
    "    print(\"Hot and Humid\")\n",
    "elif T >= 30 and H < 90:\n",
    "    print(\"Hot\")\n",
    "elif T < 30 and H >= 90:\n",
    "    print(\"Cold and Humid\")\n",
    "else:\n",
    "    print(\"Cool\")"
   ]
  },
  {
   "cell_type": "markdown",
   "id": "6a78ce0e",
   "metadata": {},
   "source": [
    "## 15. Write a program that will take three digits from the user and add the square of each digit."
   ]
  },
  {
   "cell_type": "code",
   "execution_count": 34,
   "id": "74d71eb7",
   "metadata": {},
   "outputs": [
    {
     "name": "stdout",
     "output_type": "stream",
     "text": [
      "Enter three digit number: 123\n",
      "Square of each digit is :  14\n"
     ]
    }
   ],
   "source": [
    "user_num = int(input(\"Enter three digit number: \"))\n",
    "num = user_num\n",
    "a = num % 10\n",
    "num = num //10\n",
    "b = num % 10 \n",
    "c = num //10\n",
    "N = a**2 + b**2 + c**2\n",
    "print(\"Square of each digit is : \",N)"
   ]
  },
  {
   "cell_type": "markdown",
   "id": "1614b465",
   "metadata": {},
   "source": [
    "## 16. Write a program that will check whether the number is armstrong number or not."
   ]
  },
  {
   "cell_type": "code",
   "execution_count": 42,
   "id": "6eee45de",
   "metadata": {},
   "outputs": [
    {
     "name": "stdout",
     "output_type": "stream",
     "text": [
      "Enter the number: 1312\n",
      "Not Armstrong\n"
     ]
    }
   ],
   "source": [
    "# Armstrong Number:The number whose sum of each digit powered with \n",
    "# the total number of digits is the same as the given number\n",
    "user_num = int(input(\"Enter the number: \"))\n",
    "temp = user_num\n",
    "m = len(str(user_num))\n",
    "add_sum = 0\n",
    "while temp != 0:\n",
    "    k = temp % 10\n",
    "    add_sum = add_sum + k**m\n",
    "    temp = temp //10\n",
    "if add_sum == user_num:\n",
    "    print(\"Given number is Armstrong \")\n",
    "else:\n",
    "    print(\"Not Armstrong\")"
   ]
  },
  {
   "cell_type": "markdown",
   "id": "6ccf29ae",
   "metadata": {},
   "source": [
    "## 17. Write a program that will take user input of (4 digits number) and check whether the number is narcissist number or not."
   ]
  },
  {
   "cell_type": "code",
   "execution_count": 45,
   "id": "c7b2b506",
   "metadata": {},
   "outputs": [
    {
     "name": "stdout",
     "output_type": "stream",
     "text": [
      "Enter 4 digit number: 8208\n",
      "Number is Narcissist\n"
     ]
    }
   ],
   "source": [
    "# Suppose we have a number n; we have to check whether it is equal \n",
    "#to the sum of the digits of n to the power of the number of digits(similar to armstrong no.)\n",
    "user_num = int(input(\"Enter 4 digit number: \"))\n",
    "num = user_num\n",
    "a = num % 10\n",
    "num = num // 10\n",
    "b = num % 10\n",
    "num = num //10\n",
    "c = num % 10 \n",
    "d = num //10\n",
    "S = a**4 + b**4 + c**4 + d**4\n",
    "if S == user_num:\n",
    "    print(\"Number is Narcissist\")\n",
    "else:\n",
    "    print(\"Not Nuecissist\")"
   ]
  },
  {
   "cell_type": "markdown",
   "id": "8f615026",
   "metadata": {},
   "source": [
    "## 18. Write a program that will give you the in hand salary after deduction of HRA(10%),DA(5%),PF(3%), and tax(if salary is between 5-10 lakh–10%),(11-20lakh–20%),(20< _   – 30%)(0-1lakh print k)."
   ]
  },
  {
   "cell_type": "code",
   "execution_count": 72,
   "id": "50a9b842",
   "metadata": {},
   "outputs": [
    {
     "name": "stdout",
     "output_type": "stream",
     "text": [
      "Enter your Annual Salary: 9000000\n",
      "After tax reduction:  6300000.0\n",
      "In hand salary is(monthly):  430500.0\n",
      "4.3 L\n"
     ]
    }
   ],
   "source": [
    "user_input = float(input(\"Enter your Annual Salary: \"))\n",
    "if user_input > 0 and user_input <500000:\n",
    "    temp_salary = user_input\n",
    "elif user_input >= 500000 and user_input <1000000:\n",
    "    tax = (10/100)*user_input\n",
    "    temp_salary = user_input - tax\n",
    "elif user_input >=1000000 and user_input < 2000000:\n",
    "    tax = (20/100)*user_input\n",
    "    temp_salary = user_input - tax\n",
    "else:\n",
    "    tax = (30/100)*user_input\n",
    "    temp_salary = user_input - tax\n",
    "    \n",
    "print(\"After tax reduction: \", temp_salary)\n",
    "\n",
    "hra = (10/100)*temp_salary\n",
    "da = (5/100)*temp_salary\n",
    "pf = (3/100)*temp_salary\n",
    "\n",
    "inhand_salary = (temp_salary - hra - da - pf)/12\n",
    "print(\"In hand salary is(monthly): \", np.round(inhand_salary,2))\n",
    "\n",
    "if inhand_salary < 999:\n",
    "    print(inhand_salary)\n",
    "elif inhand_salary >= 1000 and inhand_salary <= 99999:\n",
    "    print(np.round(inhand_salary/1000,2),'K')\n",
    "elif inhand_salary >= 100000 and inhand_salary <= 999999:\n",
    "    print(np.round(inhand_salary/100000,2),'L')\n",
    "else:\n",
    "    print(np.round(inhand_salary/10000000,2),'Cr')"
   ]
  },
  {
   "cell_type": "markdown",
   "id": "9696db2d",
   "metadata": {},
   "source": [
    "## 19. Write a menu driven program - 1.cm to ft  2.kl to miles  3.usd to inr  4.exit"
   ]
  },
  {
   "cell_type": "code",
   "execution_count": 83,
   "id": "167323a7",
   "metadata": {},
   "outputs": [
    {
     "name": "stdout",
     "output_type": "stream",
     "text": [
      "Enter \n",
      "1 for cm to ft\n",
      "2 for kl to miles\n",
      "3 for usd to inr\n",
      "4 exit\n",
      "\n",
      "3\n",
      "enter value in usd: 150\n",
      "11706.000000000002 inr\n"
     ]
    }
   ],
   "source": [
    "user_input = input('''Enter \n",
    "1 for cm to ft\n",
    "2 for kl to miles\n",
    "3 for usd to inr\n",
    "4 exit\n",
    "\n",
    "''')\n",
    "\n",
    "if user_input == '1':\n",
    "    cm = float(input(\"enter value in cm: \"))\n",
    "    ft = cm * 0.03281\n",
    "    print(ft,'ft')\n",
    "elif user_input == '2':\n",
    "    kl = float(input(\"enter value in kl: \"))\n",
    "    mile = kl * 0.621371\n",
    "    print(mile, 'mile')\n",
    "elif user_input == '3':\n",
    "    usd = float(input(\"enter value in usd: \"))\n",
    "    inr = usd * 78.04\n",
    "    print(inr,'inr')\n",
    "else:\n",
    "    print('Exit')"
   ]
  },
  {
   "cell_type": "markdown",
   "id": "98b411ea",
   "metadata": {},
   "source": [
    "## 20. Write a program that will tell the number of dogs and chicken are there when the user will provide the value of total heads and legs."
   ]
  },
  {
   "cell_type": "code",
   "execution_count": 91,
   "id": "254e3823",
   "metadata": {},
   "outputs": [
    {
     "name": "stdout",
     "output_type": "stream",
     "text": [
      "Enter the no. of heads: 75\n",
      "Enter the no. of leags: 181\n",
      "No. of chickens:  59\n",
      "No. of dogs:  15\n"
     ]
    }
   ],
   "source": [
    "h = int(input(\"Enter the no. of heads: \"))\n",
    "l = int(input(\"Enter the no. of leags: \"))\n",
    "'''\n",
    "d + c = h   => d = h - c\n",
    "2c + 4d = l => 2c + 4(h-c) = l => 2c = 4h - l => c = 2*h -(l/2) \n",
    "'''\n",
    "if h <= l:\n",
    "    c = 2*h - (l/2)\n",
    "    print(\"No. of chickens: \",int(c))\n",
    "    d = h - c\n",
    "    print(\"No. of dogs: \", int(d))\n",
    "else:\n",
    "    print(\"Not Possible\")\n",
    "    "
   ]
  },
  {
   "cell_type": "code",
   "execution_count": null,
   "id": "52340274",
   "metadata": {},
   "outputs": [],
   "source": []
  }
 ],
 "metadata": {
  "kernelspec": {
   "display_name": "Python 3 (ipykernel)",
   "language": "python",
   "name": "python3"
  },
  "language_info": {
   "codemirror_mode": {
    "name": "ipython",
    "version": 3
   },
   "file_extension": ".py",
   "mimetype": "text/x-python",
   "name": "python",
   "nbconvert_exporter": "python",
   "pygments_lexer": "ipython3",
   "version": "3.8.10"
  }
 },
 "nbformat": 4,
 "nbformat_minor": 5
}
